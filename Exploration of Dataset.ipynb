{
 "cells": [
  {
   "cell_type": "markdown",
   "metadata": {},
   "source": [
    "# 2. Exploration of Dataset\n",
    "\n",
    "\n",
    "The dataset consists of 10 numerical and 8 categorical attributes. Of which, 9 relevant attributes have been selected (5 numerical and 4 categorical).\n",
    "\n",
    "The 'Revenue' attribute is the class label.\n",
    "\n",
    "Description of Dataset. (Taken from UCI repository, those in bold are the selected attributes)\n",
    "\n",
    "\"**Product Related**\" and \"**Product Related Duration**\" represent the number of different types of pages visited by the visitor in that session and total time spent in each of these page categories. The values of these features are derived from the URL information of the pages visited by the user and updated in real time when a user takes an action, e.g. moving from one page to another. \n",
    "\n",
    "The \"**Bounce Rate**\" and \"**Exit Rate**\" features represent the metrics measured by \"Google Analytics\" for each page in the e-commerce site. The value of \"Bounce Rate\" feature for a web page refers to the percentage of visitors who enter the site from that page and then leave (\"bounce\") without triggering any other requests to the analytics server during that session. The value of \"Exit Rate\" feature for a specific web page is calculated as for all pageviews to the page, the percentage that were the last in the session. \n",
    "\n",
    "The \"**Special Day**\" feature indicates the closeness of the site visiting time to a specific special day (e.g. Mother’s Day, Valentine's Day) in which the sessions are more likely to be finalized with transaction. The value of this attribute is determined by considering the dynamics of e-commerce such as the duration between the order date and delivery date. For example, for Valentine’s day, this value takes a nonzero value between February 2 and February 12, zero before and after this date unless it is close to another special day, and its maximum value of 1 on February 8. \n",
    "\n",
    "The dataset also includes **region**, **visitor type** as returning or new visitor, a Boolean value indicating whether the date of the visit is **weekend**, and **month** of the year."
   ]
  },
  {
   "cell_type": "code",
   "execution_count": null,
   "metadata": {},
   "outputs": [],
   "source": [
    "# retrieve just the probabilities for the positive class\n",
    "y_prob_categorical = classifier.predict_proba(x_test)[:,1]\n",
    "\n",
    "# summarize the distribution of class labels\n",
    "print(Counter(y_pred_test))\n",
    "\n",
    "# Function to obtain the false positive, true positive, roc_auc score and largest g-mean threshold\n",
    "\n",
    "def roc_curve_and_score(y_test, pred_proba):\n",
    "    fpr, tpr, thresholds = roc_curve(y_test.ravel(), pred_proba.ravel())\n",
    "    roc_auc = roc_auc_score(y_test.ravel(), pred_proba.ravel(), average = 'macro')\n",
    "    print('Roc Auc score:', roc_auc)\n",
    "    \n",
    "    # calculate the g-mean for each threshold\n",
    "    gmeans = sqrt(tpr * (1-fpr))\n",
    "    \n",
    "    # locate the index of the largest g-mean\n",
    "    l_g_mean = argmax(gmeans)\n",
    "    print('Best Threshold=%f, G-Mean=%.3f' % (thresholds[l_g_mean], gmeans[l_g_mean]))\n",
    "    \n",
    "    return fpr, tpr, roc_auc, l_g_mean\n",
    "\n",
    "# Function to plotting the AUC ROC Curve\n",
    "def plot_ROC(fpr, tpr, roc_auc, l_g_mean):\n",
    "    plt.figure(figsize=(8, 6))\n",
    "    matplotlib.rcParams.update({'font.size': 14})\n",
    "    plt.grid()\n",
    "    plt.plot(fpr, tpr, color='darkorange', lw=2,\n",
    "             label='Categorical: ROC AUC={0:.3f}'.format(roc_auc), zorder=1)\n",
    "\n",
    "    plt.plot([0, 1], [0, 1], color='navy', lw=1, linestyle='--', label = 'No Skill')\n",
    "    plt.scatter(fpr[l_g_mean], tpr[l_g_mean], marker='o', color='black', label='Best Threshold', zorder=2)\n",
    "    plt.legend(loc=\"lower right\")\n",
    "    plt.xlim([0.0, 1.0])\n",
    "    plt.ylim([0.0, 1.05])\n",
    "    plt.xlabel('False Positive rate (1- Specificity)')\n",
    "    plt.ylabel('True Positive rate (Sensitivity)')\n",
    "    plt.show()\n",
    "    \n",
    "fpr, tpr, roc_auc, l_g_mean = roc_curve_and_score(y_test, y_prob_categorical)\n",
    "plot_ROC(fpr, tpr, roc_auc, l_g_mean)"
   ]
  }
 ],
 "metadata": {
  "kernelspec": {
   "display_name": "Python 3",
   "language": "python",
   "name": "python3"
  },
  "language_info": {
   "codemirror_mode": {
    "name": "ipython",
    "version": 3
   },
   "file_extension": ".py",
   "mimetype": "text/x-python",
   "name": "python",
   "nbconvert_exporter": "python",
   "pygments_lexer": "ipython3",
   "version": "3.8.2"
  }
 },
 "nbformat": 4,
 "nbformat_minor": 4
}
