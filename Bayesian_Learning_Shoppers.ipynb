{
 "cells": [
  {
   "cell_type": "markdown",
   "metadata": {},
   "source": [
    "# Introduction\n",
    "\n",
    "In this notebook we build a Naive Bayes classifier model based on Online Shoppers Purchasing Intention Dataset [1]. \n",
    "\n",
    "The notebook first introduces the general family of algorithms associated with Bayesian Classification methods, followed by the selected algorithms and the necessary preprocessing steps required to run them. \n",
    "\n",
    "This is followed by hyperparameter tuning of the models via a cross-validation scheme, and an exploration of the feature importance of the dataset. \n",
    "\n",
    "Lastly, techniques to deal with the imbalanced nature of the dataset will be explored: Firstly, through the use of threshold moving which will be visualised using the PR (Precision Recall) curve, and secondly, through resampling techniques.  "
   ]
  },
  {
   "cell_type": "markdown",
   "metadata": {},
   "source": [
    "# Bayesian Classification Methods"
   ]
  },
  {
   "cell_type": "markdown",
   "metadata": {},
   "source": [
    "<div>\n",
    "<img src=\"BayesianLearning.png\" alt=\"drawing\" width=\"600\"/>\n",
    "</div>\n",
    "<center>Figure 1: Illustration of some of the different families of learning methods [2]<center>\n"
   ]
  },
  {
   "cell_type": "markdown",
   "metadata": {},
   "source": [
    "Naive Bayes Classifiers can be described as a family of supervised learning methods (Fig1) which are based on Bayes' theorem with strong assumption of independence between the features. These classification methods aim to predict the class label of a categorical target variable.\n",
    "\n",
    "Bayes Theorem is an equation that describes the relationship of conditional probabilities of statistical quantities [2]. In simple terms, the equation aims to find out the probability of a label ($C_k$) given a number of observed features ($X$), and can be expressed mathematically as: <br> <br>\n",
    "<center> $P(C_k | X)= \\large\\frac{P(X | C_k)P(C_k)}{P(X)}$ <center>"
   ]
  },
  {
   "cell_type": "markdown",
   "metadata": {},
   "source": [
    "where\n",
    "* $k$ distinguishes between the classes\n",
    "* P($C_k | X$) is the posterior probability of the label ($C_k$) given the predictor ($X$)\n",
    "* P($C_k$) is the prior probability of the label \n",
    "* P($X | C_k$) is the likelihood, which the the probability of the predictor given the class label\n",
    "* P($X$) is the prior probability of the predictor $X$\n",
    "\n",
    "Using the naive assumption of feature independence, $P(x_i|C_k)$ can be reduced from $P(x_i|C_k) = P(x_i|C_k, x_1, ..., x_i-1, x_i+1, ..., x_n)$ for all $i$ to $P(X|C_k) = P(x_1|C_k)* P(x_2|C_k)*....* P(x_n|C_k)$\n",
    "\n",
    "and the resulting equation for classification becomes \n",
    "\n",
    "<center> $P(C_k|X) = \\large\\frac{\\prod_{i=1}^nP(x_i | C_k) * P(C_k)}{P(X)}$ </center>\n",
    "\n",
    "and the class label predicted by the model is the one that has the highest probability. For instance, if there are two class labels 'True' and 'False', and if $P(True|X) = 0.7$ and $P(False|X) = 0.3$ then the predicted class label would be 'True'."
   ]
  },
  {
   "cell_type": "markdown",
   "metadata": {},
   "source": [
    "The different classifiers mainly differ according to the assumptions they make regarding the distribution of $P(x_i|C_k)$. The most common classifiers (and their assumptions) are [3]:\n",
    "* <b>Gaussian Naive Bayes</b> - Assumes data from each feature follows a Gaussian Distribution, used when data is continuous (Example - Age) \n",
    "* <b>Bernoulli Naive Bayes</b> - Assumes data from each feature follows a Bernoulli Distribution, used for discrete data where features are binary/boolean (Example - Feature 'Is Male' is True/False)\n",
    "* <b>Multinomial Naive Bayes</b> - Features are assumed to be generated from a multinomial distribution (which describes probability of observing counts among a number of categories) (Example - Text Classification)\n",
    "* <b>Complement Naive Bayes</b> - Adaptation of the Multinomial Naive Bayes, designed to work with imbalanced datasets (instead of calculating probability of an item belonging to a particular class, the probability of the item belonging to all other classes is used instead, and the smallest value is selected)\n",
    "* <b>Categorical Naive Bayes</b> - Generalization of the Bernoulli distribution, features follow a categorical distribution where there are more than two possible outcomes (Example - Outcome of a dice roll)\n",
    "\n",
    "From the earlier section in which the characteristics of the dataset was explored, it can be seen that the features are either numerical/continuous (4 features) or categorical (5 Features). Therefore, no one model is perfectly suited for the dataset. To overcome this problem, we can take two possible approaches, and will be covered in greater detail below\n",
    "\n",
    "* The first approach is to categorise the numerical features, then use the Categorical Naive Bayes classifier. \n",
    "* The second approach (Mixed Naive Bayes) is to independently fit a Gaussian NB Classifier and Categorical NB Classifier for the respective numerical and categorical features, and then transform the dataset by setting the class assignment probabilities as new features (this works due to the Naive assumption of independence between features) . Following which, a Gaussian NB classifier will be refit on these features. "
   ]
  },
  {
   "cell_type": "markdown",
   "metadata": {},
   "source": [
    "# Preprocessing Data\n",
    "\n",
    "Two datasets have been prepared, for respective use in the MixedNB and the CategoricalNB models. \n",
    "\n",
    "#### CategoricalNB \n",
    "\n",
    "The variable **data_frame_os_cat** represents the transformed dataset in which all variables have been set to categorical. No outliers were removed, and the positive skew distribution for the numerical features have been mitigated through the use of equal-frequency binning. \n",
    "\n",
    "#### MixedNB\n",
    "\n",
    "The variable **data_frame_os_mixed** represents the dataset in which the categorical variables have been factorized whilst the numerical variables have been box-cox transformed to mitigate the positive skew as the GaussianNB model assumes that features are normally distributed. "
   ]
  },
  {
   "cell_type": "code",
   "execution_count": 6,
   "metadata": {},
   "outputs": [],
   "source": [
    "# import necessary modules for this notebook\n",
    "from main import *"
   ]
  },
  {
   "cell_type": "code",
   "execution_count": 4,
   "metadata": {},
   "outputs": [
    {
     "data": {
      "text/html": [
       "<div>\n",
       "<style scoped>\n",
       "    .dataframe tbody tr th:only-of-type {\n",
       "        vertical-align: middle;\n",
       "    }\n",
       "\n",
       "    .dataframe tbody tr th {\n",
       "        vertical-align: top;\n",
       "    }\n",
       "\n",
       "    .dataframe thead th {\n",
       "        text-align: right;\n",
       "    }\n",
       "</style>\n",
       "<table border=\"1\" class=\"dataframe\">\n",
       "  <thead>\n",
       "    <tr style=\"text-align: right;\">\n",
       "      <th></th>\n",
       "      <th>ProductRelated_Duration</th>\n",
       "      <th>ProductRelatedAve</th>\n",
       "      <th>BounceRates</th>\n",
       "      <th>ExitRates</th>\n",
       "      <th>SpecialDay</th>\n",
       "      <th>Month</th>\n",
       "      <th>Region</th>\n",
       "      <th>VisitorType</th>\n",
       "      <th>Weekend</th>\n",
       "      <th>Revenue</th>\n",
       "    </tr>\n",
       "  </thead>\n",
       "  <tbody>\n",
       "    <tr>\n",
       "      <th>0</th>\n",
       "      <td>0.000000</td>\n",
       "      <td>0.000000</td>\n",
       "      <td>0.200000</td>\n",
       "      <td>0.200000</td>\n",
       "      <td>0.0</td>\n",
       "      <td>0</td>\n",
       "      <td>1</td>\n",
       "      <td>0</td>\n",
       "      <td>0</td>\n",
       "      <td>False</td>\n",
       "    </tr>\n",
       "    <tr>\n",
       "      <th>1</th>\n",
       "      <td>64.000000</td>\n",
       "      <td>32.000000</td>\n",
       "      <td>0.000000</td>\n",
       "      <td>0.100000</td>\n",
       "      <td>0.0</td>\n",
       "      <td>0</td>\n",
       "      <td>1</td>\n",
       "      <td>0</td>\n",
       "      <td>0</td>\n",
       "      <td>False</td>\n",
       "    </tr>\n",
       "    <tr>\n",
       "      <th>2</th>\n",
       "      <td>0.000000</td>\n",
       "      <td>0.000000</td>\n",
       "      <td>0.200000</td>\n",
       "      <td>0.200000</td>\n",
       "      <td>0.0</td>\n",
       "      <td>0</td>\n",
       "      <td>9</td>\n",
       "      <td>0</td>\n",
       "      <td>0</td>\n",
       "      <td>False</td>\n",
       "    </tr>\n",
       "    <tr>\n",
       "      <th>3</th>\n",
       "      <td>2.666667</td>\n",
       "      <td>1.333333</td>\n",
       "      <td>0.050000</td>\n",
       "      <td>0.140000</td>\n",
       "      <td>0.0</td>\n",
       "      <td>0</td>\n",
       "      <td>2</td>\n",
       "      <td>0</td>\n",
       "      <td>0</td>\n",
       "      <td>False</td>\n",
       "    </tr>\n",
       "    <tr>\n",
       "      <th>4</th>\n",
       "      <td>627.500000</td>\n",
       "      <td>62.750000</td>\n",
       "      <td>0.020000</td>\n",
       "      <td>0.050000</td>\n",
       "      <td>0.0</td>\n",
       "      <td>0</td>\n",
       "      <td>1</td>\n",
       "      <td>0</td>\n",
       "      <td>1</td>\n",
       "      <td>False</td>\n",
       "    </tr>\n",
       "    <tr>\n",
       "      <th>...</th>\n",
       "      <td>...</td>\n",
       "      <td>...</td>\n",
       "      <td>...</td>\n",
       "      <td>...</td>\n",
       "      <td>...</td>\n",
       "      <td>...</td>\n",
       "      <td>...</td>\n",
       "      <td>...</td>\n",
       "      <td>...</td>\n",
       "      <td>...</td>\n",
       "    </tr>\n",
       "    <tr>\n",
       "      <th>12325</th>\n",
       "      <td>1783.791667</td>\n",
       "      <td>33.656447</td>\n",
       "      <td>0.007143</td>\n",
       "      <td>0.029031</td>\n",
       "      <td>0.0</td>\n",
       "      <td>9</td>\n",
       "      <td>1</td>\n",
       "      <td>0</td>\n",
       "      <td>1</td>\n",
       "      <td>False</td>\n",
       "    </tr>\n",
       "    <tr>\n",
       "      <th>12326</th>\n",
       "      <td>465.750000</td>\n",
       "      <td>93.150000</td>\n",
       "      <td>0.000000</td>\n",
       "      <td>0.021333</td>\n",
       "      <td>0.0</td>\n",
       "      <td>7</td>\n",
       "      <td>1</td>\n",
       "      <td>0</td>\n",
       "      <td>1</td>\n",
       "      <td>False</td>\n",
       "    </tr>\n",
       "    <tr>\n",
       "      <th>12327</th>\n",
       "      <td>184.250000</td>\n",
       "      <td>30.708333</td>\n",
       "      <td>0.083333</td>\n",
       "      <td>0.086667</td>\n",
       "      <td>0.0</td>\n",
       "      <td>7</td>\n",
       "      <td>1</td>\n",
       "      <td>0</td>\n",
       "      <td>1</td>\n",
       "      <td>False</td>\n",
       "    </tr>\n",
       "    <tr>\n",
       "      <th>12328</th>\n",
       "      <td>346.000000</td>\n",
       "      <td>23.066667</td>\n",
       "      <td>0.000000</td>\n",
       "      <td>0.021053</td>\n",
       "      <td>0.0</td>\n",
       "      <td>7</td>\n",
       "      <td>3</td>\n",
       "      <td>0</td>\n",
       "      <td>0</td>\n",
       "      <td>False</td>\n",
       "    </tr>\n",
       "    <tr>\n",
       "      <th>12329</th>\n",
       "      <td>21.250000</td>\n",
       "      <td>7.083333</td>\n",
       "      <td>0.000000</td>\n",
       "      <td>0.066667</td>\n",
       "      <td>0.0</td>\n",
       "      <td>7</td>\n",
       "      <td>1</td>\n",
       "      <td>1</td>\n",
       "      <td>1</td>\n",
       "      <td>False</td>\n",
       "    </tr>\n",
       "  </tbody>\n",
       "</table>\n",
       "<p>12330 rows × 10 columns</p>\n",
       "</div>"
      ],
      "text/plain": [
       "       ProductRelated_Duration  ProductRelatedAve  BounceRates  ExitRates  \\\n",
       "0                     0.000000           0.000000     0.200000   0.200000   \n",
       "1                    64.000000          32.000000     0.000000   0.100000   \n",
       "2                     0.000000           0.000000     0.200000   0.200000   \n",
       "3                     2.666667           1.333333     0.050000   0.140000   \n",
       "4                   627.500000          62.750000     0.020000   0.050000   \n",
       "...                        ...                ...          ...        ...   \n",
       "12325              1783.791667          33.656447     0.007143   0.029031   \n",
       "12326               465.750000          93.150000     0.000000   0.021333   \n",
       "12327               184.250000          30.708333     0.083333   0.086667   \n",
       "12328               346.000000          23.066667     0.000000   0.021053   \n",
       "12329                21.250000           7.083333     0.000000   0.066667   \n",
       "\n",
       "       SpecialDay  Month  Region  VisitorType  Weekend  Revenue  \n",
       "0             0.0      0       1            0        0    False  \n",
       "1             0.0      0       1            0        0    False  \n",
       "2             0.0      0       9            0        0    False  \n",
       "3             0.0      0       2            0        0    False  \n",
       "4             0.0      0       1            0        1    False  \n",
       "...           ...    ...     ...          ...      ...      ...  \n",
       "12325         0.0      9       1            0        1    False  \n",
       "12326         0.0      7       1            0        1    False  \n",
       "12327         0.0      7       1            0        1    False  \n",
       "12328         0.0      7       3            0        0    False  \n",
       "12329         0.0      7       1            1        1    False  \n",
       "\n",
       "[12330 rows x 10 columns]"
      ]
     },
     "execution_count": 4,
     "metadata": {},
     "output_type": "execute_result"
    }
   ],
   "source": [
    "data_frame_os = read_data_return_frame(\"online_shoppers_intention.csv\")\n",
    "preprocess_df(data_frame_os) # function preprocess_df factorizes the categorical variables\n",
    "data_frame_os # return factorized dataset"
   ]
  },
  {
   "cell_type": "code",
   "execution_count": 15,
   "metadata": {},
   "outputs": [
    {
     "data": {
      "text/html": [
       "<div>\n",
       "<style scoped>\n",
       "    .dataframe tbody tr th:only-of-type {\n",
       "        vertical-align: middle;\n",
       "    }\n",
       "\n",
       "    .dataframe tbody tr th {\n",
       "        vertical-align: top;\n",
       "    }\n",
       "\n",
       "    .dataframe thead th {\n",
       "        text-align: right;\n",
       "    }\n",
       "</style>\n",
       "<table border=\"1\" class=\"dataframe\">\n",
       "  <thead>\n",
       "    <tr style=\"text-align: right;\">\n",
       "      <th></th>\n",
       "      <th>ProductRelated_Duration</th>\n",
       "      <th>ProductRelatedAve</th>\n",
       "      <th>BounceRates</th>\n",
       "      <th>ExitRates</th>\n",
       "      <th>SpecialDay</th>\n",
       "      <th>Month</th>\n",
       "      <th>Region</th>\n",
       "      <th>VisitorType</th>\n",
       "      <th>Weekend</th>\n",
       "      <th>Revenue</th>\n",
       "    </tr>\n",
       "  </thead>\n",
       "  <tbody>\n",
       "    <tr>\n",
       "      <th>0</th>\n",
       "      <td>0</td>\n",
       "      <td>0</td>\n",
       "      <td>2</td>\n",
       "      <td>4</td>\n",
       "      <td>0</td>\n",
       "      <td>0</td>\n",
       "      <td>1</td>\n",
       "      <td>0</td>\n",
       "      <td>0</td>\n",
       "      <td>False</td>\n",
       "    </tr>\n",
       "    <tr>\n",
       "      <th>1</th>\n",
       "      <td>0</td>\n",
       "      <td>2</td>\n",
       "      <td>0</td>\n",
       "      <td>4</td>\n",
       "      <td>0</td>\n",
       "      <td>0</td>\n",
       "      <td>1</td>\n",
       "      <td>0</td>\n",
       "      <td>0</td>\n",
       "      <td>False</td>\n",
       "    </tr>\n",
       "    <tr>\n",
       "      <th>2</th>\n",
       "      <td>0</td>\n",
       "      <td>0</td>\n",
       "      <td>2</td>\n",
       "      <td>4</td>\n",
       "      <td>0</td>\n",
       "      <td>0</td>\n",
       "      <td>9</td>\n",
       "      <td>0</td>\n",
       "      <td>0</td>\n",
       "      <td>False</td>\n",
       "    </tr>\n",
       "    <tr>\n",
       "      <th>3</th>\n",
       "      <td>0</td>\n",
       "      <td>0</td>\n",
       "      <td>2</td>\n",
       "      <td>4</td>\n",
       "      <td>0</td>\n",
       "      <td>0</td>\n",
       "      <td>2</td>\n",
       "      <td>0</td>\n",
       "      <td>0</td>\n",
       "      <td>False</td>\n",
       "    </tr>\n",
       "    <tr>\n",
       "      <th>4</th>\n",
       "      <td>2</td>\n",
       "      <td>4</td>\n",
       "      <td>1</td>\n",
       "      <td>3</td>\n",
       "      <td>0</td>\n",
       "      <td>0</td>\n",
       "      <td>1</td>\n",
       "      <td>0</td>\n",
       "      <td>1</td>\n",
       "      <td>False</td>\n",
       "    </tr>\n",
       "    <tr>\n",
       "      <th>...</th>\n",
       "      <td>...</td>\n",
       "      <td>...</td>\n",
       "      <td>...</td>\n",
       "      <td>...</td>\n",
       "      <td>...</td>\n",
       "      <td>...</td>\n",
       "      <td>...</td>\n",
       "      <td>...</td>\n",
       "      <td>...</td>\n",
       "      <td>...</td>\n",
       "    </tr>\n",
       "    <tr>\n",
       "      <th>12325</th>\n",
       "      <td>4</td>\n",
       "      <td>2</td>\n",
       "      <td>0</td>\n",
       "      <td>2</td>\n",
       "      <td>0</td>\n",
       "      <td>9</td>\n",
       "      <td>1</td>\n",
       "      <td>0</td>\n",
       "      <td>1</td>\n",
       "      <td>False</td>\n",
       "    </tr>\n",
       "    <tr>\n",
       "      <th>12326</th>\n",
       "      <td>2</td>\n",
       "      <td>4</td>\n",
       "      <td>0</td>\n",
       "      <td>2</td>\n",
       "      <td>0</td>\n",
       "      <td>7</td>\n",
       "      <td>1</td>\n",
       "      <td>0</td>\n",
       "      <td>1</td>\n",
       "      <td>False</td>\n",
       "    </tr>\n",
       "    <tr>\n",
       "      <th>12327</th>\n",
       "      <td>1</td>\n",
       "      <td>2</td>\n",
       "      <td>2</td>\n",
       "      <td>4</td>\n",
       "      <td>0</td>\n",
       "      <td>7</td>\n",
       "      <td>1</td>\n",
       "      <td>0</td>\n",
       "      <td>1</td>\n",
       "      <td>False</td>\n",
       "    </tr>\n",
       "    <tr>\n",
       "      <th>12328</th>\n",
       "      <td>1</td>\n",
       "      <td>1</td>\n",
       "      <td>0</td>\n",
       "      <td>2</td>\n",
       "      <td>0</td>\n",
       "      <td>7</td>\n",
       "      <td>3</td>\n",
       "      <td>0</td>\n",
       "      <td>0</td>\n",
       "      <td>False</td>\n",
       "    </tr>\n",
       "    <tr>\n",
       "      <th>12329</th>\n",
       "      <td>0</td>\n",
       "      <td>0</td>\n",
       "      <td>0</td>\n",
       "      <td>4</td>\n",
       "      <td>0</td>\n",
       "      <td>7</td>\n",
       "      <td>1</td>\n",
       "      <td>1</td>\n",
       "      <td>1</td>\n",
       "      <td>False</td>\n",
       "    </tr>\n",
       "  </tbody>\n",
       "</table>\n",
       "<p>12330 rows × 10 columns</p>\n",
       "</div>"
      ],
      "text/plain": [
       "      ProductRelated_Duration ProductRelatedAve BounceRates ExitRates  \\\n",
       "0                           0                 0           2         4   \n",
       "1                           0                 2           0         4   \n",
       "2                           0                 0           2         4   \n",
       "3                           0                 0           2         4   \n",
       "4                           2                 4           1         3   \n",
       "...                       ...               ...         ...       ...   \n",
       "12325                       4                 2           0         2   \n",
       "12326                       2                 4           0         2   \n",
       "12327                       1                 2           2         4   \n",
       "12328                       1                 1           0         2   \n",
       "12329                       0                 0           0         4   \n",
       "\n",
       "       SpecialDay  Month  Region  VisitorType  Weekend  Revenue  \n",
       "0               0      0       1            0        0    False  \n",
       "1               0      0       1            0        0    False  \n",
       "2               0      0       9            0        0    False  \n",
       "3               0      0       2            0        0    False  \n",
       "4               0      0       1            0        1    False  \n",
       "...           ...    ...     ...          ...      ...      ...  \n",
       "12325           0      9       1            0        1    False  \n",
       "12326           0      7       1            0        1    False  \n",
       "12327           0      7       1            0        1    False  \n",
       "12328           0      7       3            0        0    False  \n",
       "12329           0      7       1            1        1    False  \n",
       "\n",
       "[12330 rows x 10 columns]"
      ]
     },
     "execution_count": 15,
     "metadata": {},
     "output_type": "execute_result"
    }
   ],
   "source": [
    "data_frame_os_cat = data_frame_os.copy()\n",
    "convert_num_to_cat(data_frame_os_cat) # function bins the continuous variables and label encodes it\n",
    "data_frame_os_cat # dataset transformed to categorical\n"
   ]
  },
  {
   "cell_type": "code",
   "execution_count": 11,
   "metadata": {},
   "outputs": [
    {
     "data": {
      "text/html": [
       "<div>\n",
       "<style scoped>\n",
       "    .dataframe tbody tr th:only-of-type {\n",
       "        vertical-align: middle;\n",
       "    }\n",
       "\n",
       "    .dataframe tbody tr th {\n",
       "        vertical-align: top;\n",
       "    }\n",
       "\n",
       "    .dataframe thead th {\n",
       "        text-align: right;\n",
       "    }\n",
       "</style>\n",
       "<table border=\"1\" class=\"dataframe\">\n",
       "  <thead>\n",
       "    <tr style=\"text-align: right;\">\n",
       "      <th></th>\n",
       "      <th>ProductRelated_Duration</th>\n",
       "      <th>ProductRelatedAve</th>\n",
       "      <th>BounceRates</th>\n",
       "      <th>ExitRates</th>\n",
       "      <th>SpecialDay</th>\n",
       "      <th>Month</th>\n",
       "      <th>Region</th>\n",
       "      <th>VisitorType</th>\n",
       "      <th>Weekend</th>\n",
       "      <th>Revenue</th>\n",
       "    </tr>\n",
       "  </thead>\n",
       "  <tbody>\n",
       "    <tr>\n",
       "      <th>0</th>\n",
       "      <td>-3.627051</td>\n",
       "      <td>-2.622015</td>\n",
       "      <td>-1.685167</td>\n",
       "      <td>-1.440311</td>\n",
       "      <td>0.0</td>\n",
       "      <td>0</td>\n",
       "      <td>1</td>\n",
       "      <td>0</td>\n",
       "      <td>0</td>\n",
       "      <td>False</td>\n",
       "    </tr>\n",
       "    <tr>\n",
       "      <th>1</th>\n",
       "      <td>7.269224</td>\n",
       "      <td>7.019848</td>\n",
       "      <td>-12.119345</td>\n",
       "      <td>-1.967028</td>\n",
       "      <td>0.0</td>\n",
       "      <td>0</td>\n",
       "      <td>1</td>\n",
       "      <td>0</td>\n",
       "      <td>0</td>\n",
       "      <td>False</td>\n",
       "    </tr>\n",
       "    <tr>\n",
       "      <th>2</th>\n",
       "      <td>-3.627051</td>\n",
       "      <td>-2.622015</td>\n",
       "      <td>-1.685167</td>\n",
       "      <td>-1.440311</td>\n",
       "      <td>0.0</td>\n",
       "      <td>0</td>\n",
       "      <td>9</td>\n",
       "      <td>0</td>\n",
       "      <td>0</td>\n",
       "      <td>False</td>\n",
       "    </tr>\n",
       "    <tr>\n",
       "      <th>3</th>\n",
       "      <td>1.110170</td>\n",
       "      <td>0.303572</td>\n",
       "      <td>-3.264860</td>\n",
       "      <td>-1.717765</td>\n",
       "      <td>0.0</td>\n",
       "      <td>0</td>\n",
       "      <td>2</td>\n",
       "      <td>0</td>\n",
       "      <td>0</td>\n",
       "      <td>False</td>\n",
       "    </tr>\n",
       "    <tr>\n",
       "      <th>4</th>\n",
       "      <td>15.858147</td>\n",
       "      <td>9.761980</td>\n",
       "      <td>-4.377190</td>\n",
       "      <td>-2.444654</td>\n",
       "      <td>0.0</td>\n",
       "      <td>0</td>\n",
       "      <td>1</td>\n",
       "      <td>0</td>\n",
       "      <td>1</td>\n",
       "      <td>False</td>\n",
       "    </tr>\n",
       "    <tr>\n",
       "      <th>...</th>\n",
       "      <td>...</td>\n",
       "      <td>...</td>\n",
       "      <td>...</td>\n",
       "      <td>...</td>\n",
       "      <td>...</td>\n",
       "      <td>...</td>\n",
       "      <td>...</td>\n",
       "      <td>...</td>\n",
       "      <td>...</td>\n",
       "      <td>...</td>\n",
       "    </tr>\n",
       "    <tr>\n",
       "      <th>12325</th>\n",
       "      <td>21.729709</td>\n",
       "      <td>7.202597</td>\n",
       "      <td>-5.690943</td>\n",
       "      <td>-2.787746</td>\n",
       "      <td>0.0</td>\n",
       "      <td>9</td>\n",
       "      <td>1</td>\n",
       "      <td>0</td>\n",
       "      <td>1</td>\n",
       "      <td>False</td>\n",
       "    </tr>\n",
       "    <tr>\n",
       "      <th>12326</th>\n",
       "      <td>14.442952</td>\n",
       "      <td>11.717420</td>\n",
       "      <td>-12.119345</td>\n",
       "      <td>-2.970644</td>\n",
       "      <td>0.0</td>\n",
       "      <td>7</td>\n",
       "      <td>1</td>\n",
       "      <td>0</td>\n",
       "      <td>1</td>\n",
       "      <td>False</td>\n",
       "    </tr>\n",
       "    <tr>\n",
       "      <th>12327</th>\n",
       "      <td>10.652382</td>\n",
       "      <td>6.873155</td>\n",
       "      <td>-2.668472</td>\n",
       "      <td>-2.069506</td>\n",
       "      <td>0.0</td>\n",
       "      <td>7</td>\n",
       "      <td>1</td>\n",
       "      <td>0</td>\n",
       "      <td>1</td>\n",
       "      <td>False</td>\n",
       "    </tr>\n",
       "    <tr>\n",
       "      <th>12328</th>\n",
       "      <td>13.132164</td>\n",
       "      <td>5.913587</td>\n",
       "      <td>-12.119345</td>\n",
       "      <td>-2.978327</td>\n",
       "      <td>0.0</td>\n",
       "      <td>7</td>\n",
       "      <td>3</td>\n",
       "      <td>0</td>\n",
       "      <td>0</td>\n",
       "      <td>False</td>\n",
       "    </tr>\n",
       "    <tr>\n",
       "      <th>12329</th>\n",
       "      <td>4.568404</td>\n",
       "      <td>2.869712</td>\n",
       "      <td>-12.119345</td>\n",
       "      <td>-2.252091</td>\n",
       "      <td>0.0</td>\n",
       "      <td>7</td>\n",
       "      <td>1</td>\n",
       "      <td>1</td>\n",
       "      <td>1</td>\n",
       "      <td>False</td>\n",
       "    </tr>\n",
       "  </tbody>\n",
       "</table>\n",
       "<p>12330 rows × 10 columns</p>\n",
       "</div>"
      ],
      "text/plain": [
       "       ProductRelated_Duration  ProductRelatedAve  BounceRates  ExitRates  \\\n",
       "0                    -3.627051          -2.622015    -1.685167  -1.440311   \n",
       "1                     7.269224           7.019848   -12.119345  -1.967028   \n",
       "2                    -3.627051          -2.622015    -1.685167  -1.440311   \n",
       "3                     1.110170           0.303572    -3.264860  -1.717765   \n",
       "4                    15.858147           9.761980    -4.377190  -2.444654   \n",
       "...                        ...                ...          ...        ...   \n",
       "12325                21.729709           7.202597    -5.690943  -2.787746   \n",
       "12326                14.442952          11.717420   -12.119345  -2.970644   \n",
       "12327                10.652382           6.873155    -2.668472  -2.069506   \n",
       "12328                13.132164           5.913587   -12.119345  -2.978327   \n",
       "12329                 4.568404           2.869712   -12.119345  -2.252091   \n",
       "\n",
       "       SpecialDay  Month  Region  VisitorType  Weekend  Revenue  \n",
       "0             0.0      0       1            0        0    False  \n",
       "1             0.0      0       1            0        0    False  \n",
       "2             0.0      0       9            0        0    False  \n",
       "3             0.0      0       2            0        0    False  \n",
       "4             0.0      0       1            0        1    False  \n",
       "...           ...    ...     ...          ...      ...      ...  \n",
       "12325         0.0      9       1            0        1    False  \n",
       "12326         0.0      7       1            0        1    False  \n",
       "12327         0.0      7       1            0        1    False  \n",
       "12328         0.0      7       3            0        0    False  \n",
       "12329         0.0      7       1            1        1    False  \n",
       "\n",
       "[12330 rows x 10 columns]"
      ]
     },
     "execution_count": 11,
     "metadata": {},
     "output_type": "execute_result"
    }
   ],
   "source": [
    "data_frame_os_mixed = box_cox_transform(data_frame_os) # numerical attributes box-cox transformed\n"
   ]
  },
  {
   "cell_type": "markdown",
   "metadata": {},
   "source": [
    "After converting the data fully to categorical variables, we measure the collinearity using the association matrix. This is to ensure that features do not have high collinearity, which would reduce the effectiveness of this particular familiar of classifiers due to violation of the naive assumption of feature independence [4]. Generally, it can be seen that features do not have high multicollinearity, and no further transformations need to be done. "
   ]
  },
  {
   "cell_type": "code",
   "execution_count": 16,
   "metadata": {},
   "outputs": [
    {
     "data": {
      "image/png": "[encoded data removed]",
      "text/plain": [
       "<Figure size 1080x1080 with 2 Axes>"
      ]
     },
     "metadata": {
      "needs_background": "light"
     },
     "output_type": "display_data"
    },
    {
     "data": {
      "text/plain": [
       "{'corr':                          BounceRates  ExitRates  ProductRelated_Duration  \\\n",
       " BounceRates                 1.000000   0.562988                 0.304649   \n",
       " ExitRates                   0.562988   1.000000                 0.300743   \n",
       " ProductRelated_Duration     0.304649   0.300743                 1.000000   \n",
       " ProductRelatedAve           0.272447   0.240845                 0.394520   \n",
       " Revenue                     0.179092   0.250310                 0.212829   \n",
       " Month                       0.073742   0.110102                 0.131766   \n",
       " VisitorType                 0.237301   0.262880                 0.154614   \n",
       " Region                      0.014689   0.034026                 0.016984   \n",
       " Weekend                     0.046116   0.064192                 0.045746   \n",
       " SpecialDay                  0.134550   0.146220                 0.045068   \n",
       " \n",
       "                          ProductRelatedAve   Revenue     Month  VisitorType  \\\n",
       " BounceRates                       0.272447  0.179092  0.073742     0.237301   \n",
       " ExitRates                         0.240845  0.250310  0.110102     0.262880   \n",
       " ProductRelated_Duration           0.394520  0.212829  0.131766     0.154614   \n",
       " ProductRelatedAve                 1.000000  0.172530  0.081101     0.031114   \n",
       " Revenue                           0.172530  1.000000  0.105891     0.098485   \n",
       " Month                             0.081101  0.105891  1.000000     0.129578   \n",
       " VisitorType                       0.031114  0.098485  0.129578     1.000000   \n",
       " Region                            0.013175 -0.011595  0.029883     0.075819   \n",
       " Weekend                           0.069404  0.029295  0.008321     0.030262   \n",
       " SpecialDay                        0.079610 -0.082305 -0.277549    -0.086854   \n",
       " \n",
       "                            Region   Weekend  SpecialDay  \n",
       " BounceRates              0.014689  0.046116    0.134550  \n",
       " ExitRates                0.034026  0.064192    0.146220  \n",
       " ProductRelated_Duration  0.016984  0.045746    0.045068  \n",
       " ProductRelatedAve        0.013175  0.069404    0.079610  \n",
       " Revenue                 -0.011595  0.029295   -0.082305  \n",
       " Month                    0.029883  0.008321   -0.277549  \n",
       " VisitorType              0.075819  0.030262   -0.086854  \n",
       " Region                   1.000000 -0.000691   -0.016098  \n",
       " Weekend                 -0.000691  1.000000   -0.016767  \n",
       " SpecialDay              -0.016098 -0.016767    1.000000  ,\n",
       " 'ax': <AxesSubplot:title={'center':'Correlation Matrix of Categorically Transformed Data Set'}>}"
      ]
     },
     "execution_count": 16,
     "metadata": {},
     "output_type": "execute_result"
    }
   ],
   "source": [
    "associations(data_frame_os_cat, figsize=(15,15), clustering = True, title = 'Correlation Matrix of Categorically Transformed Data Set')"
   ]
  },
  {
   "cell_type": "markdown",
   "metadata": {},
   "source": [
    "# Categorical Naive Bayes Classifier\n",
    "\n",
    "For the Categorical Naive Bayes Classifier, for each feature $i$ of $X$ (training set), a categorical distribution is estimated conditioned on the class $y$\n",
    "\n",
    "the probability of category $k$ in feature $i$ given class $c$ can be estimated as <br>\n",
    "<center> $P(x_i = t | y = k; a) = \\large\\frac{N_{tik} + a}{N_k + an_i}$ </center>\n",
    "\n",
    "where \n",
    "\n",
    "- $N_{tik}$ refers to the number of times category t appears in the sample $x_i$ belonging to the class $k_i$\n",
    "- $N_k$ refers to the total number of samples with class $k$\n",
    "- $a$ is a smoothing parameter (Laplace/Lidstone) which helps to handle the zero frequency problem. This problem occurs when the model encounters new features not seen in the training set (causing likelihood for that feature to be calculated as 0). Subsequently, without the parameter, the posterior probability would also return a value of 0 as all likelihoods are multiplied. The larger the $a$ value, the likelihood probability moves towards uniform distribution (0.5)\n",
    "- $n_i$ refers to the number of categories of feature $i$\n",
    "\n",
    "To implement the classifier, the Categorical Naive Bayes algorithm from the scikit learn module was used(sklearn.naive_bayes.CategoricalNB), and for this classifier, the only hyperparameter that requires tuning is $a$.\n",
    "\n",
    "Data was first split into a set for training (75%) and testing (25%) (stratified to ensure they both have the same class ratio). Then, a cross-validated grid-search method (GridSearchCV) over a manually set parameter grid [0.1,0.5, 1.0, 5, 10, 100] was conducted to tune the hyperparameters and evaluate the models. The cross validation  split the data into $k$ (typically 5 or 10 is generally optimal, but due to the smaller size of the dataset, 5 was selected to maintain representativeness of the samples) folds, where the data was fitted using $k-1$ folds and validated with the remaining fold for each parameter set. The hyperparameter setting returning the highest average f1 score (covered below) was then selected as the model for use on the test set. \n",
    "\n",
    "The performance metric used is 'f1', which is a weighted average of the precision and recall of the model [5]. The formulas for precision, recall and F1 score are: \n",
    "\n",
    "<center> <br>Precision = True Positives / (True Positives + False Positives)<br> \t\n",
    "Recall = True Positives / (True Positives + False Negatives) <br> F1 = 2 * (precision * recall) / (precision + recall) </center>\n",
    "\n",
    "The reason for choosing F1 score over the more commonly used 'Accuracy' is because of the class imbalance (high number of majority class 'False' examples), as the F1 score does not make use of the 'True Negatives' as with the case of 'Accuracy', but rather focuses on the ability of the model to predict the minority class correctly. "
   ]
  },
  {
   "cell_type": "code",
   "execution_count": 18,
   "metadata": {},
   "outputs": [],
   "source": [
    "# Function to split the dataset into features and classes and factorises the class labels\n",
    "def xy_split(df):\n",
    "    #return all column except last one for arttributes\n",
    "    x = df.iloc[:,0: -1:1].values\n",
    "\n",
    "    #return last column for label revenue true(1) / false(0)\n",
    "    y = df.iloc[:, -1]\n",
    "    y,class_names = pd.factorize(y)\n",
    "    class_names = [str(x) for x in class_names]\n",
    "\n",
    "    #get feature names\n",
    "    feature_names = list(df.columns)[:-1]\n",
    "        \n",
    "    return x, y, class_names, feature_names"
   ]
  },
  {
   "cell_type": "code",
   "execution_count": 19,
   "metadata": {},
   "outputs": [],
   "source": [
    "# Function to split the dataset into training/test sets and tunes hyperparameters through cross validation \n",
    "def train_test_classifier(x, y, test_size=0.25, classifier= \"Categorical\"):\n",
    "    \n",
    "    # split into train/test sets with same class ratio\n",
    "    x_train, x_test, y_train, y_test = \\\n",
    "        model_selection.train_test_split(x, y, test_size=test_size, stratify=y, random_state=42)\n",
    "    \n",
    "    param_grid = [{'alpha': [0.1,0.5, 1.0, 5, 10, 100]}]\n",
    "     \n",
    "    if classifier == 'Gaussian':      \n",
    "        classifier = GaussianNB()\n",
    "        classifier.fit(x_train, y_train)\n",
    "        print('Classes: ', classifier.classes_)\n",
    "        print('Class Priors: ',classifier.class_prior_)        \n",
    "\n",
    "    elif classifier == \"Categorical\":\n",
    "        classifier = CategoricalNB()   \n",
    "        grid_search = GridSearchCV(classifier, param_grid, cv=5, verbose=2, scoring = 'f1')\n",
    "        grid_search.fit(x_train, y_train)   \n",
    "        classifier = grid_search.best_estimator_\n",
    "        print('-------------------------')\n",
    "        print('Best Hyperparameter Setting (by f1 score):', classifier)\n",
    "        classifier.fit(x_train, y_train)\n",
    "        print('Classes: ', classifier.classes_)\n",
    "        print('Class Log Priors: ',classifier.class_log_prior_)\n",
    "        \n",
    "    return x_train, x_test, y_train, y_test, classifier"
   ]
  },
  {
   "cell_type": "code",
   "execution_count": 20,
   "metadata": {},
   "outputs": [],
   "source": [
    "# Function to use the selected classifier to predict the class values of a given set\n",
    "def prediction(classifier, x):\n",
    "    y_pred = classifier.predict(x)\n",
    "    return y_pred"
   ]
  },
  {
   "cell_type": "code",
   "execution_count": 21,
   "metadata": {},
   "outputs": [],
   "source": [
    "# Function to return the performance report of the model. The F1 score and Confusion Matrix are returned\n",
    "def f1_cm_report(y, y_pred, class_names=[]):\n",
    "\n",
    "    f1score = sklearn.metrics.f1_score(y, y_pred)\n",
    "    print(\"F1 Score: {:.2f}\".format(f1score))\n",
    "\n",
    "    cm = sklearn.metrics.confusion_matrix(y, y_pred)\n",
    "    print(sklearn.metrics.classification_report(y, y_pred, target_names=class_names))\n",
    "    \n",
    "    print('Confusion Matrix: \\n', cm)\n",
    "    fig, ax = plt.subplots(figsize=(4, 4))\n",
    "    sns.heatmap(cm.T, square=True, annot=True, fmt='d', cbar=False, cmap = \"BuPu\",\n",
    "                ax=ax)\n",
    "    plt.xlabel('true label')\n",
    "    plt.ylabel('predicted label')\n",
    "    \n",
    "    return f1score"
   ]
  },
  {
   "cell_type": "markdown",
   "metadata": {},
   "source": [
    "#### Results\n",
    "\n",
    "It can be seen however from the low F1 score that the model is not particularly effective in distinguishing 'True' classes, with many False Positives and False Negatives identified relative to the 'True Positives' (about 1/3 split each case). We will attempt to utilise several methods to mitigate this issue subsequently."
   ]
  },
  {
   "cell_type": "code",
   "execution_count": 179,
   "metadata": {},
   "outputs": [
    {
     "name": "stdout",
     "output_type": "stream",
     "text": [
      "Fitting 5 folds for each of 6 candidates, totalling 30 fits\n",
      "[CV] alpha=0.1 .......................................................\n",
      "[CV] ........................................ alpha=0.1, total=   0.0s\n",
      "[CV] alpha=0.1 .......................................................\n",
      "[CV] ........................................ alpha=0.1, total=   0.0s\n",
      "[CV] alpha=0.1 .......................................................\n",
      "[CV] ........................................ alpha=0.1, total=   0.0s\n",
      "[CV] alpha=0.1 .......................................................\n",
      "[CV] ........................................ alpha=0.1, total=   0.0s\n",
      "[CV] alpha=0.1 .......................................................\n",
      "[CV] ........................................ alpha=0.1, total=   0.0s\n",
      "[CV] alpha=0.5 .......................................................\n",
      "[CV] ........................................ alpha=0.5, total=   0.0s\n",
      "[CV] alpha=0.5 .......................................................\n",
      "[CV] ........................................ alpha=0.5, total=   0.0s\n",
      "[CV] alpha=0.5 .......................................................\n",
      "[CV] ........................................ alpha=0.5, total=   0.0s\n",
      "[CV] alpha=0.5 .......................................................\n",
      "[CV] ........................................ alpha=0.5, total=   0.0s\n",
      "[CV] alpha=0.5 .......................................................\n",
      "[CV] ........................................ alpha=0.5, total=   0.0s\n",
      "[CV] alpha=1.0 .......................................................\n",
      "[CV] ........................................ alpha=1.0, total=   0.0s\n",
      "[CV] alpha=1.0 .......................................................\n",
      "[CV] ........................................ alpha=1.0, total=   0.0s\n",
      "[CV] alpha=1.0 .......................................................\n",
      "[CV] ........................................ alpha=1.0, total=   0.0s\n",
      "[CV] alpha=1.0 .......................................................\n",
      "[CV] ........................................ alpha=1.0, total=   0.0s\n",
      "[CV] alpha=1.0 .......................................................\n",
      "[CV] ........................................ alpha=1.0, total=   0.0s\n",
      "[CV] alpha=5 .........................................................\n",
      "[CV] .......................................... alpha=5, total=   0.0s\n",
      "[CV] alpha=5 .........................................................\n",
      "[CV] .......................................... alpha=5, total=   0.0s\n",
      "[CV] alpha=5 .........................................................\n",
      "[CV] .......................................... alpha=5, total=   0.0s\n",
      "[CV] alpha=5 .........................................................\n",
      "[CV] .......................................... alpha=5, total=   0.0s\n",
      "[CV] alpha=5 .........................................................\n",
      "[CV] .......................................... alpha=5, total=   0.0s\n",
      "[CV] alpha=10 ........................................................\n",
      "[CV] ......................................... alpha=10, total=   0.0s\n",
      "[CV] alpha=10 ........................................................\n",
      "[CV] ......................................... alpha=10, total=   0.0s\n",
      "[CV] alpha=10 ........................................................\n",
      "[CV] ......................................... alpha=10, total=   0.0s\n",
      "[CV] alpha=10 ........................................................\n",
      "[CV] ......................................... alpha=10, total=   0.0s\n",
      "[CV] alpha=10 ........................................................\n",
      "[CV] ......................................... alpha=10, total=   0.0s\n",
      "[CV] alpha=100 .......................................................\n",
      "[CV] ........................................ alpha=100, total=   0.0s\n",
      "[CV] alpha=100 .......................................................\n"
     ]
    },
    {
     "name": "stderr",
     "output_type": "stream",
     "text": [
      "[Parallel(n_jobs=1)]: Using backend SequentialBackend with 1 concurrent workers.\n",
      "[Parallel(n_jobs=1)]: Done   1 out of   1 | elapsed:    0.0s remaining:    0.0s\n"
     ]
    },
    {
     "name": "stdout",
     "output_type": "stream",
     "text": [
      "[CV] ........................................ alpha=100, total=   0.0s\n",
      "[CV] alpha=100 .......................................................\n",
      "[CV] ........................................ alpha=100, total=   0.0s\n",
      "[CV] alpha=100 .......................................................\n",
      "[CV] ........................................ alpha=100, total=   0.0s\n",
      "[CV] alpha=100 .......................................................\n",
      "[CV] ........................................ alpha=100, total=   0.0s\n",
      "-------------------------\n",
      "Best Hyperparameter Setting (by f1 score): CategoricalNB()\n",
      "Classes:  [0 1]\n",
      "Class Log Priors:  [-0.16812626 -1.86592567]\n",
      "--------------------------------------------------------\n",
      "Report for Training\n",
      "F1 Score: 0.27\n",
      "              precision    recall  f1-score   support\n",
      "\n",
      "       False       0.87      0.93      0.90      7816\n",
      "        True       0.37      0.22      0.27      1431\n",
      "\n",
      "    accuracy                           0.82      9247\n",
      "   macro avg       0.62      0.57      0.59      9247\n",
      "weighted avg       0.79      0.82      0.80      9247\n",
      "\n",
      "Confusion Matrix: \n",
      " [[7285  531]\n",
      " [1122  309]]\n",
      "--------------------------------------------------------\n",
      "Report for Testing\n",
      "F1 Score: 0.26\n",
      "              precision    recall  f1-score   support\n",
      "\n",
      "       False       0.86      0.94      0.90      2606\n",
      "        True       0.37      0.20      0.26       477\n",
      "\n",
      "    accuracy                           0.82      3083\n",
      "   macro avg       0.62      0.57      0.58      3083\n",
      "weighted avg       0.79      0.82      0.80      3083\n",
      "\n",
      "Confusion Matrix: \n",
      " [[2442  164]\n",
      " [ 382   95]]\n"
     ]
    },
    {
     "name": "stderr",
     "output_type": "stream",
     "text": [
      "[Parallel(n_jobs=1)]: Done  30 out of  30 | elapsed:    0.2s finished\n"
     ]
    },
    {
     "data": {
      "text/plain": [
       "(0.25815217391304346, 0.23959328848811412)"
      ]
     },
     "execution_count": 179,
     "metadata": {},
     "output_type": "execute_result"
    },
    {
     "data": {
      "image/png": "[encoded data removed]",
      "text/plain": [
       "<Figure size 288x288 with 1 Axes>"
      ]
     },
     "metadata": {
      "needs_background": "light"
     },
     "output_type": "display_data"
    },
    {
     "data": {
      "image/png": "[encoded data removed]",
      "text/plain": [
       "<Figure size 288x288 with 1 Axes>"
      ]
     },
     "metadata": {
      "needs_background": "light"
     },
     "output_type": "display_data"
    }
   ],
   "source": [
    "x, y, class_names, feature_names = xy_split(data_frame_os_cat_2)\n",
    "\n",
    "x_train, x_test, y_train, y_test, classifier = train_test_classifier(x, y, test_size=0.25)\n",
    "print('--------------------------------------------------------')\n",
    "print(\"Report for Training\")\n",
    "y_pred_train = prediction(classifier, x_train)\n",
    "f1_cm_report(y_train, y_pred_train, class_names=class_names)\n",
    "print('--------------------------------------------------------')\n",
    "print(\"Report for Testing\")\n",
    "y_pred_test = prediction(classifier, x_test)\n",
    "f1_cm_report(y_test, y_pred_test, class_names=class_names)"
   ]
  },
  {
   "cell_type": "code",
   "execution_count": 180,
   "metadata": {},
   "outputs": [
    {
     "name": "stdout",
     "output_type": "stream",
     "text": [
      "Fitting 5 folds for each of 6 candidates, totalling 30 fits\n",
      "[CV] alpha=0.1 .......................................................\n",
      "[CV] ........................................ alpha=0.1, total=   0.0s\n",
      "[CV] alpha=0.1 .......................................................\n",
      "[CV] ........................................ alpha=0.1, total=   0.0s\n",
      "[CV] alpha=0.1 .......................................................\n",
      "[CV] ........................................ alpha=0.1, total=   0.0s\n",
      "[CV] alpha=0.1 .......................................................\n",
      "[CV] ........................................ alpha=0.1, total=   0.0s\n",
      "[CV] alpha=0.1 .......................................................\n",
      "[CV] ........................................ alpha=0.1, total=   0.0s\n",
      "[CV] alpha=0.5 .......................................................\n",
      "[CV] ........................................ alpha=0.5, total=   0.0s\n",
      "[CV] alpha=0.5 .......................................................\n",
      "[CV] ........................................ alpha=0.5, total=   0.0s\n",
      "[CV] alpha=0.5 .......................................................\n",
      "[CV] ........................................ alpha=0.5, total=   0.0s\n",
      "[CV] alpha=0.5 .......................................................\n",
      "[CV] ........................................ alpha=0.5, total=   0.0s\n",
      "[CV] alpha=0.5 .......................................................\n",
      "[CV] ........................................ alpha=0.5, total=   0.0s\n",
      "[CV] alpha=1.0 .......................................................\n",
      "[CV] ........................................ alpha=1.0, total=   0.0s\n",
      "[CV] alpha=1.0 .......................................................\n",
      "[CV] ........................................ alpha=1.0, total=   0.0s\n",
      "[CV] alpha=1.0 .......................................................\n",
      "[CV] ........................................ alpha=1.0, total=   0.0s\n",
      "[CV] alpha=1.0 .......................................................\n",
      "[CV] ........................................ alpha=1.0, total=   0.0s\n",
      "[CV] alpha=1.0 .......................................................\n",
      "[CV] ........................................ alpha=1.0, total=   0.0s\n",
      "[CV] alpha=5 .........................................................\n",
      "[CV] .......................................... alpha=5, total=   0.0s\n",
      "[CV] alpha=5 .........................................................\n",
      "[CV] .......................................... alpha=5, total=   0.0s\n",
      "[CV] alpha=5 .........................................................\n",
      "[CV] .......................................... alpha=5, total=   0.0s\n",
      "[CV] alpha=5 .........................................................\n",
      "[CV] .......................................... alpha=5, total=   0.0s\n",
      "[CV] alpha=5 .........................................................\n",
      "[CV] .......................................... alpha=5, total=   0.0s\n",
      "[CV] alpha=10 ........................................................\n",
      "[CV] ......................................... alpha=10, total=   0.0s\n",
      "[CV] alpha=10 ........................................................\n",
      "[CV] ......................................... alpha=10, total=   0.0s\n",
      "[CV] alpha=10 ........................................................\n",
      "[CV] ......................................... alpha=10, total=   0.0s\n",
      "[CV] alpha=10 ........................................................\n"
     ]
    },
    {
     "name": "stderr",
     "output_type": "stream",
     "text": [
      "[Parallel(n_jobs=1)]: Using backend SequentialBackend with 1 concurrent workers.\n",
      "[Parallel(n_jobs=1)]: Done   1 out of   1 | elapsed:    0.0s remaining:    0.0s\n"
     ]
    },
    {
     "name": "stdout",
     "output_type": "stream",
     "text": [
      "[CV] ......................................... alpha=10, total=   0.0s\n",
      "[CV] alpha=10 ........................................................\n",
      "[CV] ......................................... alpha=10, total=   0.0s\n",
      "[CV] alpha=100 .......................................................\n",
      "[CV] ........................................ alpha=100, total=   0.0s\n",
      "[CV] alpha=100 .......................................................\n",
      "[CV] ........................................ alpha=100, total=   0.0s\n",
      "[CV] alpha=100 .......................................................\n",
      "[CV] ........................................ alpha=100, total=   0.0s\n",
      "[CV] alpha=100 .......................................................\n",
      "[CV] ........................................ alpha=100, total=   0.0s\n",
      "[CV] alpha=100 .......................................................\n",
      "[CV] ........................................ alpha=100, total=   0.0s\n",
      "-------------------------\n",
      "Best Hyperparameter Setting (by f1 score): CategoricalNB(alpha=0.1)\n",
      "Classes:  [0 1]\n",
      "Class Log Priors:  [-0.16812626 -1.86592567]\n",
      "--------------------------------------------------------\n",
      "Report for Training\n",
      "F1 Score: 0.37\n",
      "              precision    recall  f1-score   support\n",
      "\n",
      "       False       0.88      0.88      0.88      7816\n",
      "        True       0.37      0.37      0.37      1431\n",
      "\n",
      "    accuracy                           0.80      9247\n",
      "   macro avg       0.63      0.63      0.63      9247\n",
      "weighted avg       0.81      0.80      0.80      9247\n",
      "\n",
      "Confusion Matrix: \n",
      " [[6901  915]\n",
      " [ 897  534]]\n",
      "--------------------------------------------------------\n",
      "Report for Testing\n",
      "F1 Score: 0.36\n",
      "              precision    recall  f1-score   support\n",
      "\n",
      "       False       0.88      0.89      0.89      2606\n",
      "        True       0.37      0.35      0.36       477\n",
      "\n",
      "    accuracy                           0.81      3083\n",
      "   macro avg       0.63      0.62      0.62      3083\n",
      "weighted avg       0.80      0.81      0.81      3083\n",
      "\n",
      "Confusion Matrix: \n",
      " [[2321  285]\n",
      " [ 309  168]]\n"
     ]
    },
    {
     "name": "stderr",
     "output_type": "stream",
     "text": [
      "[Parallel(n_jobs=1)]: Done  30 out of  30 | elapsed:    0.3s finished\n"
     ]
    },
    {
     "data": {
      "text/plain": [
       "(0.3612903225806451, 0.23959328848811412)"
      ]
     },
     "execution_count": 180,
     "metadata": {},
     "output_type": "execute_result"
    },
    {
     "data": {
      "image/png": "[encoded data removed]",
      "text/plain": [
       "<Figure size 288x288 with 1 Axes>"
      ]
     },
     "metadata": {
      "needs_background": "light"
     },
     "output_type": "display_data"
    },
    {
     "data": {
      "image/png": "[encoded data removed]",
      "text/plain": [
       "<Figure size 288x288 with 1 Axes>"
      ]
     },
     "metadata": {
      "needs_background": "light"
     },
     "output_type": "display_data"
    }
   ],
   "source": [
    "x, y, class_names, feature_names = xy_split(data_frame_os_cat)\n",
    "\n",
    "x_train, x_test, y_train, y_test, classifier = train_test_classifier(x, y, test_size=0.25)\n",
    "print('--------------------------------------------------------')\n",
    "print(\"Report for Training\")\n",
    "y_pred_train = prediction(classifier, x_train)\n",
    "f1_cm_report(y_train, y_pred_train, class_names=class_names)\n",
    "print('--------------------------------------------------------')\n",
    "print(\"Report for Testing\")\n",
    "y_pred_test = prediction(classifier, x_test)\n",
    "f1_cm_report(y_test, y_pred_test, class_names=class_names)"
   ]
  },
  {
   "cell_type": "markdown",
   "metadata": {},
   "source": [
    "# Mixed Naive Bayes Classifier\n",
    "\n",
    "As explained earlier, the Mixed Naive Bayes approach is to independently fit a Gaussian NB Classifier and Categorical NB Classifier for the respective numerical and categorical features, and then transform the dataset by setting the class assignment probabilities as new features (this works due to the Naive assumption of independence between features). Following which, a Gaussian NB classifier will be refit on these features. \n",
    "\n",
    "The distribution used for the Categorical Naive Bayes Classifier has been explained above.\n",
    "\n",
    "Meanwhile, for the Gaussian Naive Bayes Classifier, the mean ($\\mu$) and variance ($\\sigma^2$) for $x$ in each class $k$ is first calculated, then the likelihood $P(x_i|C_k)$ is calculated using the formula:<br>\n",
    "\n",
    "<center> $P(x_i|C_k) = \\large\\frac{1}{\\sqrt[2]{2\\pi\\sigma^2}}$$e^{\\large\\frac{(x_i-\\mu_k)^2}{2\\sigma^2_k}}$ </center>\n",
    "\n",
    "There are no hyperparameters.\n",
    "\n",
    "#### Results \n",
    "\n",
    "As seen from the much lower f1 scores of the MixedNB model, this model performs significantly poorer as compared to the CategoricalNB method. As such, the CategoricalNB model has been selected to continue further analysis in the following sections. "
   ]
  },
  {
   "cell_type": "code",
   "execution_count": 25,
   "metadata": {},
   "outputs": [
    {
     "name": "stdout",
     "output_type": "stream",
     "text": [
      "Fitting 5 folds for each of 6 candidates, totalling 30 fits\n",
      "[CV] END ..........................................alpha=0.1; total time=   0.0s\n",
      "[CV] END ..........................................alpha=0.1; total time=   0.0s\n",
      "[CV] END ..........................................alpha=0.1; total time=   0.0s\n",
      "[CV] END ..........................................alpha=0.1; total time=   0.0s\n",
      "[CV] END ..........................................alpha=0.1; total time=   0.0s\n",
      "[CV] END ..........................................alpha=0.5; total time=   0.0s\n",
      "[CV] END ..........................................alpha=0.5; total time=   0.0s\n",
      "[CV] END ..........................................alpha=0.5; total time=   0.0s\n",
      "[CV] END ..........................................alpha=0.5; total time=   0.0s\n",
      "[CV] END ..........................................alpha=0.5; total time=   0.0s\n",
      "[CV] END ..........................................alpha=1.0; total time=   0.0s\n",
      "[CV] END ..........................................alpha=1.0; total time=   0.0s\n",
      "[CV] END ..........................................alpha=1.0; total time=   0.0s\n",
      "[CV] END ..........................................alpha=1.0; total time=   0.0s\n",
      "[CV] END ..........................................alpha=1.0; total time=   0.0s\n",
      "[CV] END ............................................alpha=5; total time=   0.0s\n",
      "[CV] END ............................................alpha=5; total time=   0.0s\n",
      "[CV] END ............................................alpha=5; total time=   0.0s\n",
      "[CV] END ............................................alpha=5; total time=   0.0s\n",
      "[CV] END ............................................alpha=5; total time=   0.0s\n",
      "[CV] END ...........................................alpha=10; total time=   0.0s\n",
      "[CV] END ...........................................alpha=10; total time=   0.0s\n",
      "[CV] END ...........................................alpha=10; total time=   0.0s\n",
      "[CV] END ...........................................alpha=10; total time=   0.0s\n",
      "[CV] END ...........................................alpha=10; total time=   0.0s\n",
      "[CV] END ..........................................alpha=100; total time=   0.0s\n",
      "[CV] END ..........................................alpha=100; total time=   0.0s\n",
      "[CV] END ..........................................alpha=100; total time=   0.0s\n",
      "[CV] END ..........................................alpha=100; total time=   0.0s\n",
      "[CV] END ..........................................alpha=100; total time=   0.0s\n",
      "--------------------------------------------------------\n",
      "Report for Training\n",
      "F1 Score: 0.12\n",
      "              precision    recall  f1-score   support\n",
      "\n",
      "       False       0.85      0.97      0.91      7828\n",
      "        True       0.33      0.08      0.12      1419\n",
      "\n",
      "    accuracy                           0.83      9247\n",
      "   macro avg       0.59      0.52      0.52      9247\n",
      "weighted avg       0.77      0.83      0.79      9247\n",
      "\n",
      "Confusion Matrix: \n",
      " [[7608  220]\n",
      " [1311  108]]\n",
      "--------------------------------------------------------\n",
      "Report for Testing\n",
      "F1 Score: 0.10\n",
      "              precision    recall  f1-score   support\n",
      "\n",
      "       False       0.85      0.98      0.91      2594\n",
      "        True       0.32      0.06      0.10       489\n",
      "\n",
      "    accuracy                           0.83      3083\n",
      "   macro avg       0.58      0.52      0.50      3083\n",
      "weighted avg       0.76      0.83      0.78      3083\n",
      "\n",
      "Confusion Matrix: \n",
      " [[2531   63]\n",
      " [ 459   30]]\n"
     ]
    },
    {
     "data": {
      "text/plain": [
       "0.10309278350515465"
      ]
     },
     "execution_count": 25,
     "metadata": {},
     "output_type": "execute_result"
    },
    {
     "data": {
      "image/png": "[encoded data removed]",
      "text/plain": [
       "<Figure size 288x288 with 1 Axes>"
      ]
     },
     "metadata": {
      "needs_background": "light"
     },
     "output_type": "display_data"
    },
    {
     "data": {
      "image/png": "[encoded data removed]",
      "text/plain": [
       "<Figure size 288x288 with 1 Axes>"
      ]
     },
     "metadata": {
      "needs_background": "light"
     },
     "output_type": "display_data"
    }
   ],
   "source": [
    "# ----- Prepare data -----\n",
    "# Select data for modeling\n",
    "\n",
    "x_g = data_frame_os_mixed[['ProductRelated_Duration', 'ProductRelatedAve', 'BounceRates', 'ExitRates', 'SpecialDay']]\n",
    "x_c = data_frame_os_mixed[['Month', 'Region', 'VisitorType', 'Weekend']]\n",
    "Y = data_frame_os_mixed[['Revenue']].values\n",
    "\n",
    "# Combine all variables into one array\n",
    "X=np.c_[x_g, x_c]\n",
    "\n",
    "# Create training and testing samples\n",
    "X_train, X_test, Y_train, Y_test = model_selection.train_test_split(X, Y, test_size=0.25, random_state=42)\n",
    "\n",
    "# ----- Fit the two models -----\n",
    "# Now use the Gaussian model for continuous independent variable and \n",
    "model_G = GaussianNB()\n",
    "clf_G = model_G.fit(X_train[:,0:5], Y_train)\n",
    "# Categorical model for discrete independent variable\n",
    "param_grid = [{'alpha': [0.1,0.5, 1.0, 5, 10, 100]}]\n",
    "model_C = CategoricalNB()\n",
    "grid_search = GridSearchCV(model_C, param_grid, cv=5, verbose=2, scoring = 'f1')\n",
    "clf_C = grid_search.fit(X_train[:,5:9], Y_train)\n",
    "model_C = grid_search.best_estimator_\n",
    "model_C.fit(X_train[:,5:9], Y_train)\n",
    "\n",
    "# ----- Get probability predictions from each model -----\n",
    "# On training data\n",
    "G_train_probas = model_G.predict_proba(X_train[:,0:5])\n",
    "C_train_probas = model_C.predict_proba(X_train[:,5:9])\n",
    "# And on testing data\n",
    "G_test_probas = model_G.predict_proba(X_test[:,0:5])\n",
    "C_test_probas = model_C.predict_proba(X_test[:,5:9])\n",
    "\n",
    "# Combine probability prediction for class= 1 from both models into a 2D array\n",
    "X_new_train = np.c_[(G_train_probas[:,1], C_train_probas[:,1])] # Train\n",
    "X_new_test = np.c_[(G_test_probas[:,1], C_test_probas[:,1])] # Test\n",
    "\n",
    "# ----- Fit Gaussian model on the X_new -----\n",
    "model = GaussianNB()\n",
    "clf = model.fit(X_new_train, Y_train)\n",
    "\n",
    "# Predict class labels on a test data\n",
    "Y_pred_train = clf.predict(X_new_train)\n",
    "Y_pred_test = clf.predict(X_new_test)\n",
    "\n",
    "print('--------------------------------------------------------')\n",
    "print(\"Report for Training\")\n",
    "y_pred_train = prediction(clf, X_new_train)\n",
    "f1_cm_report(Y_train, Y_pred_train, class_names=None)\n",
    "print('--------------------------------------------------------')\n",
    "print(\"Report for Testing\")\n",
    "y_pred_test = prediction(clf, X_new_test)\n",
    "f1_cm_report(Y_test, Y_pred_test, class_names=None)"
   ]
  },
  {
   "cell_type": "markdown",
   "metadata": {},
   "source": [
    "# Feature Importance\n",
    "\n",
    "Permutation feature importance is a model inspection technique that can be defined as the decrease in the model score when a single feature value is randomly shuffled [6]. By doing so, this breaks the relationship between the feature and target, and the resulting drop in the model score (this is returned as a value > 0, where values <= 0 indicates the features do not contribute at all) can indicate how dependent the model is on the feature for making predictions. \n",
    "\n",
    "Through this, it is possible to highlight the features that contribute to the generalization power of the model. Additionally, comparison of differences between the training and test set could lead to identification of features that may lead to overfitting (in the case where features which are important in the training set are not in the test set). \n",
    "\n",
    "This is achieved using the *permutation_importance* function from scikit, where features have been set to shuffle 10 times randomly in this case [7]. F1 is the performance metric (the function uses the estimator's performance metric which has been set earlier).\n",
    "\n",
    "#### Results\n",
    "\n",
    "From the results, it seems like all the features (except Month) generally does not contribute much to the predictive power of the model based on the values returned (highest value was 0.015, rest was close to 0). However, it must be noted that this does not imply anything about the intrinsic predictive value of the features. Also, both training and test set share the same important features, hence overfitting is unlikely to be a concern here. "
   ]
  },
  {
   "cell_type": "code",
   "execution_count": 459,
   "metadata": {},
   "outputs": [
    {
     "name": "stdout",
     "output_type": "stream",
     "text": [
      "Feature ranking:\n",
      "1. Month (0.004109)\n",
      "2. VisitorType (0.001719)\n",
      "3. Weekend (0.000865)\n",
      "4. Region (-0.000173)\n",
      "5. SpecialDay (-0.003926)\n",
      "6. ProductRelated_Duration (-0.004921)\n",
      "7. ProductRelatedAve (-0.006608)\n",
      "8. BounceRates (-0.008414)\n",
      "9. ExitRates (-0.008684)\n"
     ]
    },
    {
     "data": {
      "image/png": "[encoded data removed]",
      "text/plain": [
       "<Figure size 936x432 with 1 Axes>"
      ]
     },
     "metadata": {
      "needs_background": "light"
     },
     "output_type": "display_data"
    }
   ],
   "source": [
    "imps = permutation_importance(classifier, x_train, y_train, n_repeats = 10)\n",
    "importances = imps.importances_mean\n",
    "std = imps.importances_std\n",
    "indices = np.argsort(importances)[::-1]\n",
    "\n",
    "# Print the feature ranking\n",
    "print(\"Feature ranking:\")\n",
    "for f in range(x_train.shape[1]):\n",
    "    print(\"%d. %s (%f)\" % (f + 1, features[indices[f]], importances[indices[f]]))\n",
    "    \n",
    "plt.figure(figsize=(13, 6))\n",
    "plt.title(\"Feature importances: Training Set\")\n",
    "plt.bar(range(x_train.shape[1]), importances[indices], color=\"r\", yerr=std[indices], align=\"center\")\n",
    "plt.xticks(range(x_train.shape[1]), [features[indices[i]] for i in range(9)], rotation='vertical')\n",
    "plt.xlim([-1, x_train.shape[1]])\n",
    "plt.show()"
   ]
  },
  {
   "cell_type": "code",
   "execution_count": 460,
   "metadata": {},
   "outputs": [
    {
     "name": "stdout",
     "output_type": "stream",
     "text": [
      "Feature ranking:\n",
      "1. Month (0.015504)\n",
      "2. VisitorType (0.002465)\n",
      "3. Region (0.001362)\n",
      "4. Weekend (-0.002400)\n",
      "5. SpecialDay (-0.003049)\n",
      "6. ProductRelated_Duration (-0.004249)\n",
      "7. BounceRates (-0.006682)\n",
      "8. ExitRates (-0.007071)\n",
      "9. ProductRelatedAve (-0.008174)\n"
     ]
    },
    {
     "data": {
      "image/png": "[encoded data removed]",
      "text/plain": [
       "<Figure size 936x432 with 1 Axes>"
      ]
     },
     "metadata": {
      "needs_background": "light"
     },
     "output_type": "display_data"
    }
   ],
   "source": [
    "imps = permutation_importance(classifier, x_test, y_test, n_repeats = 10)\n",
    "importances = imps.importances_mean\n",
    "std = imps.importances_std\n",
    "indices = np.argsort(importances)[::-1]\n",
    "\n",
    "# Print the feature ranking\n",
    "print(\"Feature ranking:\")\n",
    "for f in range(x_test.shape[1]):\n",
    "    print(\"%d. %s (%f)\" % (f + 1, features[indices[f]], importances[indices[f]]))\n",
    "    \n",
    "plt.figure(figsize=(13, 6))\n",
    "plt.title(\"Feature importances: Test Set\")\n",
    "plt.bar(range(x_test.shape[1]), importances[indices], color=\"r\", yerr=std[indices], align=\"center\")\n",
    "plt.xticks(range(x_test.shape[1]), [features[indices[i]] for i in range(9)], rotation='vertical')\n",
    "plt.xlim([-1, x_test.shape[1]])\n",
    "plt.show()"
   ]
  },
  {
   "cell_type": "markdown",
   "metadata": {},
   "source": [
    "# PR Curves & Threshold Moving (For imbalanced classification)\n",
    "\n",
    "#### Precision-Recall Curve \n",
    "\n",
    "Precision-Recall (PR) Curves reflect the trade-off between the true positive rate and the positive predictive value across a range of probability thresholds (definitions were stated earlier above) [8]. The curve plots precision (y-axis) and the recall (x-axis) across different thresholds. The closer the curve to the top right of the plot, the better the model. The curve is generated using the *precision_recall_curve* function from the module *scikit-learn*, and displayed using the *Matplotlib* module. \n",
    "\n",
    "For this dataset, the PR curve is used instead of the Receiver Operator Characteristic (ROC) curve (which plot True positive rate against False positive rate) due to the imbalanced nature of the data, in which we are less concerned at the model's skill in prediction class 'False' correctly, and more concerned with the correct prediction of the minority class. \n",
    "\n",
    "A no-skill line has been plotted has well, and illustrates a no-skill classifier that is unable to discriminate between classes and always predict a random or constant class. This is a horizontal line depicting the ratio of the 'True' class in the dataset. \n",
    "\n",
    "The AUC score (Area Under Curve) summarizes the integral of the area under the PR curve. Generally, it can be interpreted as summarizizing the skill of a model across various thresholds.\n",
    "\n",
    "#### Threshold Moving\n",
    "\n",
    "While the algorithm predicts the probabilities of a class given the sample features, for binary classification problems (as in this case), a threshold must be set such that values >= to the threshold are mapped to one class and the remaining values to the other class. Typically, the threshold used is 0.5. However, as the class data on this dataset is imbalanced, such a threshold could result in poor performance due to the lower probability of occurence of the rarer class. As such, the threshold has been tuned by identifying the threshold which gives the highest model perfomance (F1 score) [9]. The identified threshold is also plotted on the PR curve for ease of comprehension. \n",
    "\n",
    "#### Results \n",
    "\n",
    "As seen, if the threshold is reduced to 0.352, the f score improves from 0.36 to 0.396, improving the performance of the model. "
   ]
  },
  {
   "cell_type": "code",
   "execution_count": 181,
   "metadata": {},
   "outputs": [
    {
     "name": "stdout",
     "output_type": "stream",
     "text": [
      "Counter({0: 2630, 1: 453})\n"
     ]
    },
    {
     "data": {
      "image/png": "[encoded data removed]",
      "text/plain": [
       "<Figure size 432x288 with 1 Axes>"
      ]
     },
     "metadata": {
      "needs_background": "light"
     },
     "output_type": "display_data"
    }
   ],
   "source": [
    "# retrieve just the probabilities for the positive class\n",
    "y_prob_categorical = classifier.predict_proba(x_test)[:,1]\n",
    "\n",
    "# summarize the distribution of class labels\n",
    "print(Counter(y_pred_test))\n",
    "\n",
    "# create a histogram of the predicted probabilities\n",
    "pyplot.hist(y_prob_categorical, bins=100)\n",
    "pyplot.show() # can see that majority of probabilities fall under 0.5"
   ]
  },
  {
   "cell_type": "code",
   "execution_count": 114,
   "metadata": {},
   "outputs": [
    {
     "name": "stdout",
     "output_type": "stream",
     "text": [
      "PR AUC: 0.318\n",
      "Best Threshold=0.352096, F-Score=0.396\n"
     ]
    },
    {
     "data": {
      "image/png": "[encoded data removed]",
      "text/plain": [
       "<Figure size 576x432 with 1 Axes>"
      ]
     },
     "metadata": {
      "needs_background": "light"
     },
     "output_type": "display_data"
    }
   ],
   "source": [
    "# plot no skill and model precision-recall curves\n",
    "def plot_pr_curve(y_test, model_probs):\n",
    "    #obtain precision recall and thresholds\n",
    "    precision, recall, thresholds = precision_recall_curve(y_test, model_probs)\n",
    "    # calculate the no skill line as the proportion of the positive class\n",
    "    no_skill = len(y_test[y_test==1]) / len(y_test)\n",
    "    # calculating the AUC score\n",
    "    auc_score = auc(recall, precision)\n",
    "    print('PR AUC: %.3f' % auc_score)\n",
    "    # convert to f score\n",
    "    fscore = (2 * precision * recall) / (precision + recall)\n",
    "    # locate the index of the largest f score\n",
    "    ix = argmax(fscore)\n",
    "    print('Best Threshold=%f, F-Score=%.3f' % (thresholds[ix], fscore[ix]))\n",
    "    \n",
    "    plt.figure(figsize=(8, 6))\n",
    "    # plot the no skill precision-recall curve\n",
    "    plt.plot([0, 1], [no_skill, no_skill], linestyle='--', label='No Skill')\n",
    "    # plot PR curve\n",
    "    plt.plot(recall, precision, marker='.', label='Categorical', zorder=1)\n",
    "    # plot optimum threshold\n",
    "    plt.scatter(recall[ix], precision[ix], marker='o', color='black', label='Best', zorder=2)\n",
    "    # plot axis labels\n",
    "    plt.xlabel('Recall')\n",
    "    plt.ylabel('Precision')\n",
    "    # show the legend\n",
    "    plt.legend()\n",
    "    # show the plot\n",
    "    plt.show()\n",
    "\n",
    "plot_pr_curve(y_test, y_prob_categorical)"
   ]
  },
  {
   "cell_type": "markdown",
   "metadata": {},
   "source": [
    "# Resampling (for Imbalanced Dataset)\n",
    "\n",
    "Resampling techniques may also be helpful in helping to address the issue of class imbalance [10]. Three methods are tested below, oversampling, undersampling and synthetic minority oversampling. Oversampling adds more copies of the minority class in the training set to make it even with the majority class, while conversely undersampling removes observations of the majority class. The *resampling* module from *Scikit-Learn* has been used to achieve this. \n",
    "\n",
    "Meanwhile, synthetic minority oversampling oversampling technique (SMOTE) creates synthetic samples using a nearest neighbors algorithm to generate new and synthetic data. This is done using the *SMOTE* function from the *imblearn* module.\n",
    "\n",
    "#### Results\n",
    "\n",
    "As can be seen, all methods performed approximately equally, and returned improved performance of the model, raising the F1 score to 0.38 on the test set. The sampling techniques were particularly effective at reducing the false negatives, and consequently improving the recall scores drastically, but did not manage to improve the false positive scores (and in fact it performed worse than the original model). "
   ]
  },
  {
   "cell_type": "markdown",
   "metadata": {},
   "source": [
    "### Upsampling"
   ]
  },
  {
   "cell_type": "code",
   "execution_count": 187,
   "metadata": {},
   "outputs": [
    {
     "data": {
      "text/plain": [
       "1    7828\n",
       "0    7828\n",
       "Name: Revenue, dtype: int64"
      ]
     },
     "execution_count": 187,
     "metadata": {},
     "output_type": "execute_result"
    }
   ],
   "source": [
    "# Separate input features and target\n",
    "y = data_frame_os_cat.Revenue\n",
    "y, class_names = pd.factorize(y)\n",
    "y= pd.DataFrame({'Revenue':y}) \n",
    "x = data_frame_os_cat.drop('Revenue', axis=1)\n",
    "\n",
    "# setting up testing and training sets\n",
    "x_train, x_test, y_train, y_test = model_selection.train_test_split(x, y, test_size=0.25, random_state=42)\n",
    "\n",
    "# concatenate our training data back together\n",
    "X = pd.concat([x_train, y_train], axis=1)\n",
    "\n",
    "# separate minority and majority classes\n",
    "not_true = X[X.Revenue==0]\n",
    "true = X[X.Revenue==1]\n",
    "\n",
    "# upsample minority\n",
    "true_upsampled = resample(true,\n",
    "                          replace=True, # sample with replacement\n",
    "                          n_samples=len(not_true), # match number in majority class\n",
    "                          random_state=43) # reproducible results\n",
    "\n",
    "# combine majority and upsampled minority\n",
    "upsampled = pd.concat([not_true, true_upsampled])\n",
    "\n",
    "# check new class counts\n",
    "upsampled.Revenue.value_counts()"
   ]
  },
  {
   "cell_type": "code",
   "execution_count": 188,
   "metadata": {},
   "outputs": [
    {
     "name": "stdout",
     "output_type": "stream",
     "text": [
      "Report for Training Set\n",
      "F1 Score: 0.73\n",
      "              precision    recall  f1-score   support\n",
      "\n",
      "           0       0.76      0.56      0.65      7828\n",
      "           1       0.65      0.82      0.73      7828\n",
      "\n",
      "    accuracy                           0.69     15656\n",
      "   macro avg       0.71      0.69      0.69     15656\n",
      "weighted avg       0.71      0.69      0.69     15656\n",
      "\n",
      "Confusion Matrix: \n",
      " [[4386 3442]\n",
      " [1384 6444]]\n",
      "--------------------------------------------------------\n",
      "Report for Test Set\n",
      "F1 Score: 0.38\n",
      "              precision    recall  f1-score   support\n",
      "\n",
      "           0       0.93      0.57      0.71      2594\n",
      "           1       0.25      0.77      0.38       489\n",
      "\n",
      "    accuracy                           0.60      3083\n",
      "   macro avg       0.59      0.67      0.54      3083\n",
      "weighted avg       0.82      0.60      0.66      3083\n",
      "\n",
      "Confusion Matrix: \n",
      " [[1484 1110]\n",
      " [ 113  376]]\n"
     ]
    },
    {
     "data": {
      "text/plain": [
       "(0.3807594936708861, 0.23959328848811412)"
      ]
     },
     "execution_count": 188,
     "metadata": {},
     "output_type": "execute_result"
    },
    {
     "data": {
      "image/png": "[encoded data removed]",
      "text/plain": [
       "<Figure size 288x288 with 1 Axes>"
      ]
     },
     "metadata": {
      "needs_background": "light"
     },
     "output_type": "display_data"
    },
    {
     "data": {
      "image/png": "[encoded data removed]",
      "text/plain": [
       "<Figure size 288x288 with 1 Axes>"
      ]
     },
     "metadata": {
      "needs_background": "light"
     },
     "output_type": "display_data"
    }
   ],
   "source": [
    "y_train = upsampled.Revenue\n",
    "x_train = upsampled.drop('Revenue', axis=1)\n",
    "upsampled = classifier.fit(x_train, y_train)\n",
    "upsampled_pred_train = upsampled.predict(x_train)\n",
    "upsampled_pred_test = upsampled.predict(x_test)\n",
    "\n",
    "print('Report for Training Set')\n",
    "f1_cm_report(y_train, upsampled_pred_train, class_names=None)\n",
    "print('--------------------------------------------------------')\n",
    "print('Report for Test Set')\n",
    "f1_cm_report(y_test, upsampled_pred_test, class_names = None)"
   ]
  },
  {
   "cell_type": "markdown",
   "metadata": {},
   "source": [
    "### Downsampling"
   ]
  },
  {
   "cell_type": "code",
   "execution_count": 189,
   "metadata": {},
   "outputs": [
    {
     "data": {
      "text/plain": [
       "1    1419\n",
       "0    1419\n",
       "Name: Revenue, dtype: int64"
      ]
     },
     "execution_count": 189,
     "metadata": {},
     "output_type": "execute_result"
    }
   ],
   "source": [
    "# still using our separated classes true and not_true from above\n",
    "\n",
    "# downsample majority\n",
    "not_true_downsampled = resample(not_true,\n",
    "                                replace = False, # sample without replacement\n",
    "                                n_samples = len(true), # match minority n\n",
    "                                random_state = 42) # reproducible results\n",
    "\n",
    "# combine minority and downsampled majority\n",
    "downsampled = pd.concat([not_true_downsampled, true])\n",
    "\n",
    "# checking counts\n",
    "downsampled.Revenue.value_counts()"
   ]
  },
  {
   "cell_type": "code",
   "execution_count": 190,
   "metadata": {},
   "outputs": [
    {
     "name": "stdout",
     "output_type": "stream",
     "text": [
      "Report for Training Set\n",
      "F1 Score: 0.72\n",
      "              precision    recall  f1-score   support\n",
      "\n",
      "           0       0.75      0.56      0.64      1419\n",
      "           1       0.65      0.81      0.72      1419\n",
      "\n",
      "    accuracy                           0.69      2838\n",
      "   macro avg       0.70      0.69      0.68      2838\n",
      "weighted avg       0.70      0.69      0.68      2838\n",
      "\n",
      "Confusion Matrix: \n",
      " [[ 796  623]\n",
      " [ 264 1155]]\n",
      "--------------------------------------------------------\n",
      "Report for Test Set\n",
      "F1 Score: 0.38\n",
      "              precision    recall  f1-score   support\n",
      "\n",
      "           0       0.93      0.57      0.71      2594\n",
      "           1       0.25      0.77      0.38       489\n",
      "\n",
      "    accuracy                           0.60      3083\n",
      "   macro avg       0.59      0.67      0.55      3083\n",
      "weighted avg       0.82      0.60      0.66      3083\n",
      "\n",
      "Confusion Matrix: \n",
      " [[1485 1109]\n",
      " [ 112  377]]\n"
     ]
    },
    {
     "data": {
      "text/plain": [
       "(0.3817721518987342, 0.23959328848811412)"
      ]
     },
     "execution_count": 190,
     "metadata": {},
     "output_type": "execute_result"
    },
    {
     "data": {
      "image/png": "[encoded data removed]",
      "text/plain": [
       "<Figure size 288x288 with 1 Axes>"
      ]
     },
     "metadata": {
      "needs_background": "light"
     },
     "output_type": "display_data"
    },
    {
     "data": {
      "image/png": "[encoded data removed]",
      "text/plain": [
       "<Figure size 288x288 with 1 Axes>"
      ]
     },
     "metadata": {
      "needs_background": "light"
     },
     "output_type": "display_data"
    }
   ],
   "source": [
    "y_train = downsampled.Revenue\n",
    "x_train = downsampled.drop('Revenue', axis=1)\n",
    "downsampled = classifier.fit(x_train, y_train)\n",
    "downsampled_pred_train = downsampled.predict(x_train)\n",
    "downsampled_pred_test = downsampled.predict(x_test)\n",
    "\n",
    "print('Report for Training Set')\n",
    "f1_cm_report(y_train, downsampled_pred_train, class_names=None)\n",
    "print('--------------------------------------------------------')\n",
    "print('Report for Test Set')\n",
    "f1_cm_report(y_test, downsampled_pred_test, class_names=None)"
   ]
  },
  {
   "cell_type": "markdown",
   "metadata": {},
   "source": [
    "### SMOTE"
   ]
  },
  {
   "cell_type": "code",
   "execution_count": 23,
   "metadata": {},
   "outputs": [
    {
     "name": "stderr",
     "output_type": "stream",
     "text": [
      "/Users/clement/opt/anaconda3/envs/geospatial/lib/python3.8/site-packages/sklearn/utils/validation.py:63: DataConversionWarning: A column-vector y was passed when a 1d array was expected. Please change the shape of y to (n_samples, ), for example using ravel().\n",
      "  return f(*args, **kwargs)\n"
     ]
    },
    {
     "name": "stdout",
     "output_type": "stream",
     "text": [
      "Report for Training Set\n",
      "F1 Score: 0.73\n",
      "              precision    recall  f1-score   support\n",
      "\n",
      "           0       0.77      0.57      0.65      7828\n",
      "           1       0.66      0.83      0.73      7828\n",
      "\n",
      "    accuracy                           0.70     15656\n",
      "   macro avg       0.71      0.70      0.69     15656\n",
      "weighted avg       0.71      0.70      0.69     15656\n",
      "\n",
      "Confusion Matrix: \n",
      " [[4442 3386]\n",
      " [1339 6489]]\n",
      "--------------------------------------------------------\n",
      "Report for Test Set\n",
      "F1 Score: 0.38\n",
      "              precision    recall  f1-score   support\n",
      "\n",
      "           0       0.93      0.58      0.71      2594\n",
      "           1       0.25      0.75      0.38       489\n",
      "\n",
      "    accuracy                           0.61      3083\n",
      "   macro avg       0.59      0.67      0.55      3083\n",
      "weighted avg       0.82      0.61      0.66      3083\n",
      "\n",
      "Confusion Matrix: \n",
      " [[1502 1092]\n",
      " [ 120  369]]\n"
     ]
    },
    {
     "data": {
      "text/plain": [
       "0.3784615384615385"
      ]
     },
     "execution_count": 23,
     "metadata": {},
     "output_type": "execute_result"
    },
    {
     "data": {
      "image/png": "[encoded data removed]",
      "text/plain": [
       "<Figure size 288x288 with 1 Axes>"
      ]
     },
     "metadata": {
      "needs_background": "light"
     },
     "output_type": "display_data"
    },
    {
     "data": {
      "image/png": "[encoded data removed]",
      "text/plain": [
       "<Figure size 288x288 with 1 Axes>"
      ]
     },
     "metadata": {
      "needs_background": "light"
     },
     "output_type": "display_data"
    }
   ],
   "source": [
    "from imblearn.over_sampling import SMOTE\n",
    "\n",
    "y = data_frame_os_cat.Revenue\n",
    "y, class_names = pd.factorize(y)\n",
    "y = pd.DataFrame({'Revenue':y}) \n",
    "x = data_frame_os_cat.drop('Revenue', axis=1)\n",
    "\n",
    "# setting up testing and training sets\n",
    "X_train, X_test, y_train, y_test = model_selection.train_test_split(x, y, test_size=0.25, random_state=42)\n",
    "\n",
    "sm = SMOTE(random_state=27)\n",
    "X_train, y_train = sm.fit_resample(X_train, y_train)\n",
    "\n",
    "smote = CategoricalNB(alpha=0.1).fit(X_train, y_train)\n",
    "\n",
    "smote_pred_train = smote.predict(X_train)\n",
    "smote_pred_test = smote.predict(X_test)\n",
    "\n",
    "print('Report for Training Set')\n",
    "f1_cm_report(y_train, smote_pred_train, class_names=None)\n",
    "print('--------------------------------------------------------')\n",
    "print('Report for Test Set')\n",
    "f1_cm_report(y_test, smote_pred_test, class_names=None)\n"
   ]
  },
  {
   "cell_type": "markdown",
   "metadata": {},
   "source": [
    "# References \n",
    "\n",
    "1. Sakar, C.O. and Y.Sakar (2018) 'Online Shoppers Purchasing Intention Dataset', UCI Machine Learning Repository. Retrieved from https://archive.ics.uci.edu/ml/datasets/Online+Shoppers+Purchasing+Intention+Dataset\n",
    "\n",
    "2. Dobilas, S. (2021) 'Naive Bayes Classifier - How to Successfully Use It in Python'. Retrieved from https://towardsdatascience.com/naive-bayes-classifier-how-to-successfully-use-it-in-python-ecf76a995069\n",
    "\n",
    "3. sklearn.naive_bayes — scikit-learn 0.24.1 documentation. (n.d.). Retrieved from https://scikit-learn.org/stable/modules/classes.html#module-sklearn.naive_bayes\n",
    "\n",
    "4. Datalab, A. (2018) 'What is the Variance Inflation Factor (VIF). Retrieved from https://medium.com/@analyttica/what-is-the-variance-inflation-factor-vif-d1dc12bb9cf5\n",
    "\n",
    "5. sklearn.metrics.f1_score — scikit-learn 0.24.1 documentation. (n.d.). Retrieved from https://scikit-learn.org/stable/modules/generated/sklearn.metrics.f1_score.html\n",
    "\n",
    "6. Reddy, S.K. (2020) 'Feature Importance in Naive Bayes Classifiers'. Retrieved from\n",
    "https://inblog.in/Feature-Importance-in-Naive-Bayes-Classifiers-5qob5d5sFW\n",
    "\n",
    "7. Permutation feature importance - scikit-learn 0.24.1 documentation. (n.d.). Retrieved from https://scikit-learn.org/stable/modules/permutation_importance.html#:~:text=The%20permutation%20feature%20importance%20is,model%20depends%20on%20the%20feature.\n",
    "\n",
    "8. Brownlee, J. (2018) 'How to Use ROC Curves and Precision-Recall Curves for Classification in Python'. Retrieved from https://machinelearningmastery.com/roc-curves-and-precision-recall-curves-for-classification-in-python/\n",
    "\n",
    "9. BrownLee, J. (2020) 'ROC Curves and Precision-Recall Curves for imbalanced classification'. Retrieved from https://machinelearningmastery.com/roc-curves-and-precision-recall-curves-for-imbalanced-classification/\n",
    "\n",
    "10. Boyle, T. (2019) 'Dealing with Imbalanced Data'. Retrieved from https://towardsdatascience.com/methods-for-dealing-with-imbalanced-data-5b761be45a18\n"
   ]
  }
 ],
 "metadata": {
  "kernelspec": {
   "display_name": "Python 3",
   "language": "python",
   "name": "python3"
  },
  "language_info": {
   "codemirror_mode": {
    "name": "ipython",
    "version": 3
   },
   "file_extension": ".py",
   "mimetype": "text/x-python",
   "name": "python",
   "nbconvert_exporter": "python",
   "pygments_lexer": "ipython3",
   "version": "3.8.2"
  }
 },
 "nbformat": 4,
 "nbformat_minor": 4
}
