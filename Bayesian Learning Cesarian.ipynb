{
 "cells": [
  {
   "cell_type": "markdown",
   "metadata": {},
   "source": [
    "# 1. Dataset Preparation "
   ]
  },
  {
   "cell_type": "code",
   "execution_count": 296,
   "metadata": {},
   "outputs": [
    {
     "data": {
      "text/html": [
       "<div>\n",
       "<style scoped>\n",
       "    .dataframe tbody tr th:only-of-type {\n",
       "        vertical-align: middle;\n",
       "    }\n",
       "\n",
       "    .dataframe tbody tr th {\n",
       "        vertical-align: top;\n",
       "    }\n",
       "\n",
       "    .dataframe thead th {\n",
       "        text-align: right;\n",
       "    }\n",
       "</style>\n",
       "<table border=\"1\" class=\"dataframe\">\n",
       "  <thead>\n",
       "    <tr style=\"text-align: right;\">\n",
       "      <th></th>\n",
       "      <th>Age</th>\n",
       "      <th>Delivery number</th>\n",
       "      <th>Delivery time</th>\n",
       "      <th>Blood of Pressure</th>\n",
       "      <th>Heart Problem</th>\n",
       "      <th>Caesarian</th>\n",
       "    </tr>\n",
       "  </thead>\n",
       "  <tbody>\n",
       "    <tr>\n",
       "      <th>0</th>\n",
       "      <td>22</td>\n",
       "      <td>1</td>\n",
       "      <td>0</td>\n",
       "      <td>2</td>\n",
       "      <td>0</td>\n",
       "      <td>0</td>\n",
       "    </tr>\n",
       "    <tr>\n",
       "      <th>1</th>\n",
       "      <td>26</td>\n",
       "      <td>2</td>\n",
       "      <td>0</td>\n",
       "      <td>1</td>\n",
       "      <td>0</td>\n",
       "      <td>1</td>\n",
       "    </tr>\n",
       "    <tr>\n",
       "      <th>2</th>\n",
       "      <td>26</td>\n",
       "      <td>2</td>\n",
       "      <td>1</td>\n",
       "      <td>1</td>\n",
       "      <td>0</td>\n",
       "      <td>0</td>\n",
       "    </tr>\n",
       "    <tr>\n",
       "      <th>3</th>\n",
       "      <td>28</td>\n",
       "      <td>1</td>\n",
       "      <td>0</td>\n",
       "      <td>2</td>\n",
       "      <td>0</td>\n",
       "      <td>0</td>\n",
       "    </tr>\n",
       "    <tr>\n",
       "      <th>4</th>\n",
       "      <td>22</td>\n",
       "      <td>2</td>\n",
       "      <td>0</td>\n",
       "      <td>1</td>\n",
       "      <td>0</td>\n",
       "      <td>1</td>\n",
       "    </tr>\n",
       "    <tr>\n",
       "      <th>...</th>\n",
       "      <td>...</td>\n",
       "      <td>...</td>\n",
       "      <td>...</td>\n",
       "      <td>...</td>\n",
       "      <td>...</td>\n",
       "      <td>...</td>\n",
       "    </tr>\n",
       "    <tr>\n",
       "      <th>75</th>\n",
       "      <td>27</td>\n",
       "      <td>2</td>\n",
       "      <td>1</td>\n",
       "      <td>1</td>\n",
       "      <td>0</td>\n",
       "      <td>0</td>\n",
       "    </tr>\n",
       "    <tr>\n",
       "      <th>76</th>\n",
       "      <td>33</td>\n",
       "      <td>4</td>\n",
       "      <td>0</td>\n",
       "      <td>1</td>\n",
       "      <td>0</td>\n",
       "      <td>1</td>\n",
       "    </tr>\n",
       "    <tr>\n",
       "      <th>77</th>\n",
       "      <td>29</td>\n",
       "      <td>2</td>\n",
       "      <td>1</td>\n",
       "      <td>2</td>\n",
       "      <td>0</td>\n",
       "      <td>1</td>\n",
       "    </tr>\n",
       "    <tr>\n",
       "      <th>78</th>\n",
       "      <td>25</td>\n",
       "      <td>1</td>\n",
       "      <td>2</td>\n",
       "      <td>0</td>\n",
       "      <td>0</td>\n",
       "      <td>1</td>\n",
       "    </tr>\n",
       "    <tr>\n",
       "      <th>79</th>\n",
       "      <td>24</td>\n",
       "      <td>2</td>\n",
       "      <td>2</td>\n",
       "      <td>1</td>\n",
       "      <td>0</td>\n",
       "      <td>0</td>\n",
       "    </tr>\n",
       "  </tbody>\n",
       "</table>\n",
       "<p>80 rows × 6 columns</p>\n",
       "</div>"
      ],
      "text/plain": [
       "   Age Delivery number Delivery time Blood of Pressure Heart Problem Caesarian\n",
       "0   22               1             0                 2             0         0\n",
       "1   26               2             0                 1             0         1\n",
       "2   26               2             1                 1             0         0\n",
       "3   28               1             0                 2             0         0\n",
       "4   22               2             0                 1             0         1\n",
       "..  ..             ...           ...               ...           ...       ...\n",
       "75  27               2             1                 1             0         0\n",
       "76  33               4             0                 1             0         1\n",
       "77  29               2             1                 2             0         1\n",
       "78  25               1             2                 0             0         1\n",
       "79  24               2             2                 1             0         0\n",
       "\n",
       "[80 rows x 6 columns]"
      ]
     },
     "execution_count": 296,
     "metadata": {},
     "output_type": "execute_result"
    }
   ],
   "source": [
    "import arff\n",
    "import numpy as np\n",
    "import pandas as pd\n",
    "\n",
    "def readCeserianFile(filePath):\n",
    "    # read arff data\n",
    "    with open(filePath) as f:\n",
    "        # load reads the arff db as a dictionary with\n",
    "        # the data as a list of lists at key \"data\"\n",
    "        dataDictionary = arff.load(f)\n",
    "        f.close()\n",
    "        \n",
    "    # extract data and convert to numpy array\n",
    "    arffData = np.array(dataDictionary['data'])\n",
    "    arffAttributes = [i[0] for i in dataDictionary['attributes']]\n",
    "\n",
    "    return pd.DataFrame(arffData, columns=arffAttributes) \n",
    "\n",
    "df = readCeserianFile(\"caesarian.csv.arff\")\n",
    "df"
   ]
  },
  {
   "cell_type": "code",
   "execution_count": 297,
   "metadata": {},
   "outputs": [
    {
     "data": {
      "text/html": [
       "<div>\n",
       "<style scoped>\n",
       "    .dataframe tbody tr th:only-of-type {\n",
       "        vertical-align: middle;\n",
       "    }\n",
       "\n",
       "    .dataframe tbody tr th {\n",
       "        vertical-align: top;\n",
       "    }\n",
       "\n",
       "    .dataframe thead th {\n",
       "        text-align: right;\n",
       "    }\n",
       "</style>\n",
       "<table border=\"1\" class=\"dataframe\">\n",
       "  <thead>\n",
       "    <tr style=\"text-align: right;\">\n",
       "      <th></th>\n",
       "      <th>Age</th>\n",
       "      <th>Delivery number</th>\n",
       "      <th>Delivery time</th>\n",
       "      <th>Blood of Pressure</th>\n",
       "      <th>Heart Problem</th>\n",
       "      <th>Caesarian</th>\n",
       "    </tr>\n",
       "  </thead>\n",
       "  <tbody>\n",
       "    <tr>\n",
       "      <th>count</th>\n",
       "      <td>80</td>\n",
       "      <td>80</td>\n",
       "      <td>80</td>\n",
       "      <td>80</td>\n",
       "      <td>80</td>\n",
       "      <td>80</td>\n",
       "    </tr>\n",
       "    <tr>\n",
       "      <th>unique</th>\n",
       "      <td>22</td>\n",
       "      <td>4</td>\n",
       "      <td>3</td>\n",
       "      <td>3</td>\n",
       "      <td>2</td>\n",
       "      <td>2</td>\n",
       "    </tr>\n",
       "    <tr>\n",
       "      <th>top</th>\n",
       "      <td>26</td>\n",
       "      <td>1</td>\n",
       "      <td>0</td>\n",
       "      <td>1</td>\n",
       "      <td>0</td>\n",
       "      <td>1</td>\n",
       "    </tr>\n",
       "    <tr>\n",
       "      <th>freq</th>\n",
       "      <td>10</td>\n",
       "      <td>41</td>\n",
       "      <td>46</td>\n",
       "      <td>40</td>\n",
       "      <td>50</td>\n",
       "      <td>46</td>\n",
       "    </tr>\n",
       "  </tbody>\n",
       "</table>\n",
       "</div>"
      ],
      "text/plain": [
       "       Age Delivery number Delivery time Blood of Pressure Heart Problem  \\\n",
       "count   80              80            80                80            80   \n",
       "unique  22               4             3                 3             2   \n",
       "top     26               1             0                 1             0   \n",
       "freq    10              41            46                40            50   \n",
       "\n",
       "       Caesarian  \n",
       "count         80  \n",
       "unique         2  \n",
       "top            1  \n",
       "freq          46  "
      ]
     },
     "execution_count": 297,
     "metadata": {},
     "output_type": "execute_result"
    }
   ],
   "source": [
    "df.describe()"
   ]
  },
  {
   "cell_type": "markdown",
   "metadata": {},
   "source": [
    "# 2. Preparing Algorithms"
   ]
  },
  {
   "cell_type": "code",
   "execution_count": 315,
   "metadata": {},
   "outputs": [],
   "source": [
    "import sklearn\n",
    "from sklearn.naive_bayes import BernoulliNB\n",
    "from sklearn.naive_bayes import CategoricalNB\n",
    "from sklearn.naive_bayes import ComplementNB\n",
    "from sklearn.naive_bayes import GaussianNB\n",
    "from sklearn.naive_bayes import MultinomialNB\n",
    "from mixed_naive_bayes import MixedNB\n",
    "from sklearn import model_selection\n",
    "from sklearn.model_selection import GridSearchCV\n",
    "from sklearn.metrics import roc_curve, roc_auc_score\n",
    "import seaborn as sns\n",
    "from matplotlib import pyplot as plt"
   ]
  },
  {
   "cell_type": "code",
   "execution_count": 4,
   "metadata": {},
   "outputs": [],
   "source": [
    "def read_data_return_frame(filename):\n",
    "    dataframe = readCeserianFile(filename)\n",
    "    feature_names = list(dataframe.columns)[:-1]\n",
    "\n",
    "    #   return all column except last one for arttributes\n",
    "    x = dataframe.iloc[:, 0: -1:1].values\n",
    "\n",
    "    #   return last column for label ceserian yes(1) / no(0)\n",
    "    y = dataframe.iloc[:, -1]\n",
    "    y, class_names = pd.factorize(y)\n",
    "\n",
    "    return x, y, class_names, feature_names"
   ]
  },
  {
   "cell_type": "code",
   "execution_count": 400,
   "metadata": {},
   "outputs": [],
   "source": [
    "def train_test_classifier(x, y, test_size=0.25, classifier=\"Multinomial\"):\n",
    "\n",
    "    x_train, x_test, y_train, y_test = \\\n",
    "        model_selection.train_test_split(x, y, test_size=test_size, stratify=y, random_state=42)\n",
    "    \n",
    "    param_grid = [{'alpha': [0.1, 0.25,0.5,0.75, 1.0, 1.5, 5, 10]}]\n",
    "     \n",
    "    if classifier in ('Gaussian','Categorical'):      \n",
    "        \n",
    "        if classifier == 'Gaussian':\n",
    "            classifier = GaussianNB()\n",
    "            classifier.fit(x_train, y_train)\n",
    "            print('Classes: ', classifier.classes_)\n",
    "            print('Class Priors: ',classifier.class_prior_)        \n",
    "        elif classifier == \"Categorical\":\n",
    "            classifier = CategoricalNB()\n",
    "            classifier.fit(x_train, y_train)\n",
    "            print('Classes: ', classifier.classes_)\n",
    "            print('Class Log Priors: ',classifier.class_log_prior_)\n",
    "    else:\n",
    "        if classifier == \"Multinomial\":\n",
    "            classifier = MultinomialNB()\n",
    "        elif classifier == \"Complement\":\n",
    "            classifier = ComplementNB() \n",
    "        elif classifier == \"Bernoulli\":\n",
    "            classifier = BernoulliNB()\n",
    "\n",
    "        grid_search = GridSearchCV(classifier, param_grid, cv=5, verbose=2)\n",
    "        grid_search.fit(x_train, y_train)   \n",
    "        classifier = grid_search.best_estimator_\n",
    "        print(classifier)\n",
    "        classifier.fit(x_train, y_train)\n",
    "        print('Classes: ', classifier.classes_)\n",
    "        print('Class Log Priors: ',classifier.class_log_prior_)\n",
    "    return x_train, x_test, y_train, y_test, classifier"
   ]
  },
  {
   "cell_type": "code",
   "execution_count": 152,
   "metadata": {},
   "outputs": [],
   "source": [
    "def prediction(classifier, x):\n",
    "    # Model prediction on given set\n",
    "    # y_pred = classifier.predict(x)\n",
    "    y_pred = classifier.predict(x)\n",
    "    return y_pred"
   ]
  },
  {
   "cell_type": "code",
   "execution_count": 259,
   "metadata": {},
   "outputs": [],
   "source": [
    "def accuracy_cm_report(y, y_pred, class_names=[]):\n",
    "\n",
    "    accuracy = sklearn.metrics.accuracy_score(y, y_pred)\n",
    "    print(\"Accuracy: {:.2f}\".format(accuracy))\n",
    "\n",
    "    cm = sklearn.metrics.confusion_matrix(y, y_pred)\n",
    "    print(sklearn.metrics.classification_report(y, y_pred, target_names=class_names))\n",
    "    \n",
    "    print('Confusion Matrix: \\n', cm)\n",
    "    fig, ax = plt.subplots(figsize=(4, 4))\n",
    "    sns.heatmap(cm.T, square=True, annot=True, fmt='d', cbar=False, cmap = \"BuPu\",\n",
    "                ax=ax)\n",
    "    plt.xlabel('true label')\n",
    "    plt.ylabel('predicted label')"
   ]
  },
  {
   "cell_type": "code",
   "execution_count": 154,
   "metadata": {},
   "outputs": [],
   "source": [
    "x, y, class_names, feature_names = read_data_return_frame(\"caesarian.csv.arff\")"
   ]
  },
  {
   "cell_type": "markdown",
   "metadata": {},
   "source": [
    "# 3. Testing the various algorithms \n",
    "\n",
    "For this particular dataset, the categorical and mixed algorithms are likely to perform the best as the input data type is best suited to the model (To do: elaborate further)\n",
    "\n",
    "https://www.inblog.in/Categorical-Naive-Bayes-Classifier-implementation-in-Python-dAVqLWkf7E\n",
    "https://towardsdatascience.com/naive-bayes-classifier-how-to-successfully-use-it-in-python-ecf76a995069\n",
    "http://www2.aueb.gr/users/ion/docs/ceas2006_paper.pdf\n",
    "https://towardsdatascience.com/how-i-was-using-naive-bayes-incorrectly-till-now-part-1-4ed2a7e2212b\n",
    "https://scikit-learn.org/stable/modules/naive_bayes.html\n",
    "https://coderzcolumn.com/tutorials/machine-learning/scikit-learn-sklearn-naive-bayes\n",
    "https://stackoverflow.com/questions/14254203/mixing-categorial-and-continuous-data-in-naive-bayes-classifier-using-scikit-lea/58428035#58428035\n",
    "https://scikit-learn.org/stable/modules/naive_bayes.html#gaussian-naive-bayes\n",
    "https://geoffruddock.com/naive-bayes-from-scratch-with-numpy/\n",
    "https://towardsdatascience.com/a-short-tutorial-on-naive-bayes-classification-with-implementation-2f69183d8ce1\n",
    "https://medium.com/@awantikdas/a-comprehensive-naive-bayes-tutorial-using-scikit-learn-f6b71ae84431\n",
    "https://stackabuse.com/the-naive-bayes-algorithm-in-python-with-scikit-learn/\n",
    "https://jakevdp.github.io/PythonDataScienceHandbook/05.05-naive-bayes.html\n",
    "https://www.datacamp.com/community/tutorials/naive-bayes-scikit-learn"
   ]
  },
  {
   "cell_type": "markdown",
   "metadata": {},
   "source": [
    "## Multinomial Naive Bayes "
   ]
  },
  {
   "cell_type": "code",
   "execution_count": 401,
   "metadata": {
    "scrolled": true
   },
   "outputs": [
    {
     "name": "stdout",
     "output_type": "stream",
     "text": [
      "Fitting 5 folds for each of 8 candidates, totalling 40 fits\n",
      "[CV] alpha=0.1 .......................................................\n",
      "[CV] ........................................ alpha=0.1, total=   0.0s\n",
      "[CV] alpha=0.1 .......................................................\n",
      "[CV] ........................................ alpha=0.1, total=   0.0s\n",
      "[CV] alpha=0.1 .......................................................\n",
      "[CV] ........................................ alpha=0.1, total=   0.0s\n",
      "[CV] alpha=0.1 .......................................................\n",
      "[CV] ........................................ alpha=0.1, total=   0.0s\n",
      "[CV] alpha=0.1 .......................................................\n",
      "[CV] ........................................ alpha=0.1, total=   0.0s\n",
      "[CV] alpha=0.25 ......................................................\n",
      "[CV] ....................................... alpha=0.25, total=   0.0s\n",
      "[CV] alpha=0.25 ......................................................\n",
      "[CV] ....................................... alpha=0.25, total=   0.0s\n",
      "[CV] alpha=0.25 ......................................................\n",
      "[CV] ....................................... alpha=0.25, total=   0.0s\n",
      "[CV] alpha=0.25 ......................................................\n",
      "[CV] ....................................... alpha=0.25, total=   0.0s\n",
      "[CV] alpha=0.25 ......................................................\n",
      "[CV] ....................................... alpha=0.25, total=   0.0s\n",
      "[CV] alpha=0.5 .......................................................\n",
      "[CV] ........................................ alpha=0.5, total=   0.0s\n",
      "[CV] alpha=0.5 .......................................................\n",
      "[CV] ........................................ alpha=0.5, total=   0.0s\n",
      "[CV] alpha=0.5 .......................................................\n",
      "[CV] ........................................ alpha=0.5, total=   0.0s\n",
      "[CV] alpha=0.5 .......................................................\n",
      "[CV] ........................................ alpha=0.5, total=   0.0s\n",
      "[CV] alpha=0.5 .......................................................\n",
      "[CV] ........................................ alpha=0.5, total=   0.0s\n",
      "[CV] alpha=0.75 ......................................................\n",
      "[CV] ....................................... alpha=0.75, total=   0.0s\n",
      "[CV] alpha=0.75 ......................................................\n",
      "[CV] ....................................... alpha=0.75, total=   0.0s\n",
      "[CV] alpha=0.75 ......................................................\n",
      "[CV] ....................................... alpha=0.75, total=   0.0s\n",
      "[CV] alpha=0.75 ......................................................\n",
      "[CV] ....................................... alpha=0.75, total=   0.0s\n",
      "[CV] alpha=0.75 ......................................................\n",
      "[CV] ....................................... alpha=0.75, total=   0.0s\n",
      "[CV] alpha=1.0 .......................................................\n",
      "[CV] ........................................ alpha=1.0, total=   0.0s\n",
      "[CV] alpha=1.0 .......................................................\n",
      "[CV] ........................................ alpha=1.0, total=   0.0s\n",
      "[CV] alpha=1.0 .......................................................\n",
      "[CV] ........................................ alpha=1.0, total=   0.0s\n",
      "[CV] alpha=1.0 .......................................................\n",
      "[CV] ........................................ alpha=1.0, total=   0.0s\n",
      "[CV] alpha=1.0 .......................................................\n",
      "[CV] ........................................ alpha=1.0, total=   0.0s\n",
      "[CV] alpha=1.5 .......................................................\n",
      "[CV] ........................................ alpha=1.5, total=   0.0s\n",
      "[CV] alpha=1.5 .......................................................\n",
      "[CV] ........................................ alpha=1.5, total=   0.0s\n",
      "[CV] alpha=1.5 .......................................................\n",
      "[CV] ........................................ alpha=1.5, total=   0.0s\n",
      "[CV] alpha=1.5 .......................................................\n",
      "[CV] ........................................ alpha=1.5, total=   0.0s\n",
      "[CV] alpha=1.5 .......................................................\n",
      "[CV] ........................................ alpha=1.5, total=   0.0s\n",
      "[CV] alpha=5 .........................................................\n",
      "[CV] .......................................... alpha=5, total=   0.0s\n",
      "[CV] alpha=5 .........................................................\n",
      "[CV] .......................................... alpha=5, total=   0.0s\n",
      "[CV] alpha=5 .........................................................\n",
      "[CV] .......................................... alpha=5, total=   0.0s\n",
      "[CV] alpha=5 .........................................................\n",
      "[CV] .......................................... alpha=5, total=   0.0s\n",
      "[CV] alpha=5 .........................................................\n",
      "[CV] .......................................... alpha=5, total=   0.0s\n",
      "[CV] alpha=10 ........................................................\n",
      "[CV] ......................................... alpha=10, total=   0.0s\n",
      "[CV] alpha=10 ........................................................\n",
      "[CV] ......................................... alpha=10, total=   0.0s\n",
      "[CV] alpha=10 ........................................................\n",
      "[CV] ......................................... alpha=10, total=   0.0s\n",
      "[CV] alpha=10 ........................................................\n",
      "[CV] ......................................... alpha=10, total=   0.0s\n",
      "[CV] alpha=10 ........................................................\n",
      "[CV] ......................................... alpha=10, total=   0.0s\n",
      "MultinomialNB(alpha=0.1)\n",
      "Classes:  [0 1]\n",
      "Class Log Priors:  [-0.87546874 -0.5389965 ]\n",
      "--------------------------------------------------------\n",
      "Accuracy Report for Training\n",
      "Accuracy: 0.70\n",
      "              precision    recall  f1-score   support\n",
      "\n",
      "           0       0.68      0.52      0.59        25\n",
      "           1       0.71      0.83      0.76        35\n",
      "\n",
      "    accuracy                           0.70        60\n",
      "   macro avg       0.70      0.67      0.68        60\n",
      "weighted avg       0.70      0.70      0.69        60\n",
      "\n",
      "Confusion Matrix: \n",
      " [[13 12]\n",
      " [ 6 29]]\n",
      "--------------------------------------------------------\n",
      "Accuracy Report for Testing\n",
      "Accuracy: 0.45\n",
      "              precision    recall  f1-score   support\n",
      "\n",
      "           0       0.38      0.33      0.35         9\n",
      "           1       0.50      0.55      0.52        11\n",
      "\n",
      "    accuracy                           0.45        20\n",
      "   macro avg       0.44      0.44      0.44        20\n",
      "weighted avg       0.44      0.45      0.45        20\n",
      "\n",
      "Confusion Matrix: \n",
      " [[3 6]\n",
      " [5 6]]\n"
     ]
    },
    {
     "name": "stderr",
     "output_type": "stream",
     "text": [
      "[Parallel(n_jobs=1)]: Using backend SequentialBackend with 1 concurrent workers.\n",
      "[Parallel(n_jobs=1)]: Done   1 out of   1 | elapsed:    0.0s remaining:    0.0s\n",
      "[Parallel(n_jobs=1)]: Done  40 out of  40 | elapsed:    0.1s finished\n"
     ]
    },
    {
     "data": {
      "image/png": "[encoded data removed]",
      "text/plain": [
       "<Figure size 288x288 with 1 Axes>"
      ]
     },
     "metadata": {
      "needs_background": "light"
     },
     "output_type": "display_data"
    },
    {
     "data": {
      "image/png": "[encoded data removed]",
      "text/plain": [
       "<Figure size 288x288 with 1 Axes>"
      ]
     },
     "metadata": {
      "needs_background": "light"
     },
     "output_type": "display_data"
    }
   ],
   "source": [
    "x_train, x_test, y_train, y_test, classifier = train_test_classifier(x, y, test_size=0.25)\n",
    "print('--------------------------------------------------------')\n",
    "print(\"Accuracy Report for Training\")\n",
    "y_pred_train = prediction(classifier, x_train)\n",
    "accuracy_cm_report(y_train, y_pred_train, class_names=class_names)\n",
    "print('--------------------------------------------------------')\n",
    "print(\"Accuracy Report for Testing\")\n",
    "y_pred_test = prediction(classifier, x_test)\n",
    "accuracy_cm_report(y_test, y_pred_test, class_names=class_names)\n",
    "\n",
    "y_prob_multinomial = classifier.predict_proba(x_test)[:,1]"
   ]
  },
  {
   "cell_type": "markdown",
   "metadata": {},
   "source": [
    "## Gaussian Naive Bayes"
   ]
  },
  {
   "cell_type": "code",
   "execution_count": 324,
   "metadata": {},
   "outputs": [
    {
     "name": "stdout",
     "output_type": "stream",
     "text": [
      "Classes:  [0 1]\n",
      "Class Priors:  [0.41666667 0.58333333]\n",
      "--------------------------------------------------------\n",
      "Accuracy Report for Training\n",
      "Accuracy: 0.73\n",
      "              precision    recall  f1-score   support\n",
      "\n",
      "           0       0.66      0.76      0.70        25\n",
      "           1       0.81      0.71      0.76        35\n",
      "\n",
      "    accuracy                           0.73        60\n",
      "   macro avg       0.73      0.74      0.73        60\n",
      "weighted avg       0.74      0.73      0.74        60\n",
      "\n",
      "Confusion Matrix: \n",
      " [[19  6]\n",
      " [10 25]]\n",
      "--------------------------------------------------------\n",
      "Accuracy Report for Testing\n",
      "Accuracy: 0.65\n",
      "              precision    recall  f1-score   support\n",
      "\n",
      "           0       0.58      0.78      0.67         9\n",
      "           1       0.75      0.55      0.63        11\n",
      "\n",
      "    accuracy                           0.65        20\n",
      "   macro avg       0.67      0.66      0.65        20\n",
      "weighted avg       0.68      0.65      0.65        20\n",
      "\n",
      "Confusion Matrix: \n",
      " [[7 2]\n",
      " [5 6]]\n"
     ]
    },
    {
     "data": {
      "image/png": "[encoded data removed]",
      "text/plain": [
       "<Figure size 288x288 with 1 Axes>"
      ]
     },
     "metadata": {
      "needs_background": "light"
     },
     "output_type": "display_data"
    },
    {
     "data": {
      "image/png": "[encoded data removed]",
      "text/plain": [
       "<Figure size 288x288 with 1 Axes>"
      ]
     },
     "metadata": {
      "needs_background": "light"
     },
     "output_type": "display_data"
    }
   ],
   "source": [
    "x_train, x_test, y_train, y_test, classifier = train_test_classifier(x, y, test_size=0.25, classifier=\"Gaussian\")\n",
    "print('--------------------------------------------------------')\n",
    "print(\"Accuracy Report for Training\")\n",
    "y_pred_train = prediction(classifier, x_train)\n",
    "accuracy_cm_report(y_train, y_pred_train, class_names=class_names)\n",
    "print('--------------------------------------------------------')\n",
    "print(\"Accuracy Report for Testing\")\n",
    "y_pred_test = prediction(classifier, x_test)\n",
    "accuracy_cm_report(y_test, y_pred_test, class_names=class_names)\n",
    "\n",
    "y_prob_gaussian = classifier.predict_proba(x_test)[:,1]"
   ]
  },
  {
   "cell_type": "markdown",
   "metadata": {},
   "source": [
    "## Bernoulli Naive Bayes Model"
   ]
  },
  {
   "cell_type": "code",
   "execution_count": 325,
   "metadata": {},
   "outputs": [
    {
     "name": "stdout",
     "output_type": "stream",
     "text": [
      "Fitting 5 folds for each of 8 candidates, totalling 40 fits\n",
      "[CV] alpha=0.1 .......................................................\n",
      "[CV] ........................................ alpha=0.1, total=   0.0s\n",
      "[CV] alpha=0.1 .......................................................\n",
      "[CV] ........................................ alpha=0.1, total=   0.0s\n",
      "[CV] alpha=0.1 .......................................................\n",
      "[CV] ........................................ alpha=0.1, total=   0.0s\n",
      "[CV] alpha=0.1 .......................................................\n",
      "[CV] ........................................ alpha=0.1, total=   0.0s\n",
      "[CV] alpha=0.1 .......................................................\n",
      "[CV] ........................................ alpha=0.1, total=   0.0s\n",
      "[CV] alpha=0.25 ......................................................\n",
      "[CV] ....................................... alpha=0.25, total=   0.0s\n",
      "[CV] alpha=0.25 ......................................................\n",
      "[CV] ....................................... alpha=0.25, total=   0.0s\n",
      "[CV] alpha=0.25 ......................................................\n",
      "[CV] ....................................... alpha=0.25, total=   0.0s\n",
      "[CV] alpha=0.25 ......................................................\n",
      "[CV] ....................................... alpha=0.25, total=   0.0s\n",
      "[CV] alpha=0.25 ......................................................\n",
      "[CV] ....................................... alpha=0.25, total=   0.0s\n",
      "[CV] alpha=0.5 .......................................................\n",
      "[CV] ........................................ alpha=0.5, total=   0.0s\n",
      "[CV] alpha=0.5 .......................................................\n",
      "[CV] ........................................ alpha=0.5, total=   0.0s\n",
      "[CV] alpha=0.5 .......................................................\n",
      "[CV] ........................................ alpha=0.5, total=   0.0s\n",
      "[CV] alpha=0.5 .......................................................\n",
      "[CV] ........................................ alpha=0.5, total=   0.0s\n",
      "[CV] alpha=0.5 .......................................................\n",
      "[CV] ........................................ alpha=0.5, total=   0.0s\n",
      "[CV] alpha=0.75 ......................................................\n",
      "[CV] ....................................... alpha=0.75, total=   0.0s\n",
      "[CV] alpha=0.75 ......................................................\n",
      "[CV] ....................................... alpha=0.75, total=   0.0s\n",
      "[CV] alpha=0.75 ......................................................\n",
      "[CV] ....................................... alpha=0.75, total=   0.0s\n",
      "[CV] alpha=0.75 ......................................................\n",
      "[CV] ....................................... alpha=0.75, total=   0.0s\n",
      "[CV] alpha=0.75 ......................................................\n",
      "[CV] ....................................... alpha=0.75, total=   0.0s\n",
      "[CV] alpha=1.0 .......................................................\n",
      "[CV] ........................................ alpha=1.0, total=   0.0s\n",
      "[CV] alpha=1.0 .......................................................\n",
      "[CV] ........................................ alpha=1.0, total=   0.0s\n",
      "[CV] alpha=1.0 .......................................................\n",
      "[CV] ........................................ alpha=1.0, total=   0.0s\n",
      "[CV] alpha=1.0 .......................................................\n",
      "[CV] ........................................ alpha=1.0, total=   0.0s\n",
      "[CV] alpha=1.0 .......................................................\n",
      "[CV] ........................................ alpha=1.0, total=   0.0s\n",
      "[CV] alpha=1.5 .......................................................\n",
      "[CV] ........................................ alpha=1.5, total=   0.0s\n",
      "[CV] alpha=1.5 .......................................................\n",
      "[CV] ........................................ alpha=1.5, total=   0.0s\n",
      "[CV] alpha=1.5 .......................................................\n",
      "[CV] ........................................ alpha=1.5, total=   0.0s\n",
      "[CV] alpha=1.5 .......................................................\n",
      "[CV] ........................................ alpha=1.5, total=   0.0s\n",
      "[CV] alpha=1.5 .......................................................\n",
      "[CV] ........................................ alpha=1.5, total=   0.0s\n",
      "[CV] alpha=5 .........................................................\n",
      "[CV] .......................................... alpha=5, total=   0.0s\n",
      "[CV] alpha=5 .........................................................\n",
      "[CV] .......................................... alpha=5, total=   0.0s\n",
      "[CV] alpha=5 .........................................................\n",
      "[CV] .......................................... alpha=5, total=   0.0s\n",
      "[CV] alpha=5 .........................................................\n",
      "[CV] .......................................... alpha=5, total=   0.0s\n",
      "[CV] alpha=5 .........................................................\n",
      "[CV] .......................................... alpha=5, total=   0.0s\n",
      "[CV] alpha=10 ........................................................\n",
      "[CV] ......................................... alpha=10, total=   0.0s\n",
      "[CV] alpha=10 ........................................................\n",
      "[CV] ......................................... alpha=10, total=   0.0s\n",
      "[CV] alpha=10 ........................................................\n",
      "[CV] ......................................... alpha=10, total=   0.0s\n",
      "[CV] alpha=10 ........................................................\n",
      "[CV] ......................................... alpha=10, total=   0.0s\n",
      "[CV] alpha=10 ........................................................\n",
      "[CV] ......................................... alpha=10, total=   0.0s\n",
      "BernoulliNB(alpha=0.1)\n",
      "Classes:  [0 1]\n",
      "Class Log Priors:  [-0.87546874 -0.5389965 ]\n",
      "--------------------------------------------------------\n",
      "Accuracy Report for Training\n",
      "Accuracy: 0.72\n",
      "              precision    recall  f1-score   support\n",
      "\n",
      "           0       0.75      0.48      0.59        25\n",
      "           1       0.70      0.89      0.78        35\n",
      "\n",
      "    accuracy                           0.72        60\n",
      "   macro avg       0.73      0.68      0.69        60\n",
      "weighted avg       0.72      0.72      0.70        60\n",
      "\n",
      "Confusion Matrix: \n",
      " [[12 13]\n",
      " [ 4 31]]\n",
      "--------------------------------------------------------\n",
      "Accuracy Report for Testing\n",
      "Accuracy: 0.55\n"
     ]
    },
    {
     "name": "stderr",
     "output_type": "stream",
     "text": [
      "[Parallel(n_jobs=1)]: Using backend SequentialBackend with 1 concurrent workers.\n",
      "[Parallel(n_jobs=1)]: Done   1 out of   1 | elapsed:    0.0s remaining:    0.0s\n",
      "[Parallel(n_jobs=1)]: Done  40 out of  40 | elapsed:    0.1s finished\n"
     ]
    },
    {
     "name": "stdout",
     "output_type": "stream",
     "text": [
      "              precision    recall  f1-score   support\n",
      "\n",
      "           0       0.50      0.33      0.40         9\n",
      "           1       0.57      0.73      0.64        11\n",
      "\n",
      "    accuracy                           0.55        20\n",
      "   macro avg       0.54      0.53      0.52        20\n",
      "weighted avg       0.54      0.55      0.53        20\n",
      "\n",
      "Confusion Matrix: \n",
      " [[3 6]\n",
      " [3 8]]\n"
     ]
    },
    {
     "data": {
      "image/png": "[encoded data removed]",
      "text/plain": [
       "<Figure size 288x288 with 1 Axes>"
      ]
     },
     "metadata": {
      "needs_background": "light"
     },
     "output_type": "display_data"
    },
    {
     "data": {
      "image/png": "[encoded data removed]",
      "text/plain": [
       "<Figure size 288x288 with 1 Axes>"
      ]
     },
     "metadata": {
      "needs_background": "light"
     },
     "output_type": "display_data"
    }
   ],
   "source": [
    "x_train, x_test, y_train, y_test, classifier = train_test_classifier(x, y, test_size=0.25, classifier=\"Bernoulli\")\n",
    "print('--------------------------------------------------------')\n",
    "print(\"Accuracy Report for Training\")\n",
    "y_pred_train = prediction(classifier, x_train)\n",
    "accuracy_cm_report(y_train, y_pred_train, class_names=class_names)\n",
    "print('--------------------------------------------------------')\n",
    "print(\"Accuracy Report for Testing\")\n",
    "y_pred_test = prediction(classifier, x_test)\n",
    "accuracy_cm_report(y_test, y_pred_test, class_names=class_names)\n",
    "\n",
    "y_prob_bernoulli = classifier.predict_proba(x_test)[:,1]"
   ]
  },
  {
   "cell_type": "markdown",
   "metadata": {},
   "source": [
    "## Complement Naive Bayes Model"
   ]
  },
  {
   "cell_type": "code",
   "execution_count": 326,
   "metadata": {},
   "outputs": [
    {
     "name": "stdout",
     "output_type": "stream",
     "text": [
      "Fitting 5 folds for each of 8 candidates, totalling 40 fits\n",
      "[CV] alpha=0.1 .......................................................\n",
      "[CV] ........................................ alpha=0.1, total=   0.0s\n",
      "[CV] alpha=0.1 .......................................................\n",
      "[CV] ........................................ alpha=0.1, total=   0.0s\n",
      "[CV] alpha=0.1 .......................................................\n",
      "[CV] ........................................ alpha=0.1, total=   0.0s\n",
      "[CV] alpha=0.1 .......................................................\n",
      "[CV] ........................................ alpha=0.1, total=   0.0s\n",
      "[CV] alpha=0.1 .......................................................\n",
      "[CV] ........................................ alpha=0.1, total=   0.0s\n",
      "[CV] alpha=0.25 ......................................................\n",
      "[CV] ....................................... alpha=0.25, total=   0.0s\n",
      "[CV] alpha=0.25 ......................................................\n",
      "[CV] ....................................... alpha=0.25, total=   0.0s\n",
      "[CV] alpha=0.25 ......................................................\n",
      "[CV] ....................................... alpha=0.25, total=   0.0s\n",
      "[CV] alpha=0.25 ......................................................\n",
      "[CV] ....................................... alpha=0.25, total=   0.0s\n",
      "[CV] alpha=0.25 ......................................................\n",
      "[CV] ....................................... alpha=0.25, total=   0.0s\n",
      "[CV] alpha=0.5 .......................................................\n",
      "[CV] ........................................ alpha=0.5, total=   0.0s\n",
      "[CV] alpha=0.5 .......................................................\n",
      "[CV] ........................................ alpha=0.5, total=   0.0s\n",
      "[CV] alpha=0.5 .......................................................\n",
      "[CV] ........................................ alpha=0.5, total=   0.0s\n",
      "[CV] alpha=0.5 .......................................................\n",
      "[CV] ........................................ alpha=0.5, total=   0.0s\n",
      "[CV] alpha=0.5 .......................................................\n",
      "[CV] ........................................ alpha=0.5, total=   0.0s\n",
      "[CV] alpha=0.75 ......................................................\n",
      "[CV] ....................................... alpha=0.75, total=   0.0s\n",
      "[CV] alpha=0.75 ......................................................\n",
      "[CV] ....................................... alpha=0.75, total=   0.0s\n",
      "[CV] alpha=0.75 ......................................................\n",
      "[CV] ....................................... alpha=0.75, total=   0.0s\n",
      "[CV] alpha=0.75 ......................................................\n",
      "[CV] ....................................... alpha=0.75, total=   0.0s\n",
      "[CV] alpha=0.75 ......................................................\n",
      "[CV] ....................................... alpha=0.75, total=   0.0s\n",
      "[CV] alpha=1.0 .......................................................\n",
      "[CV] ........................................ alpha=1.0, total=   0.0s\n",
      "[CV] alpha=1.0 .......................................................\n",
      "[CV] ........................................ alpha=1.0, total=   0.0s\n",
      "[CV] alpha=1.0 .......................................................\n",
      "[CV] ........................................ alpha=1.0, total=   0.0s\n",
      "[CV] alpha=1.0 .......................................................\n",
      "[CV] ........................................ alpha=1.0, total=   0.0s\n",
      "[CV] alpha=1.0 .......................................................\n",
      "[CV] ........................................ alpha=1.0, total=   0.0s\n",
      "[CV] alpha=1.5 .......................................................\n",
      "[CV] ........................................ alpha=1.5, total=   0.0s\n",
      "[CV] alpha=1.5 .......................................................\n",
      "[CV] ........................................ alpha=1.5, total=   0.0s\n",
      "[CV] alpha=1.5 .......................................................\n",
      "[CV] ........................................ alpha=1.5, total=   0.0s\n",
      "[CV] alpha=1.5 .......................................................\n",
      "[CV] ........................................ alpha=1.5, total=   0.0s\n",
      "[CV] alpha=1.5 .......................................................\n",
      "[CV] ........................................ alpha=1.5, total=   0.0s\n",
      "[CV] alpha=5 .........................................................\n",
      "[CV] .......................................... alpha=5, total=   0.0s\n",
      "[CV] alpha=5 .........................................................\n",
      "[CV] .......................................... alpha=5, total=   0.0s\n",
      "[CV] alpha=5 .........................................................\n",
      "[CV] .......................................... alpha=5, total=   0.0s\n",
      "[CV] alpha=5 .........................................................\n",
      "[CV] .......................................... alpha=5, total=   0.0s\n",
      "[CV] alpha=5 .........................................................\n",
      "[CV] .......................................... alpha=5, total=   0.0s\n",
      "[CV] alpha=10 ........................................................\n",
      "[CV] ......................................... alpha=10, total=   0.0s\n",
      "[CV] alpha=10 ........................................................\n",
      "[CV] ......................................... alpha=10, total=   0.0s\n",
      "[CV] alpha=10 ........................................................\n",
      "[CV] ......................................... alpha=10, total=   0.0s\n",
      "[CV] alpha=10 ........................................................\n",
      "[CV] ......................................... alpha=10, total=   0.0s\n",
      "[CV] alpha=10 ........................................................\n",
      "[CV] ......................................... alpha=10, total=   0.0s\n",
      "ComplementNB(alpha=0.1)\n",
      "Classes:  [0 1]\n",
      "Class Log Priors:  [-0.87546874 -0.5389965 ]\n",
      "--------------------------------------------------------\n",
      "Accuracy Report for Training\n",
      "Accuracy: 0.72\n",
      "              precision    recall  f1-score   support\n",
      "\n",
      "           0       0.68      0.60      0.64        25\n",
      "           1       0.74      0.80      0.77        35\n",
      "\n",
      "    accuracy                           0.72        60\n",
      "   macro avg       0.71      0.70      0.70        60\n",
      "weighted avg       0.71      0.72      0.71        60\n",
      "\n",
      "Confusion Matrix: \n",
      " [[15 10]\n",
      " [ 7 28]]\n"
     ]
    },
    {
     "name": "stderr",
     "output_type": "stream",
     "text": [
      "[Parallel(n_jobs=1)]: Using backend SequentialBackend with 1 concurrent workers.\n",
      "[Parallel(n_jobs=1)]: Done   1 out of   1 | elapsed:    0.0s remaining:    0.0s\n",
      "[Parallel(n_jobs=1)]: Done  40 out of  40 | elapsed:    0.1s finished\n"
     ]
    },
    {
     "name": "stdout",
     "output_type": "stream",
     "text": [
      "--------------------------------------------------------\n",
      "Accuracy Report for Testing\n",
      "Accuracy: 0.45\n",
      "              precision    recall  f1-score   support\n",
      "\n",
      "           0       0.38      0.33      0.35         9\n",
      "           1       0.50      0.55      0.52        11\n",
      "\n",
      "    accuracy                           0.45        20\n",
      "   macro avg       0.44      0.44      0.44        20\n",
      "weighted avg       0.44      0.45      0.45        20\n",
      "\n",
      "Confusion Matrix: \n",
      " [[3 6]\n",
      " [5 6]]\n"
     ]
    },
    {
     "data": {
      "image/png": "[encoded data removed]",
      "text/plain": [
       "<Figure size 288x288 with 1 Axes>"
      ]
     },
     "metadata": {
      "needs_background": "light"
     },
     "output_type": "display_data"
    },
    {
     "data": {
      "image/png": "[encoded data removed]",
      "text/plain": [
       "<Figure size 288x288 with 1 Axes>"
      ]
     },
     "metadata": {
      "needs_background": "light"
     },
     "output_type": "display_data"
    }
   ],
   "source": [
    "x_train, x_test, y_train, y_test, classifier = train_test_classifier(x, y, test_size=0.25, classifier=\"Complement\")\n",
    "print('--------------------------------------------------------')\n",
    "print(\"Accuracy Report for Training\")\n",
    "y_pred_train = prediction(classifier, x_train)\n",
    "accuracy_cm_report(y_train, y_pred_train, class_names=class_names)\n",
    "print('--------------------------------------------------------')\n",
    "print(\"Accuracy Report for Testing\")\n",
    "y_pred_test = prediction(classifier, x_test)\n",
    "accuracy_cm_report(y_test, y_pred_test, class_names=class_names)\n",
    "\n",
    "y_prob_complement = classifier.predict_proba(x_test)[:,1]"
   ]
  },
  {
   "cell_type": "markdown",
   "metadata": {},
   "source": [
    "## Categorical Naive Bayes\n",
    "\n",
    "Note to self: For this and MixedNB, unable to get the cross validation for tuning hyperparameter to work for now"
   ]
  },
  {
   "cell_type": "code",
   "execution_count": 327,
   "metadata": {},
   "outputs": [],
   "source": [
    "df1 = df.apply(pd.to_numeric)\n",
    "\n",
    "# Bin continuous vairbales into 20% quantiles\n",
    "df1['Age_Quantile'] = pd.qcut(df1['Age'], 5, labels=['bottom 20', 'lower 20', 'middle 20', 'upper 20', 'top 20'])"
   ]
  },
  {
   "cell_type": "code",
   "execution_count": 328,
   "metadata": {},
   "outputs": [
    {
     "data": {
      "text/html": [
       "<div>\n",
       "<style scoped>\n",
       "    .dataframe tbody tr th:only-of-type {\n",
       "        vertical-align: middle;\n",
       "    }\n",
       "\n",
       "    .dataframe tbody tr th {\n",
       "        vertical-align: top;\n",
       "    }\n",
       "\n",
       "    .dataframe thead th {\n",
       "        text-align: right;\n",
       "    }\n",
       "</style>\n",
       "<table border=\"1\" class=\"dataframe\">\n",
       "  <thead>\n",
       "    <tr style=\"text-align: right;\">\n",
       "      <th></th>\n",
       "      <th>Age</th>\n",
       "      <th>Delivery number</th>\n",
       "      <th>Delivery time</th>\n",
       "      <th>Blood of Pressure</th>\n",
       "      <th>Heart Problem</th>\n",
       "      <th>Caesarian</th>\n",
       "      <th>Age_Quantile</th>\n",
       "    </tr>\n",
       "  </thead>\n",
       "  <tbody>\n",
       "    <tr>\n",
       "      <th>0</th>\n",
       "      <td>22</td>\n",
       "      <td>1</td>\n",
       "      <td>0</td>\n",
       "      <td>2</td>\n",
       "      <td>0</td>\n",
       "      <td>0</td>\n",
       "      <td>bottom 20</td>\n",
       "    </tr>\n",
       "    <tr>\n",
       "      <th>1</th>\n",
       "      <td>26</td>\n",
       "      <td>2</td>\n",
       "      <td>0</td>\n",
       "      <td>1</td>\n",
       "      <td>0</td>\n",
       "      <td>1</td>\n",
       "      <td>lower 20</td>\n",
       "    </tr>\n",
       "    <tr>\n",
       "      <th>2</th>\n",
       "      <td>26</td>\n",
       "      <td>2</td>\n",
       "      <td>1</td>\n",
       "      <td>1</td>\n",
       "      <td>0</td>\n",
       "      <td>0</td>\n",
       "      <td>lower 20</td>\n",
       "    </tr>\n",
       "    <tr>\n",
       "      <th>3</th>\n",
       "      <td>28</td>\n",
       "      <td>1</td>\n",
       "      <td>0</td>\n",
       "      <td>2</td>\n",
       "      <td>0</td>\n",
       "      <td>0</td>\n",
       "      <td>middle 20</td>\n",
       "    </tr>\n",
       "    <tr>\n",
       "      <th>4</th>\n",
       "      <td>22</td>\n",
       "      <td>2</td>\n",
       "      <td>0</td>\n",
       "      <td>1</td>\n",
       "      <td>0</td>\n",
       "      <td>1</td>\n",
       "      <td>bottom 20</td>\n",
       "    </tr>\n",
       "    <tr>\n",
       "      <th>...</th>\n",
       "      <td>...</td>\n",
       "      <td>...</td>\n",
       "      <td>...</td>\n",
       "      <td>...</td>\n",
       "      <td>...</td>\n",
       "      <td>...</td>\n",
       "      <td>...</td>\n",
       "    </tr>\n",
       "    <tr>\n",
       "      <th>75</th>\n",
       "      <td>27</td>\n",
       "      <td>2</td>\n",
       "      <td>1</td>\n",
       "      <td>1</td>\n",
       "      <td>0</td>\n",
       "      <td>0</td>\n",
       "      <td>middle 20</td>\n",
       "    </tr>\n",
       "    <tr>\n",
       "      <th>76</th>\n",
       "      <td>33</td>\n",
       "      <td>4</td>\n",
       "      <td>0</td>\n",
       "      <td>1</td>\n",
       "      <td>0</td>\n",
       "      <td>1</td>\n",
       "      <td>top 20</td>\n",
       "    </tr>\n",
       "    <tr>\n",
       "      <th>77</th>\n",
       "      <td>29</td>\n",
       "      <td>2</td>\n",
       "      <td>1</td>\n",
       "      <td>2</td>\n",
       "      <td>0</td>\n",
       "      <td>1</td>\n",
       "      <td>middle 20</td>\n",
       "    </tr>\n",
       "    <tr>\n",
       "      <th>78</th>\n",
       "      <td>25</td>\n",
       "      <td>1</td>\n",
       "      <td>2</td>\n",
       "      <td>0</td>\n",
       "      <td>0</td>\n",
       "      <td>1</td>\n",
       "      <td>lower 20</td>\n",
       "    </tr>\n",
       "    <tr>\n",
       "      <th>79</th>\n",
       "      <td>24</td>\n",
       "      <td>2</td>\n",
       "      <td>2</td>\n",
       "      <td>1</td>\n",
       "      <td>0</td>\n",
       "      <td>0</td>\n",
       "      <td>bottom 20</td>\n",
       "    </tr>\n",
       "  </tbody>\n",
       "</table>\n",
       "<p>80 rows × 7 columns</p>\n",
       "</div>"
      ],
      "text/plain": [
       "    Age  Delivery number  Delivery time  Blood of Pressure  Heart Problem  \\\n",
       "0    22                1              0                  2              0   \n",
       "1    26                2              0                  1              0   \n",
       "2    26                2              1                  1              0   \n",
       "3    28                1              0                  2              0   \n",
       "4    22                2              0                  1              0   \n",
       "..  ...              ...            ...                ...            ...   \n",
       "75   27                2              1                  1              0   \n",
       "76   33                4              0                  1              0   \n",
       "77   29                2              1                  2              0   \n",
       "78   25                1              2                  0              0   \n",
       "79   24                2              2                  1              0   \n",
       "\n",
       "    Caesarian Age_Quantile  \n",
       "0           0    bottom 20  \n",
       "1           1     lower 20  \n",
       "2           0     lower 20  \n",
       "3           0    middle 20  \n",
       "4           1    bottom 20  \n",
       "..        ...          ...  \n",
       "75          0    middle 20  \n",
       "76          1       top 20  \n",
       "77          1    middle 20  \n",
       "78          1     lower 20  \n",
       "79          0    bottom 20  \n",
       "\n",
       "[80 rows x 7 columns]"
      ]
     },
     "execution_count": 328,
     "metadata": {},
     "output_type": "execute_result"
    }
   ],
   "source": [
    "df1"
   ]
  },
  {
   "cell_type": "code",
   "execution_count": 329,
   "metadata": {},
   "outputs": [],
   "source": [
    "from sklearn.preprocessing import OrdinalEncoder\n",
    "\n",
    "df_x =df1[['Age_Quantile', 'Delivery number', 'Delivery time', 'Blood of Pressure', 'Heart Problem']]\n",
    "df_y = df1[['Caesarian']]\n",
    "\n",
    "enc = OrdinalEncoder()\n",
    "df_x = enc.fit_transform(df_x)"
   ]
  },
  {
   "cell_type": "markdown",
   "metadata": {},
   "source": [
    "### Subsection bit on checking multicollinearity of features, should be moved to data exploration eventually"
   ]
  },
  {
   "cell_type": "code",
   "execution_count": 369,
   "metadata": {},
   "outputs": [
    {
     "data": {
      "text/plain": [
       "['Age',\n",
       " 'Delivery number',\n",
       " 'Delivery time',\n",
       " 'Blood of Pressure',\n",
       " 'Heart Problem']"
      ]
     },
     "execution_count": 369,
     "metadata": {},
     "output_type": "execute_result"
    }
   ],
   "source": [
    "features = df1.columns.tolist()\n",
    "features.remove('Caesarian')\n",
    "features.remove('Age_Quantile')\n",
    "features"
   ]
  },
  {
   "cell_type": "code",
   "execution_count": 374,
   "metadata": {},
   "outputs": [
    {
     "data": {
      "text/html": [
       "<div>\n",
       "<style scoped>\n",
       "    .dataframe tbody tr th:only-of-type {\n",
       "        vertical-align: middle;\n",
       "    }\n",
       "\n",
       "    .dataframe tbody tr th {\n",
       "        vertical-align: top;\n",
       "    }\n",
       "\n",
       "    .dataframe thead th {\n",
       "        text-align: right;\n",
       "    }\n",
       "</style>\n",
       "<table border=\"1\" class=\"dataframe\">\n",
       "  <thead>\n",
       "    <tr style=\"text-align: right;\">\n",
       "      <th></th>\n",
       "      <th>Age</th>\n",
       "      <th>Delivery number</th>\n",
       "      <th>Delivery time</th>\n",
       "      <th>Blood of Pressure</th>\n",
       "      <th>Heart Problem</th>\n",
       "    </tr>\n",
       "  </thead>\n",
       "  <tbody>\n",
       "    <tr>\n",
       "      <th>0</th>\n",
       "      <td>0.0</td>\n",
       "      <td>0.0</td>\n",
       "      <td>0.0</td>\n",
       "      <td>2.0</td>\n",
       "      <td>0.0</td>\n",
       "    </tr>\n",
       "    <tr>\n",
       "      <th>1</th>\n",
       "      <td>1.0</td>\n",
       "      <td>1.0</td>\n",
       "      <td>0.0</td>\n",
       "      <td>1.0</td>\n",
       "      <td>0.0</td>\n",
       "    </tr>\n",
       "    <tr>\n",
       "      <th>2</th>\n",
       "      <td>1.0</td>\n",
       "      <td>1.0</td>\n",
       "      <td>1.0</td>\n",
       "      <td>1.0</td>\n",
       "      <td>0.0</td>\n",
       "    </tr>\n",
       "    <tr>\n",
       "      <th>3</th>\n",
       "      <td>2.0</td>\n",
       "      <td>0.0</td>\n",
       "      <td>0.0</td>\n",
       "      <td>2.0</td>\n",
       "      <td>0.0</td>\n",
       "    </tr>\n",
       "    <tr>\n",
       "      <th>4</th>\n",
       "      <td>0.0</td>\n",
       "      <td>1.0</td>\n",
       "      <td>0.0</td>\n",
       "      <td>1.0</td>\n",
       "      <td>0.0</td>\n",
       "    </tr>\n",
       "    <tr>\n",
       "      <th>...</th>\n",
       "      <td>...</td>\n",
       "      <td>...</td>\n",
       "      <td>...</td>\n",
       "      <td>...</td>\n",
       "      <td>...</td>\n",
       "    </tr>\n",
       "    <tr>\n",
       "      <th>75</th>\n",
       "      <td>2.0</td>\n",
       "      <td>1.0</td>\n",
       "      <td>1.0</td>\n",
       "      <td>1.0</td>\n",
       "      <td>0.0</td>\n",
       "    </tr>\n",
       "    <tr>\n",
       "      <th>76</th>\n",
       "      <td>3.0</td>\n",
       "      <td>3.0</td>\n",
       "      <td>0.0</td>\n",
       "      <td>1.0</td>\n",
       "      <td>0.0</td>\n",
       "    </tr>\n",
       "    <tr>\n",
       "      <th>77</th>\n",
       "      <td>2.0</td>\n",
       "      <td>1.0</td>\n",
       "      <td>1.0</td>\n",
       "      <td>2.0</td>\n",
       "      <td>0.0</td>\n",
       "    </tr>\n",
       "    <tr>\n",
       "      <th>78</th>\n",
       "      <td>1.0</td>\n",
       "      <td>0.0</td>\n",
       "      <td>2.0</td>\n",
       "      <td>0.0</td>\n",
       "      <td>0.0</td>\n",
       "    </tr>\n",
       "    <tr>\n",
       "      <th>79</th>\n",
       "      <td>0.0</td>\n",
       "      <td>1.0</td>\n",
       "      <td>2.0</td>\n",
       "      <td>1.0</td>\n",
       "      <td>0.0</td>\n",
       "    </tr>\n",
       "  </tbody>\n",
       "</table>\n",
       "<p>80 rows × 5 columns</p>\n",
       "</div>"
      ],
      "text/plain": [
       "    Age  Delivery number  Delivery time  Blood of Pressure  Heart Problem\n",
       "0   0.0              0.0            0.0                2.0            0.0\n",
       "1   1.0              1.0            0.0                1.0            0.0\n",
       "2   1.0              1.0            1.0                1.0            0.0\n",
       "3   2.0              0.0            0.0                2.0            0.0\n",
       "4   0.0              1.0            0.0                1.0            0.0\n",
       "..  ...              ...            ...                ...            ...\n",
       "75  2.0              1.0            1.0                1.0            0.0\n",
       "76  3.0              3.0            0.0                1.0            0.0\n",
       "77  2.0              1.0            1.0                2.0            0.0\n",
       "78  1.0              0.0            2.0                0.0            0.0\n",
       "79  0.0              1.0            2.0                1.0            0.0\n",
       "\n",
       "[80 rows x 5 columns]"
      ]
     },
     "execution_count": 374,
     "metadata": {},
     "output_type": "execute_result"
    }
   ],
   "source": [
    "df2 = pd.DataFrame(data = df_x, columns = features )\n",
    "df2"
   ]
  },
  {
   "cell_type": "code",
   "execution_count": 375,
   "metadata": {},
   "outputs": [
    {
     "data": {
      "text/html": [
       "<div>\n",
       "<style scoped>\n",
       "    .dataframe tbody tr th:only-of-type {\n",
       "        vertical-align: middle;\n",
       "    }\n",
       "\n",
       "    .dataframe tbody tr th {\n",
       "        vertical-align: top;\n",
       "    }\n",
       "\n",
       "    .dataframe thead th {\n",
       "        text-align: right;\n",
       "    }\n",
       "</style>\n",
       "<table border=\"1\" class=\"dataframe\">\n",
       "  <thead>\n",
       "    <tr style=\"text-align: right;\">\n",
       "      <th></th>\n",
       "      <th>VIF</th>\n",
       "      <th>Features</th>\n",
       "    </tr>\n",
       "  </thead>\n",
       "  <tbody>\n",
       "    <tr>\n",
       "      <th>0</th>\n",
       "      <td>3.032727</td>\n",
       "      <td>Age</td>\n",
       "    </tr>\n",
       "    <tr>\n",
       "      <th>1</th>\n",
       "      <td>2.099266</td>\n",
       "      <td>Delivery number</td>\n",
       "    </tr>\n",
       "    <tr>\n",
       "      <th>2</th>\n",
       "      <td>1.353627</td>\n",
       "      <td>Delivery time</td>\n",
       "    </tr>\n",
       "    <tr>\n",
       "      <th>3</th>\n",
       "      <td>2.155432</td>\n",
       "      <td>Blood of Pressure</td>\n",
       "    </tr>\n",
       "    <tr>\n",
       "      <th>4</th>\n",
       "      <td>1.683957</td>\n",
       "      <td>Heart Problem</td>\n",
       "    </tr>\n",
       "  </tbody>\n",
       "</table>\n",
       "</div>"
      ],
      "text/plain": [
       "        VIF           Features\n",
       "0  3.032727                Age\n",
       "1  2.099266    Delivery number\n",
       "2  1.353627      Delivery time\n",
       "3  2.155432  Blood of Pressure\n",
       "4  1.683957      Heart Problem"
      ]
     },
     "execution_count": 375,
     "metadata": {},
     "output_type": "execute_result"
    }
   ],
   "source": [
    "from statsmodels.stats.outliers_influence import variance_inflation_factor\n",
    "\n",
    "vif = pd.DataFrame()\n",
    "vif[\"VIF\"] = [variance_inflation_factor(df2.values, i) for i in range(len(features))]\n",
    "vif[\"Features\"] = features\n",
    "vif \n",
    "# Value of 1 means no correlation, values >4-5 usually viewed as moderate to high. This is to check if the naive\n",
    "# assumption is likely to hold/be correct, or will cause problems"
   ]
  },
  {
   "cell_type": "code",
   "execution_count": 405,
   "metadata": {},
   "outputs": [
    {
     "name": "stdout",
     "output_type": "stream",
     "text": [
      "Classes:  [0 1]\n",
      "Class Log Priors:  [-0.87546874 -0.5389965 ]\n",
      "--------------------------------------------------------\n",
      "Accuracy Report for Training\n",
      "Accuracy: 0.77\n",
      "              precision    recall  f1-score   support\n",
      "\n",
      "           0       0.76      0.64      0.70        25\n",
      "           1       0.77      0.86      0.81        35\n",
      "\n",
      "    accuracy                           0.77        60\n",
      "   macro avg       0.77      0.75      0.75        60\n",
      "weighted avg       0.77      0.77      0.76        60\n",
      "\n",
      "Confusion Matrix: \n",
      " [[16  9]\n",
      " [ 5 30]]\n",
      "--------------------------------------------------------\n",
      "Accuracy Report for Testing\n",
      "Accuracy: 0.75\n",
      "              precision    recall  f1-score   support\n",
      "\n",
      "           0       0.70      0.78      0.74         9\n",
      "           1       0.80      0.73      0.76        11\n",
      "\n",
      "    accuracy                           0.75        20\n",
      "   macro avg       0.75      0.75      0.75        20\n",
      "weighted avg       0.76      0.75      0.75        20\n",
      "\n",
      "Confusion Matrix: \n",
      " [[7 2]\n",
      " [3 8]]\n"
     ]
    },
    {
     "data": {
      "image/png": "[encoded data removed]",
      "text/plain": [
       "<Figure size 288x288 with 1 Axes>"
      ]
     },
     "metadata": {
      "needs_background": "light"
     },
     "output_type": "display_data"
    },
    {
     "data": {
      "image/png": "[encoded data removed]",
      "text/plain": [
       "<Figure size 288x288 with 1 Axes>"
      ]
     },
     "metadata": {
      "needs_background": "light"
     },
     "output_type": "display_data"
    }
   ],
   "source": [
    "x_train, x_test, y_train, y_test, classifier = train_test_classifier(df_x, df_y.iloc[:,0].values, test_size=0.25, classifier=\"Categorical\")\n",
    "print('--------------------------------------------------------')\n",
    "print(\"Accuracy Report for Training\")\n",
    "y_pred_train = prediction(classifier, x_train)\n",
    "accuracy_cm_report(y_train, y_pred_train, class_names=class_names)\n",
    "print('--------------------------------------------------------')\n",
    "print(\"Accuracy Report for Testing\")\n",
    "y_pred_test = prediction(classifier, x_test)\n",
    "accuracy_cm_report(y_test, y_pred_test, class_names=class_names)\n",
    "\n",
    "y_prob_categorical = classifier.predict_proba(x_test)[:,1]"
   ]
  },
  {
   "cell_type": "markdown",
   "metadata": {},
   "source": [
    "Current Problem: Extension of Earlier Method, but now trying to Call GridSearchCV"
   ]
  },
  {
   "cell_type": "code",
   "execution_count": 409,
   "metadata": {},
   "outputs": [
    {
     "name": "stdout",
     "output_type": "stream",
     "text": [
      "Fitting 5 folds for each of 4 candidates, totalling 20 fits\n",
      "[CV] alpha=0.1 .......................................................\n",
      "[CV] ........................................ alpha=0.1, total=   0.0s\n",
      "[CV] alpha=0.1 .......................................................\n",
      "[CV] ........................................ alpha=0.1, total=   0.0s\n",
      "[CV] alpha=0.1 .......................................................\n"
     ]
    },
    {
     "name": "stderr",
     "output_type": "stream",
     "text": [
      "[Parallel(n_jobs=1)]: Using backend SequentialBackend with 1 concurrent workers.\n",
      "[Parallel(n_jobs=1)]: Done   1 out of   1 | elapsed:    0.0s remaining:    0.0s\n"
     ]
    },
    {
     "ename": "IndexError",
     "evalue": "index 3 is out of bounds for axis 1 with size 3",
     "output_type": "error",
     "traceback": [
      "\u001b[0;31m---------------------------------------------------------------------------\u001b[0m",
      "\u001b[0;31mIndexError\u001b[0m                                Traceback (most recent call last)",
      "\u001b[0;32m<ipython-input-409-e57ab7238bab>\u001b[0m in \u001b[0;36m<module>\u001b[0;34m\u001b[0m\n\u001b[1;32m      5\u001b[0m \u001b[0mclassifier\u001b[0m\u001b[0;34m.\u001b[0m\u001b[0mfit\u001b[0m\u001b[0;34m(\u001b[0m\u001b[0mx_train\u001b[0m\u001b[0;34m,\u001b[0m \u001b[0my_train\u001b[0m\u001b[0;34m)\u001b[0m\u001b[0;34m\u001b[0m\u001b[0;34m\u001b[0m\u001b[0m\n\u001b[1;32m      6\u001b[0m \u001b[0mgrid_search\u001b[0m \u001b[0;34m=\u001b[0m \u001b[0mGridSearchCV\u001b[0m\u001b[0;34m(\u001b[0m\u001b[0mclassifier\u001b[0m\u001b[0;34m,\u001b[0m \u001b[0mparam_grid\u001b[0m\u001b[0;34m,\u001b[0m \u001b[0mcv\u001b[0m\u001b[0;34m=\u001b[0m\u001b[0;36m5\u001b[0m\u001b[0;34m,\u001b[0m \u001b[0mverbose\u001b[0m\u001b[0;34m=\u001b[0m\u001b[0;36m2\u001b[0m\u001b[0;34m)\u001b[0m\u001b[0;34m\u001b[0m\u001b[0;34m\u001b[0m\u001b[0m\n\u001b[0;32m----> 7\u001b[0;31m \u001b[0mgrid_search\u001b[0m\u001b[0;34m.\u001b[0m\u001b[0mfit\u001b[0m\u001b[0;34m(\u001b[0m\u001b[0mx_train\u001b[0m\u001b[0;34m,\u001b[0m \u001b[0my_train\u001b[0m\u001b[0;34m)\u001b[0m\u001b[0;34m\u001b[0m\u001b[0;34m\u001b[0m\u001b[0m\n\u001b[0m\u001b[1;32m      8\u001b[0m \u001b[0mclassifier\u001b[0m \u001b[0;34m=\u001b[0m \u001b[0mgrid_search\u001b[0m\u001b[0;34m.\u001b[0m\u001b[0mbest_estimator_\u001b[0m\u001b[0;34m\u001b[0m\u001b[0;34m\u001b[0m\u001b[0m\n",
      "\u001b[0;32m~/opt/anaconda3/envs/geospatial/lib/python3.8/site-packages/sklearn/utils/validation.py\u001b[0m in \u001b[0;36minner_f\u001b[0;34m(*args, **kwargs)\u001b[0m\n\u001b[1;32m     70\u001b[0m                           FutureWarning)\n\u001b[1;32m     71\u001b[0m         \u001b[0mkwargs\u001b[0m\u001b[0;34m.\u001b[0m\u001b[0mupdate\u001b[0m\u001b[0;34m(\u001b[0m\u001b[0;34m{\u001b[0m\u001b[0mk\u001b[0m\u001b[0;34m:\u001b[0m \u001b[0marg\u001b[0m \u001b[0;32mfor\u001b[0m \u001b[0mk\u001b[0m\u001b[0;34m,\u001b[0m \u001b[0marg\u001b[0m \u001b[0;32min\u001b[0m \u001b[0mzip\u001b[0m\u001b[0;34m(\u001b[0m\u001b[0msig\u001b[0m\u001b[0;34m.\u001b[0m\u001b[0mparameters\u001b[0m\u001b[0;34m,\u001b[0m \u001b[0margs\u001b[0m\u001b[0;34m)\u001b[0m\u001b[0;34m}\u001b[0m\u001b[0;34m)\u001b[0m\u001b[0;34m\u001b[0m\u001b[0;34m\u001b[0m\u001b[0m\n\u001b[0;32m---> 72\u001b[0;31m         \u001b[0;32mreturn\u001b[0m \u001b[0mf\u001b[0m\u001b[0;34m(\u001b[0m\u001b[0;34m**\u001b[0m\u001b[0mkwargs\u001b[0m\u001b[0;34m)\u001b[0m\u001b[0;34m\u001b[0m\u001b[0;34m\u001b[0m\u001b[0m\n\u001b[0m\u001b[1;32m     73\u001b[0m     \u001b[0;32mreturn\u001b[0m \u001b[0minner_f\u001b[0m\u001b[0;34m\u001b[0m\u001b[0;34m\u001b[0m\u001b[0m\n\u001b[1;32m     74\u001b[0m \u001b[0;34m\u001b[0m\u001b[0m\n",
      "\u001b[0;32m~/opt/anaconda3/envs/geospatial/lib/python3.8/site-packages/sklearn/model_selection/_search.py\u001b[0m in \u001b[0;36mfit\u001b[0;34m(self, X, y, groups, **fit_params)\u001b[0m\n\u001b[1;32m    734\u001b[0m                 \u001b[0;32mreturn\u001b[0m \u001b[0mresults\u001b[0m\u001b[0;34m\u001b[0m\u001b[0;34m\u001b[0m\u001b[0m\n\u001b[1;32m    735\u001b[0m \u001b[0;34m\u001b[0m\u001b[0m\n\u001b[0;32m--> 736\u001b[0;31m             \u001b[0mself\u001b[0m\u001b[0;34m.\u001b[0m\u001b[0m_run_search\u001b[0m\u001b[0;34m(\u001b[0m\u001b[0mevaluate_candidates\u001b[0m\u001b[0;34m)\u001b[0m\u001b[0;34m\u001b[0m\u001b[0;34m\u001b[0m\u001b[0m\n\u001b[0m\u001b[1;32m    737\u001b[0m \u001b[0;34m\u001b[0m\u001b[0m\n\u001b[1;32m    738\u001b[0m         \u001b[0;31m# For multi-metric evaluation, store the best_index_, best_params_ and\u001b[0m\u001b[0;34m\u001b[0m\u001b[0;34m\u001b[0m\u001b[0;34m\u001b[0m\u001b[0m\n",
      "\u001b[0;32m~/opt/anaconda3/envs/geospatial/lib/python3.8/site-packages/sklearn/model_selection/_search.py\u001b[0m in \u001b[0;36m_run_search\u001b[0;34m(self, evaluate_candidates)\u001b[0m\n\u001b[1;32m   1186\u001b[0m     \u001b[0;32mdef\u001b[0m \u001b[0m_run_search\u001b[0m\u001b[0;34m(\u001b[0m\u001b[0mself\u001b[0m\u001b[0;34m,\u001b[0m \u001b[0mevaluate_candidates\u001b[0m\u001b[0;34m)\u001b[0m\u001b[0;34m:\u001b[0m\u001b[0;34m\u001b[0m\u001b[0;34m\u001b[0m\u001b[0m\n\u001b[1;32m   1187\u001b[0m         \u001b[0;34m\"\"\"Search all candidates in param_grid\"\"\"\u001b[0m\u001b[0;34m\u001b[0m\u001b[0;34m\u001b[0m\u001b[0m\n\u001b[0;32m-> 1188\u001b[0;31m         \u001b[0mevaluate_candidates\u001b[0m\u001b[0;34m(\u001b[0m\u001b[0mParameterGrid\u001b[0m\u001b[0;34m(\u001b[0m\u001b[0mself\u001b[0m\u001b[0;34m.\u001b[0m\u001b[0mparam_grid\u001b[0m\u001b[0;34m)\u001b[0m\u001b[0;34m)\u001b[0m\u001b[0;34m\u001b[0m\u001b[0;34m\u001b[0m\u001b[0m\n\u001b[0m\u001b[1;32m   1189\u001b[0m \u001b[0;34m\u001b[0m\u001b[0m\n\u001b[1;32m   1190\u001b[0m \u001b[0;34m\u001b[0m\u001b[0m\n",
      "\u001b[0;32m~/opt/anaconda3/envs/geospatial/lib/python3.8/site-packages/sklearn/model_selection/_search.py\u001b[0m in \u001b[0;36mevaluate_candidates\u001b[0;34m(candidate_params)\u001b[0m\n\u001b[1;32m    706\u001b[0m                               n_splits, n_candidates, n_candidates * n_splits))\n\u001b[1;32m    707\u001b[0m \u001b[0;34m\u001b[0m\u001b[0m\n\u001b[0;32m--> 708\u001b[0;31m                 out = parallel(delayed(_fit_and_score)(clone(base_estimator),\n\u001b[0m\u001b[1;32m    709\u001b[0m                                                        \u001b[0mX\u001b[0m\u001b[0;34m,\u001b[0m \u001b[0my\u001b[0m\u001b[0;34m,\u001b[0m\u001b[0;34m\u001b[0m\u001b[0;34m\u001b[0m\u001b[0m\n\u001b[1;32m    710\u001b[0m                                                        \u001b[0mtrain\u001b[0m\u001b[0;34m=\u001b[0m\u001b[0mtrain\u001b[0m\u001b[0;34m,\u001b[0m \u001b[0mtest\u001b[0m\u001b[0;34m=\u001b[0m\u001b[0mtest\u001b[0m\u001b[0;34m,\u001b[0m\u001b[0;34m\u001b[0m\u001b[0;34m\u001b[0m\u001b[0m\n",
      "\u001b[0;32m~/opt/anaconda3/envs/geospatial/lib/python3.8/site-packages/joblib/parallel.py\u001b[0m in \u001b[0;36m__call__\u001b[0;34m(self, iterable)\u001b[0m\n\u001b[1;32m   1042\u001b[0m                 \u001b[0mself\u001b[0m\u001b[0;34m.\u001b[0m\u001b[0m_iterating\u001b[0m \u001b[0;34m=\u001b[0m \u001b[0mself\u001b[0m\u001b[0;34m.\u001b[0m\u001b[0m_original_iterator\u001b[0m \u001b[0;32mis\u001b[0m \u001b[0;32mnot\u001b[0m \u001b[0;32mNone\u001b[0m\u001b[0;34m\u001b[0m\u001b[0;34m\u001b[0m\u001b[0m\n\u001b[1;32m   1043\u001b[0m \u001b[0;34m\u001b[0m\u001b[0m\n\u001b[0;32m-> 1044\u001b[0;31m             \u001b[0;32mwhile\u001b[0m \u001b[0mself\u001b[0m\u001b[0;34m.\u001b[0m\u001b[0mdispatch_one_batch\u001b[0m\u001b[0;34m(\u001b[0m\u001b[0miterator\u001b[0m\u001b[0;34m)\u001b[0m\u001b[0;34m:\u001b[0m\u001b[0;34m\u001b[0m\u001b[0;34m\u001b[0m\u001b[0m\n\u001b[0m\u001b[1;32m   1045\u001b[0m                 \u001b[0;32mpass\u001b[0m\u001b[0;34m\u001b[0m\u001b[0;34m\u001b[0m\u001b[0m\n\u001b[1;32m   1046\u001b[0m \u001b[0;34m\u001b[0m\u001b[0m\n",
      "\u001b[0;32m~/opt/anaconda3/envs/geospatial/lib/python3.8/site-packages/joblib/parallel.py\u001b[0m in \u001b[0;36mdispatch_one_batch\u001b[0;34m(self, iterator)\u001b[0m\n\u001b[1;32m    857\u001b[0m                 \u001b[0;32mreturn\u001b[0m \u001b[0;32mFalse\u001b[0m\u001b[0;34m\u001b[0m\u001b[0;34m\u001b[0m\u001b[0m\n\u001b[1;32m    858\u001b[0m             \u001b[0;32melse\u001b[0m\u001b[0;34m:\u001b[0m\u001b[0;34m\u001b[0m\u001b[0;34m\u001b[0m\u001b[0m\n\u001b[0;32m--> 859\u001b[0;31m                 \u001b[0mself\u001b[0m\u001b[0;34m.\u001b[0m\u001b[0m_dispatch\u001b[0m\u001b[0;34m(\u001b[0m\u001b[0mtasks\u001b[0m\u001b[0;34m)\u001b[0m\u001b[0;34m\u001b[0m\u001b[0;34m\u001b[0m\u001b[0m\n\u001b[0m\u001b[1;32m    860\u001b[0m                 \u001b[0;32mreturn\u001b[0m \u001b[0;32mTrue\u001b[0m\u001b[0;34m\u001b[0m\u001b[0;34m\u001b[0m\u001b[0m\n\u001b[1;32m    861\u001b[0m \u001b[0;34m\u001b[0m\u001b[0m\n",
      "\u001b[0;32m~/opt/anaconda3/envs/geospatial/lib/python3.8/site-packages/joblib/parallel.py\u001b[0m in \u001b[0;36m_dispatch\u001b[0;34m(self, batch)\u001b[0m\n\u001b[1;32m    775\u001b[0m         \u001b[0;32mwith\u001b[0m \u001b[0mself\u001b[0m\u001b[0;34m.\u001b[0m\u001b[0m_lock\u001b[0m\u001b[0;34m:\u001b[0m\u001b[0;34m\u001b[0m\u001b[0;34m\u001b[0m\u001b[0m\n\u001b[1;32m    776\u001b[0m             \u001b[0mjob_idx\u001b[0m \u001b[0;34m=\u001b[0m \u001b[0mlen\u001b[0m\u001b[0;34m(\u001b[0m\u001b[0mself\u001b[0m\u001b[0;34m.\u001b[0m\u001b[0m_jobs\u001b[0m\u001b[0;34m)\u001b[0m\u001b[0;34m\u001b[0m\u001b[0;34m\u001b[0m\u001b[0m\n\u001b[0;32m--> 777\u001b[0;31m             \u001b[0mjob\u001b[0m \u001b[0;34m=\u001b[0m \u001b[0mself\u001b[0m\u001b[0;34m.\u001b[0m\u001b[0m_backend\u001b[0m\u001b[0;34m.\u001b[0m\u001b[0mapply_async\u001b[0m\u001b[0;34m(\u001b[0m\u001b[0mbatch\u001b[0m\u001b[0;34m,\u001b[0m \u001b[0mcallback\u001b[0m\u001b[0;34m=\u001b[0m\u001b[0mcb\u001b[0m\u001b[0;34m)\u001b[0m\u001b[0;34m\u001b[0m\u001b[0;34m\u001b[0m\u001b[0m\n\u001b[0m\u001b[1;32m    778\u001b[0m             \u001b[0;31m# A job can complete so quickly than its callback is\u001b[0m\u001b[0;34m\u001b[0m\u001b[0;34m\u001b[0m\u001b[0;34m\u001b[0m\u001b[0m\n\u001b[1;32m    779\u001b[0m             \u001b[0;31m# called before we get here, causing self._jobs to\u001b[0m\u001b[0;34m\u001b[0m\u001b[0;34m\u001b[0m\u001b[0;34m\u001b[0m\u001b[0m\n",
      "\u001b[0;32m~/opt/anaconda3/envs/geospatial/lib/python3.8/site-packages/joblib/_parallel_backends.py\u001b[0m in \u001b[0;36mapply_async\u001b[0;34m(self, func, callback)\u001b[0m\n\u001b[1;32m    206\u001b[0m     \u001b[0;32mdef\u001b[0m \u001b[0mapply_async\u001b[0m\u001b[0;34m(\u001b[0m\u001b[0mself\u001b[0m\u001b[0;34m,\u001b[0m \u001b[0mfunc\u001b[0m\u001b[0;34m,\u001b[0m \u001b[0mcallback\u001b[0m\u001b[0;34m=\u001b[0m\u001b[0;32mNone\u001b[0m\u001b[0;34m)\u001b[0m\u001b[0;34m:\u001b[0m\u001b[0;34m\u001b[0m\u001b[0;34m\u001b[0m\u001b[0m\n\u001b[1;32m    207\u001b[0m         \u001b[0;34m\"\"\"Schedule a func to be run\"\"\"\u001b[0m\u001b[0;34m\u001b[0m\u001b[0;34m\u001b[0m\u001b[0m\n\u001b[0;32m--> 208\u001b[0;31m         \u001b[0mresult\u001b[0m \u001b[0;34m=\u001b[0m \u001b[0mImmediateResult\u001b[0m\u001b[0;34m(\u001b[0m\u001b[0mfunc\u001b[0m\u001b[0;34m)\u001b[0m\u001b[0;34m\u001b[0m\u001b[0;34m\u001b[0m\u001b[0m\n\u001b[0m\u001b[1;32m    209\u001b[0m         \u001b[0;32mif\u001b[0m \u001b[0mcallback\u001b[0m\u001b[0;34m:\u001b[0m\u001b[0;34m\u001b[0m\u001b[0;34m\u001b[0m\u001b[0m\n\u001b[1;32m    210\u001b[0m             \u001b[0mcallback\u001b[0m\u001b[0;34m(\u001b[0m\u001b[0mresult\u001b[0m\u001b[0;34m)\u001b[0m\u001b[0;34m\u001b[0m\u001b[0;34m\u001b[0m\u001b[0m\n",
      "\u001b[0;32m~/opt/anaconda3/envs/geospatial/lib/python3.8/site-packages/joblib/_parallel_backends.py\u001b[0m in \u001b[0;36m__init__\u001b[0;34m(self, batch)\u001b[0m\n\u001b[1;32m    570\u001b[0m         \u001b[0;31m# Don't delay the application, to avoid keeping the input\u001b[0m\u001b[0;34m\u001b[0m\u001b[0;34m\u001b[0m\u001b[0;34m\u001b[0m\u001b[0m\n\u001b[1;32m    571\u001b[0m         \u001b[0;31m# arguments in memory\u001b[0m\u001b[0;34m\u001b[0m\u001b[0;34m\u001b[0m\u001b[0;34m\u001b[0m\u001b[0m\n\u001b[0;32m--> 572\u001b[0;31m         \u001b[0mself\u001b[0m\u001b[0;34m.\u001b[0m\u001b[0mresults\u001b[0m \u001b[0;34m=\u001b[0m \u001b[0mbatch\u001b[0m\u001b[0;34m(\u001b[0m\u001b[0;34m)\u001b[0m\u001b[0;34m\u001b[0m\u001b[0;34m\u001b[0m\u001b[0m\n\u001b[0m\u001b[1;32m    573\u001b[0m \u001b[0;34m\u001b[0m\u001b[0m\n\u001b[1;32m    574\u001b[0m     \u001b[0;32mdef\u001b[0m \u001b[0mget\u001b[0m\u001b[0;34m(\u001b[0m\u001b[0mself\u001b[0m\u001b[0;34m)\u001b[0m\u001b[0;34m:\u001b[0m\u001b[0;34m\u001b[0m\u001b[0;34m\u001b[0m\u001b[0m\n",
      "\u001b[0;32m~/opt/anaconda3/envs/geospatial/lib/python3.8/site-packages/joblib/parallel.py\u001b[0m in \u001b[0;36m__call__\u001b[0;34m(self)\u001b[0m\n\u001b[1;32m    260\u001b[0m         \u001b[0;31m# change the default number of processes to -1\u001b[0m\u001b[0;34m\u001b[0m\u001b[0;34m\u001b[0m\u001b[0;34m\u001b[0m\u001b[0m\n\u001b[1;32m    261\u001b[0m         \u001b[0;32mwith\u001b[0m \u001b[0mparallel_backend\u001b[0m\u001b[0;34m(\u001b[0m\u001b[0mself\u001b[0m\u001b[0;34m.\u001b[0m\u001b[0m_backend\u001b[0m\u001b[0;34m,\u001b[0m \u001b[0mn_jobs\u001b[0m\u001b[0;34m=\u001b[0m\u001b[0mself\u001b[0m\u001b[0;34m.\u001b[0m\u001b[0m_n_jobs\u001b[0m\u001b[0;34m)\u001b[0m\u001b[0;34m:\u001b[0m\u001b[0;34m\u001b[0m\u001b[0;34m\u001b[0m\u001b[0m\n\u001b[0;32m--> 262\u001b[0;31m             return [func(*args, **kwargs)\n\u001b[0m\u001b[1;32m    263\u001b[0m                     for func, args, kwargs in self.items]\n\u001b[1;32m    264\u001b[0m \u001b[0;34m\u001b[0m\u001b[0m\n",
      "\u001b[0;32m~/opt/anaconda3/envs/geospatial/lib/python3.8/site-packages/joblib/parallel.py\u001b[0m in \u001b[0;36m<listcomp>\u001b[0;34m(.0)\u001b[0m\n\u001b[1;32m    260\u001b[0m         \u001b[0;31m# change the default number of processes to -1\u001b[0m\u001b[0;34m\u001b[0m\u001b[0;34m\u001b[0m\u001b[0;34m\u001b[0m\u001b[0m\n\u001b[1;32m    261\u001b[0m         \u001b[0;32mwith\u001b[0m \u001b[0mparallel_backend\u001b[0m\u001b[0;34m(\u001b[0m\u001b[0mself\u001b[0m\u001b[0;34m.\u001b[0m\u001b[0m_backend\u001b[0m\u001b[0;34m,\u001b[0m \u001b[0mn_jobs\u001b[0m\u001b[0;34m=\u001b[0m\u001b[0mself\u001b[0m\u001b[0;34m.\u001b[0m\u001b[0m_n_jobs\u001b[0m\u001b[0;34m)\u001b[0m\u001b[0;34m:\u001b[0m\u001b[0;34m\u001b[0m\u001b[0;34m\u001b[0m\u001b[0m\n\u001b[0;32m--> 262\u001b[0;31m             return [func(*args, **kwargs)\n\u001b[0m\u001b[1;32m    263\u001b[0m                     for func, args, kwargs in self.items]\n\u001b[1;32m    264\u001b[0m \u001b[0;34m\u001b[0m\u001b[0m\n",
      "\u001b[0;32m~/opt/anaconda3/envs/geospatial/lib/python3.8/site-packages/sklearn/model_selection/_validation.py\u001b[0m in \u001b[0;36m_fit_and_score\u001b[0;34m(estimator, X, y, scorer, train, test, verbose, parameters, fit_params, return_train_score, return_parameters, return_n_test_samples, return_times, return_estimator, error_score)\u001b[0m\n\u001b[1;32m    558\u001b[0m     \u001b[0;32melse\u001b[0m\u001b[0;34m:\u001b[0m\u001b[0;34m\u001b[0m\u001b[0;34m\u001b[0m\u001b[0m\n\u001b[1;32m    559\u001b[0m         \u001b[0mfit_time\u001b[0m \u001b[0;34m=\u001b[0m \u001b[0mtime\u001b[0m\u001b[0;34m.\u001b[0m\u001b[0mtime\u001b[0m\u001b[0;34m(\u001b[0m\u001b[0;34m)\u001b[0m \u001b[0;34m-\u001b[0m \u001b[0mstart_time\u001b[0m\u001b[0;34m\u001b[0m\u001b[0;34m\u001b[0m\u001b[0m\n\u001b[0;32m--> 560\u001b[0;31m         \u001b[0mtest_scores\u001b[0m \u001b[0;34m=\u001b[0m \u001b[0m_score\u001b[0m\u001b[0;34m(\u001b[0m\u001b[0mestimator\u001b[0m\u001b[0;34m,\u001b[0m \u001b[0mX_test\u001b[0m\u001b[0;34m,\u001b[0m \u001b[0my_test\u001b[0m\u001b[0;34m,\u001b[0m \u001b[0mscorer\u001b[0m\u001b[0;34m)\u001b[0m\u001b[0;34m\u001b[0m\u001b[0;34m\u001b[0m\u001b[0m\n\u001b[0m\u001b[1;32m    561\u001b[0m         \u001b[0mscore_time\u001b[0m \u001b[0;34m=\u001b[0m \u001b[0mtime\u001b[0m\u001b[0;34m.\u001b[0m\u001b[0mtime\u001b[0m\u001b[0;34m(\u001b[0m\u001b[0;34m)\u001b[0m \u001b[0;34m-\u001b[0m \u001b[0mstart_time\u001b[0m \u001b[0;34m-\u001b[0m \u001b[0mfit_time\u001b[0m\u001b[0;34m\u001b[0m\u001b[0;34m\u001b[0m\u001b[0m\n\u001b[1;32m    562\u001b[0m         \u001b[0;32mif\u001b[0m \u001b[0mreturn_train_score\u001b[0m\u001b[0;34m:\u001b[0m\u001b[0;34m\u001b[0m\u001b[0;34m\u001b[0m\u001b[0m\n",
      "\u001b[0;32m~/opt/anaconda3/envs/geospatial/lib/python3.8/site-packages/sklearn/model_selection/_validation.py\u001b[0m in \u001b[0;36m_score\u001b[0;34m(estimator, X_test, y_test, scorer)\u001b[0m\n\u001b[1;32m    605\u001b[0m         \u001b[0mscores\u001b[0m \u001b[0;34m=\u001b[0m \u001b[0mscorer\u001b[0m\u001b[0;34m(\u001b[0m\u001b[0mestimator\u001b[0m\u001b[0;34m,\u001b[0m \u001b[0mX_test\u001b[0m\u001b[0;34m)\u001b[0m\u001b[0;34m\u001b[0m\u001b[0;34m\u001b[0m\u001b[0m\n\u001b[1;32m    606\u001b[0m     \u001b[0;32melse\u001b[0m\u001b[0;34m:\u001b[0m\u001b[0;34m\u001b[0m\u001b[0;34m\u001b[0m\u001b[0m\n\u001b[0;32m--> 607\u001b[0;31m         \u001b[0mscores\u001b[0m \u001b[0;34m=\u001b[0m \u001b[0mscorer\u001b[0m\u001b[0;34m(\u001b[0m\u001b[0mestimator\u001b[0m\u001b[0;34m,\u001b[0m \u001b[0mX_test\u001b[0m\u001b[0;34m,\u001b[0m \u001b[0my_test\u001b[0m\u001b[0;34m)\u001b[0m\u001b[0;34m\u001b[0m\u001b[0;34m\u001b[0m\u001b[0m\n\u001b[0m\u001b[1;32m    608\u001b[0m \u001b[0;34m\u001b[0m\u001b[0m\n\u001b[1;32m    609\u001b[0m     error_msg = (\"scoring must return a number, got %s (%s) \"\n",
      "\u001b[0;32m~/opt/anaconda3/envs/geospatial/lib/python3.8/site-packages/sklearn/metrics/_scorer.py\u001b[0m in \u001b[0;36m__call__\u001b[0;34m(self, estimator, *args, **kwargs)\u001b[0m\n\u001b[1;32m     88\u001b[0m                                       *args, **kwargs)\n\u001b[1;32m     89\u001b[0m             \u001b[0;32melse\u001b[0m\u001b[0;34m:\u001b[0m\u001b[0;34m\u001b[0m\u001b[0;34m\u001b[0m\u001b[0m\n\u001b[0;32m---> 90\u001b[0;31m                 \u001b[0mscore\u001b[0m \u001b[0;34m=\u001b[0m \u001b[0mscorer\u001b[0m\u001b[0;34m(\u001b[0m\u001b[0mestimator\u001b[0m\u001b[0;34m,\u001b[0m \u001b[0;34m*\u001b[0m\u001b[0margs\u001b[0m\u001b[0;34m,\u001b[0m \u001b[0;34m**\u001b[0m\u001b[0mkwargs\u001b[0m\u001b[0;34m)\u001b[0m\u001b[0;34m\u001b[0m\u001b[0;34m\u001b[0m\u001b[0m\n\u001b[0m\u001b[1;32m     91\u001b[0m             \u001b[0mscores\u001b[0m\u001b[0;34m[\u001b[0m\u001b[0mname\u001b[0m\u001b[0;34m]\u001b[0m \u001b[0;34m=\u001b[0m \u001b[0mscore\u001b[0m\u001b[0;34m\u001b[0m\u001b[0;34m\u001b[0m\u001b[0m\n\u001b[1;32m     92\u001b[0m         \u001b[0;32mreturn\u001b[0m \u001b[0mscores\u001b[0m\u001b[0;34m\u001b[0m\u001b[0;34m\u001b[0m\u001b[0m\n",
      "\u001b[0;32m~/opt/anaconda3/envs/geospatial/lib/python3.8/site-packages/sklearn/metrics/_scorer.py\u001b[0m in \u001b[0;36m_passthrough_scorer\u001b[0;34m(estimator, *args, **kwargs)\u001b[0m\n\u001b[1;32m    370\u001b[0m \u001b[0;32mdef\u001b[0m \u001b[0m_passthrough_scorer\u001b[0m\u001b[0;34m(\u001b[0m\u001b[0mestimator\u001b[0m\u001b[0;34m,\u001b[0m \u001b[0;34m*\u001b[0m\u001b[0margs\u001b[0m\u001b[0;34m,\u001b[0m \u001b[0;34m**\u001b[0m\u001b[0mkwargs\u001b[0m\u001b[0;34m)\u001b[0m\u001b[0;34m:\u001b[0m\u001b[0;34m\u001b[0m\u001b[0;34m\u001b[0m\u001b[0m\n\u001b[1;32m    371\u001b[0m     \u001b[0;34m\"\"\"Function that wraps estimator.score\"\"\"\u001b[0m\u001b[0;34m\u001b[0m\u001b[0;34m\u001b[0m\u001b[0m\n\u001b[0;32m--> 372\u001b[0;31m     \u001b[0;32mreturn\u001b[0m \u001b[0mestimator\u001b[0m\u001b[0;34m.\u001b[0m\u001b[0mscore\u001b[0m\u001b[0;34m(\u001b[0m\u001b[0;34m*\u001b[0m\u001b[0margs\u001b[0m\u001b[0;34m,\u001b[0m \u001b[0;34m**\u001b[0m\u001b[0mkwargs\u001b[0m\u001b[0;34m)\u001b[0m\u001b[0;34m\u001b[0m\u001b[0;34m\u001b[0m\u001b[0m\n\u001b[0m\u001b[1;32m    373\u001b[0m \u001b[0;34m\u001b[0m\u001b[0m\n\u001b[1;32m    374\u001b[0m \u001b[0;34m\u001b[0m\u001b[0m\n",
      "\u001b[0;32m~/opt/anaconda3/envs/geospatial/lib/python3.8/site-packages/sklearn/base.py\u001b[0m in \u001b[0;36mscore\u001b[0;34m(self, X, y, sample_weight)\u001b[0m\n\u001b[1;32m    497\u001b[0m         \"\"\"\n\u001b[1;32m    498\u001b[0m         \u001b[0;32mfrom\u001b[0m \u001b[0;34m.\u001b[0m\u001b[0mmetrics\u001b[0m \u001b[0;32mimport\u001b[0m \u001b[0maccuracy_score\u001b[0m\u001b[0;34m\u001b[0m\u001b[0;34m\u001b[0m\u001b[0m\n\u001b[0;32m--> 499\u001b[0;31m         \u001b[0;32mreturn\u001b[0m \u001b[0maccuracy_score\u001b[0m\u001b[0;34m(\u001b[0m\u001b[0my\u001b[0m\u001b[0;34m,\u001b[0m \u001b[0mself\u001b[0m\u001b[0;34m.\u001b[0m\u001b[0mpredict\u001b[0m\u001b[0;34m(\u001b[0m\u001b[0mX\u001b[0m\u001b[0;34m)\u001b[0m\u001b[0;34m,\u001b[0m \u001b[0msample_weight\u001b[0m\u001b[0;34m=\u001b[0m\u001b[0msample_weight\u001b[0m\u001b[0;34m)\u001b[0m\u001b[0;34m\u001b[0m\u001b[0;34m\u001b[0m\u001b[0m\n\u001b[0m\u001b[1;32m    500\u001b[0m \u001b[0;34m\u001b[0m\u001b[0m\n\u001b[1;32m    501\u001b[0m     \u001b[0;32mdef\u001b[0m \u001b[0m_more_tags\u001b[0m\u001b[0;34m(\u001b[0m\u001b[0mself\u001b[0m\u001b[0;34m)\u001b[0m\u001b[0;34m:\u001b[0m\u001b[0;34m\u001b[0m\u001b[0;34m\u001b[0m\u001b[0m\n",
      "\u001b[0;32m~/opt/anaconda3/envs/geospatial/lib/python3.8/site-packages/sklearn/naive_bayes.py\u001b[0m in \u001b[0;36mpredict\u001b[0;34m(self, X)\u001b[0m\n\u001b[1;32m     76\u001b[0m         \u001b[0mcheck_is_fitted\u001b[0m\u001b[0;34m(\u001b[0m\u001b[0mself\u001b[0m\u001b[0;34m)\u001b[0m\u001b[0;34m\u001b[0m\u001b[0;34m\u001b[0m\u001b[0m\n\u001b[1;32m     77\u001b[0m         \u001b[0mX\u001b[0m \u001b[0;34m=\u001b[0m \u001b[0mself\u001b[0m\u001b[0;34m.\u001b[0m\u001b[0m_check_X\u001b[0m\u001b[0;34m(\u001b[0m\u001b[0mX\u001b[0m\u001b[0;34m)\u001b[0m\u001b[0;34m\u001b[0m\u001b[0;34m\u001b[0m\u001b[0m\n\u001b[0;32m---> 78\u001b[0;31m         \u001b[0mjll\u001b[0m \u001b[0;34m=\u001b[0m \u001b[0mself\u001b[0m\u001b[0;34m.\u001b[0m\u001b[0m_joint_log_likelihood\u001b[0m\u001b[0;34m(\u001b[0m\u001b[0mX\u001b[0m\u001b[0;34m)\u001b[0m\u001b[0;34m\u001b[0m\u001b[0;34m\u001b[0m\u001b[0m\n\u001b[0m\u001b[1;32m     79\u001b[0m         \u001b[0;32mreturn\u001b[0m \u001b[0mself\u001b[0m\u001b[0;34m.\u001b[0m\u001b[0mclasses_\u001b[0m\u001b[0;34m[\u001b[0m\u001b[0mnp\u001b[0m\u001b[0;34m.\u001b[0m\u001b[0margmax\u001b[0m\u001b[0;34m(\u001b[0m\u001b[0mjll\u001b[0m\u001b[0;34m,\u001b[0m \u001b[0maxis\u001b[0m\u001b[0;34m=\u001b[0m\u001b[0;36m1\u001b[0m\u001b[0;34m)\u001b[0m\u001b[0;34m]\u001b[0m\u001b[0;34m\u001b[0m\u001b[0;34m\u001b[0m\u001b[0m\n\u001b[1;32m     80\u001b[0m \u001b[0;34m\u001b[0m\u001b[0m\n",
      "\u001b[0;32m~/opt/anaconda3/envs/geospatial/lib/python3.8/site-packages/sklearn/naive_bayes.py\u001b[0m in \u001b[0;36m_joint_log_likelihood\u001b[0;34m(self, X)\u001b[0m\n\u001b[1;32m   1223\u001b[0m         \u001b[0;32mfor\u001b[0m \u001b[0mi\u001b[0m \u001b[0;32min\u001b[0m \u001b[0mrange\u001b[0m\u001b[0;34m(\u001b[0m\u001b[0mself\u001b[0m\u001b[0;34m.\u001b[0m\u001b[0mn_features_\u001b[0m\u001b[0;34m)\u001b[0m\u001b[0;34m:\u001b[0m\u001b[0;34m\u001b[0m\u001b[0;34m\u001b[0m\u001b[0m\n\u001b[1;32m   1224\u001b[0m             \u001b[0mindices\u001b[0m \u001b[0;34m=\u001b[0m \u001b[0mX\u001b[0m\u001b[0;34m[\u001b[0m\u001b[0;34m:\u001b[0m\u001b[0;34m,\u001b[0m \u001b[0mi\u001b[0m\u001b[0;34m]\u001b[0m\u001b[0;34m\u001b[0m\u001b[0;34m\u001b[0m\u001b[0m\n\u001b[0;32m-> 1225\u001b[0;31m             \u001b[0mjll\u001b[0m \u001b[0;34m+=\u001b[0m \u001b[0mself\u001b[0m\u001b[0;34m.\u001b[0m\u001b[0mfeature_log_prob_\u001b[0m\u001b[0;34m[\u001b[0m\u001b[0mi\u001b[0m\u001b[0;34m]\u001b[0m\u001b[0;34m[\u001b[0m\u001b[0;34m:\u001b[0m\u001b[0;34m,\u001b[0m \u001b[0mindices\u001b[0m\u001b[0;34m]\u001b[0m\u001b[0;34m.\u001b[0m\u001b[0mT\u001b[0m\u001b[0;34m\u001b[0m\u001b[0;34m\u001b[0m\u001b[0m\n\u001b[0m\u001b[1;32m   1226\u001b[0m         \u001b[0mtotal_ll\u001b[0m \u001b[0;34m=\u001b[0m \u001b[0mjll\u001b[0m \u001b[0;34m+\u001b[0m \u001b[0mself\u001b[0m\u001b[0;34m.\u001b[0m\u001b[0mclass_log_prior_\u001b[0m\u001b[0;34m\u001b[0m\u001b[0;34m\u001b[0m\u001b[0m\n\u001b[1;32m   1227\u001b[0m         \u001b[0;32mreturn\u001b[0m \u001b[0mtotal_ll\u001b[0m\u001b[0;34m\u001b[0m\u001b[0;34m\u001b[0m\u001b[0m\n",
      "\u001b[0;31mIndexError\u001b[0m: index 3 is out of bounds for axis 1 with size 3"
     ]
    }
   ],
   "source": [
    "x_train, x_test, y_train, y_test = \\\n",
    "        model_selection.train_test_split(df_x, df_y.iloc[:,0].values, test_size=0.25, stratify=df_y, random_state=42)\n",
    "param_grid = [{'alpha': [0.1, 1, 1.5, 5, 10]}]\n",
    "classifier = CategoricalNB()\n",
    "classifier.fit(x_train, y_train)\n",
    "grid_search = GridSearchCV(classifier, param_grid, cv=5, verbose=2)\n",
    "grid_search.fit(x_train, y_train)   \n",
    "classifier = grid_search.best_estimator_"
   ]
  },
  {
   "cell_type": "markdown",
   "metadata": {},
   "source": [
    "## Mixed Naive Bayes\n",
    "\n",
    "https://github.com/remykarem/mixed-naive-bayes"
   ]
  },
  {
   "cell_type": "code",
   "execution_count": 343,
   "metadata": {},
   "outputs": [],
   "source": [
    "x_train, x_test, y_train, y_test = \\\n",
    "        model_selection.train_test_split(x, y, test_size=0.25, stratify=y, random_state=42)"
   ]
  },
  {
   "cell_type": "code",
   "execution_count": 344,
   "metadata": {},
   "outputs": [],
   "source": [
    "x_train = x_train.astype(int)\n",
    "y_train = y_train.astype(int)\n",
    "x_test = x_test.astype(int)\n",
    "y_test = y_test.astype(int)"
   ]
  },
  {
   "cell_type": "code",
   "execution_count": 345,
   "metadata": {},
   "outputs": [
    {
     "name": "stdout",
     "output_type": "stream",
     "text": [
      "[[20  0  0  2  1]\n",
      " [22  0  2  2  0]\n",
      " [21  0  0  0  0]\n",
      " [26  0  0  2  0]\n",
      " [17  0  0  0  0]\n",
      " [25  0  0  0  0]\n",
      " [29  1  1  2  0]\n",
      " [35  0  1  0  0]\n",
      " [22  0  0  1  0]\n",
      " [37  2  0  1  1]\n",
      " [33  0  1  0  0]\n",
      " [28  2  0  1  1]\n",
      " [26  0  2  0  1]\n",
      " [28  1  0  1  0]\n",
      " [32  2  1  0  1]\n",
      " [31  0  0  1  0]\n",
      " [27  1  0  1  0]\n",
      " [21  1  1  0  1]\n",
      " [25  0  0  0  0]\n",
      " [27  1  2  0  0]\n",
      " [18  0  1  2  1]\n",
      " [29  0  2  0  1]\n",
      " [25  0  2  0  0]\n",
      " [20  0  0  1  1]\n",
      " [33  3  0  1  0]\n",
      " [19  0  0  1  0]\n",
      " [31  0  2  2  1]\n",
      " [19  0  0  1  0]\n",
      " [26  0  1  1  0]\n",
      " [28  0  0  2  0]\n",
      " [22  0  0  2  0]\n",
      " [35  1  0  1  0]\n",
      " [36  3  0  2  1]\n",
      " [22  1  0  1  0]\n",
      " [38  2  2  2  1]\n",
      " [30  1  1  2  1]\n",
      " [27  1  1  1  0]\n",
      " [26  1  2  1  0]\n",
      " [32  1  0  0  0]\n",
      " [26  1  1  1  1]\n",
      " [28  2  0  1  0]\n",
      " [27  0  0  0  1]\n",
      " [28  2  0  2  0]\n",
      " [33  2  2  1  1]\n",
      " [26  1  0  1  0]\n",
      " [32  2  0  1  1]\n",
      " [25  0  2  0  0]\n",
      " [26  1  1  1  0]\n",
      " [27  1  0  1  1]\n",
      " [18  0  0  1  0]\n",
      " [26  0  1  0  0]\n",
      " [29  1  0  1  1]\n",
      " [30  2  2  2  0]\n",
      " [32  0  0  2  1]\n",
      " [25  0  1  2  0]\n",
      " [28  1  0  1  0]\n",
      " [32  1  0  2  1]\n",
      " [36  0  1  2  0]\n",
      " [33  0  1  1  0]\n",
      " [33  1  0  0  1]]\n"
     ]
    }
   ],
   "source": [
    "# NOTE: Technically should be using OrdinalEncoder for categorical features, change this later - although the final\n",
    "# result of doing this way is the same\n",
    "\n",
    "label_encoder = LabelEncoder() \n",
    "x_train[:,1] = label_encoder.fit_transform(x_train[:,1])\n",
    "x_train[:,2] = label_encoder.fit_transform(x_train[:,2])\n",
    "x_train[:,3] = label_encoder.fit_transform(x_train[:,3])\n",
    "x_train[:,4] = label_encoder.fit_transform(x_train[:,4])\n",
    "print(x_train)"
   ]
  },
  {
   "cell_type": "code",
   "execution_count": 346,
   "metadata": {},
   "outputs": [],
   "source": [
    "model = MixedNB(categorical_features =[1,2,3,4])"
   ]
  },
  {
   "cell_type": "code",
   "execution_count": 347,
   "metadata": {},
   "outputs": [
    {
     "name": "stdout",
     "output_type": "stream",
     "text": [
      "[4 3 3 2]\n"
     ]
    },
    {
     "data": {
      "text/plain": [
       "MixedNB(alpha=0.5, var_smoothing=1e-09)"
      ]
     },
     "execution_count": 347,
     "metadata": {},
     "output_type": "execute_result"
    }
   ],
   "source": [
    "model.fit(x_train, y_train)"
   ]
  },
  {
   "cell_type": "code",
   "execution_count": 348,
   "metadata": {},
   "outputs": [
    {
     "name": "stdout",
     "output_type": "stream",
     "text": [
      "Accuracy Report for Training\n",
      "Accuracy: 0.75\n",
      "              precision    recall  f1-score   support\n",
      "\n",
      "           0       0.73      0.64      0.68        25\n",
      "           1       0.76      0.83      0.79        35\n",
      "\n",
      "    accuracy                           0.75        60\n",
      "   macro avg       0.75      0.73      0.74        60\n",
      "weighted avg       0.75      0.75      0.75        60\n",
      "\n",
      "Confusion Matrix: \n",
      " [[16  9]\n",
      " [ 6 29]]\n",
      "--------------------------------------------------------\n",
      "Accuracy Report for Testing\n",
      "Accuracy: 0.75\n",
      "              precision    recall  f1-score   support\n",
      "\n",
      "           0       0.70      0.78      0.74         9\n",
      "           1       0.80      0.73      0.76        11\n",
      "\n",
      "    accuracy                           0.75        20\n",
      "   macro avg       0.75      0.75      0.75        20\n",
      "weighted avg       0.76      0.75      0.75        20\n",
      "\n",
      "Confusion Matrix: \n",
      " [[7 2]\n",
      " [3 8]]\n"
     ]
    },
    {
     "data": {
      "image/png": "[encoded data removed]",
      "text/plain": [
       "<Figure size 288x288 with 1 Axes>"
      ]
     },
     "metadata": {
      "needs_background": "light"
     },
     "output_type": "display_data"
    },
    {
     "data": {
      "image/png": "[encoded data removed]",
      "text/plain": [
       "<Figure size 288x288 with 1 Axes>"
      ]
     },
     "metadata": {
      "needs_background": "light"
     },
     "output_type": "display_data"
    }
   ],
   "source": [
    "print(\"Accuracy Report for Training\")\n",
    "y_pred_train = prediction(model, x_train)\n",
    "accuracy_cm_report(y_train, y_pred_train, class_names=class_names)\n",
    "print('--------------------------------------------------------')\n",
    "print(\"Accuracy Report for Testing\")\n",
    "y_pred_test = prediction(model, x_test)\n",
    "accuracy_cm_report(y_test, y_pred_test, class_names=class_names)\n",
    "\n",
    "y_prob_mixed = model.predict_proba(x_test)[:,1]"
   ]
  },
  {
   "cell_type": "markdown",
   "metadata": {},
   "source": [
    "# 3. ROC AUC Curves\n",
    "\n",
    "https://inblog.in/AUC-ROC-score-and-curve-in-multiclass-classification-problems-2ja4jOHb2X\n",
    "https://stackoverflow.com/questions/52373318/how-to-compare-roc-auc-scores-of-different-binary-classifiers-and-assess-statist"
   ]
  },
  {
   "cell_type": "code",
   "execution_count": 351,
   "metadata": {
    "scrolled": true
   },
   "outputs": [
    {
     "data": {
      "image/png": "[encoded data removed]",
      "text/plain": [
       "<Figure size 576x432 with 1 Axes>"
      ]
     },
     "metadata": {
      "needs_background": "light"
     },
     "output_type": "display_data"
    }
   ],
   "source": [
    "import matplotlib\n",
    "\n",
    "x_train, x_test, y_train, y_test = \\\n",
    "        model_selection.train_test_split(x, y, test_size=0.25, stratify=y, random_state=42)\n",
    "\n",
    "def roc_curve_and_score(y_test, pred_proba):\n",
    "    fpr, tpr, _ = roc_curve(y_test.ravel(), pred_proba.ravel())\n",
    "    roc_auc = roc_auc_score(y_test.ravel(), pred_proba.ravel())\n",
    "    return fpr, tpr, roc_auc\n",
    "\n",
    "plt.figure(figsize=(8, 6))\n",
    "matplotlib.rcParams.update({'font.size': 14})\n",
    "plt.grid()\n",
    "\n",
    "#Categorical\n",
    "fpr, tpr, roc_auc = roc_curve_and_score(y_test, y_prob_categorical)\n",
    "plt.plot(fpr, tpr, color='darkorange', lw=2,\n",
    "         label='Categorical: ROC AUC={0:.3f}'.format(roc_auc))\n",
    "\n",
    "#Mixed\n",
    "fpr, tpr, roc_auc = roc_curve_and_score(y_test, y_prob_mixed)\n",
    "plt.plot(fpr, tpr, color='Pink', lw=2,\n",
    "         label='Mixed: ROC AUC={0:.3f}'.format(roc_auc))\n",
    "\n",
    "#Gaussian\n",
    "fpr, tpr, roc_auc = roc_curve_and_score(y_test, y_prob_gaussian)\n",
    "plt.plot(fpr, tpr, color='green', lw=2,\n",
    "         label='Gaussian: ROC AUC={0:.3f}'.format(roc_auc))\n",
    "\n",
    "#Bernoulli\n",
    "fpr, tpr, roc_auc = roc_curve_and_score(y_test, y_prob_bernoulli)\n",
    "plt.plot(fpr, tpr, color='navy', lw=2,\n",
    "         label='Bernoulli: ROC AUC={0:.3f}'.format(roc_auc))\n",
    "\n",
    "#Multinomial\n",
    "fpr, tpr, roc_auc = roc_curve_and_score(y_test, y_prob_multinomial)\n",
    "plt.plot(fpr, tpr, color='red', lw=2,\n",
    "         label='Multinomial: ROC AUC={0:.3f}'.format(roc_auc))\n",
    "\n",
    "#Complement\n",
    "fpr, tpr, roc_auc = roc_curve_and_score(y_test, y_prob_complement)\n",
    "plt.plot(fpr, tpr, color='brown', lw=2,\n",
    "         label='Complement: ROC AUC={0:.3f}'.format(roc_auc))\n",
    "\n",
    "plt.plot([0, 1], [0, 1], color='navy', lw=1, linestyle='--')\n",
    "plt.legend(loc=\"lower right\")\n",
    "plt.xlim([0.0, 1.0])\n",
    "plt.ylim([0.0, 1.05])\n",
    "plt.xlabel('Specificity (True Negative rate)')\n",
    "plt.ylabel('Sensitivity (True Positive rate)')\n",
    "plt.show()"
   ]
  },
  {
   "cell_type": "code",
   "execution_count": 376,
   "metadata": {},
   "outputs": [],
   "source": [
    "?GridSearchCV"
   ]
  },
  {
   "cell_type": "code",
   "execution_count": null,
   "metadata": {},
   "outputs": [],
   "source": []
  }
 ],
 "metadata": {
  "kernelspec": {
   "display_name": "Python 3",
   "language": "python",
   "name": "python3"
  },
  "language_info": {
   "codemirror_mode": {
    "name": "ipython",
    "version": 3
   },
   "file_extension": ".py",
   "mimetype": "text/x-python",
   "name": "python",
   "nbconvert_exporter": "python",
   "pygments_lexer": "ipython3",
   "version": "3.8.2"
  }
 },
 "nbformat": 4,
 "nbformat_minor": 4
}
