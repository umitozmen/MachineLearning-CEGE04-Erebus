{
 "cells": [
  {
   "cell_type": "markdown",
   "metadata": {},
   "source": [
    "### Instance-Based Learning"
   ]
  },
  {
   "attachments": {},
   "cell_type": "markdown",
   "metadata": {},
   "source": [
    "Instance-Based Learning is a family of supervised learning methods that simply store the training examples. Instance-based methods are sometimes referred to as \"lazy\" learning methods because they delay processing until a new instance must be classified. A key advantage of this kind of delayed, or lazy, learning is that instead of estimating the target function once for the entire instance space, these methods can estimate it locally and differently for each new instance to be classified [1].\n",
    "\n",
    "There are few instance-based learning algoritms, such as:\n",
    "1. K-nearest Neighbors (KNN)\n",
    "2. Collaborative filtering\n",
    "3. Support Vector Machine (SVM)\n",
    "\n",
    "The dataset that would be use for the assignment is Online Shoppers Purchasing Intention [2] (detail discussion on the dataset and how to pre-processing the data are discussed on \"Material\" section). The dataset is pre-processed to just include features that are considered have impacts on the outcomes. The dataset's features are either numerical/continuous (4 features) or categorical (5 features) with total data of 12,330 records so the dimentionality is considered low.  The dataset only has 2 classes (not multi-class). The instance-based learning algorithms that would be explored for the dataset is KNN and SVM. \n",
    "\n",
    "KNN is a very simple, easy to understand, versatile and one of the topmost machine learning algorithms. KNN calculates the approximate distances between the vectors and then assign the points which are not yet labeled to the class of its k-nearest neighbors. In KNN, K is the number of nearest neighbors. The number of neighbors is the core deciding factor. K is generally an odd number if the number of classes is 2. KNN performs better with a lower number of features than a large number of features [3]. \n",
    "\n",
    "KNN has the following basic steps:\n",
    "1. Calculate distance\n",
    "2. Find closest neighbors\n",
    "3. Vote for labels\n",
    "\n",
    "SVM offers very high accuracy compared to other classifiers such as logistic regression and decision trees. SVM works with the classifier separates data points using a hyperplane with the largest amount of margin. SVM finds an optimal hyperplane which helps in classifying new data points. The idea behind SVMs is to maximize the margin that better classifies the data. The hyperparameter 𝐶 set when training an SVM classifier is a tradeoff between encouraging larger margins by violating them or being stricter with the violations by making the margins smaller [4]. SVM searches for the maximum marginal hyperplane in the following steps [3]:\n",
    "1. Generate hyperplanes which segregates the classes in the best way. \n",
    "2. Select the right hyperplane with the maximum segregation from the either nearest data points."
   ]
  },
  {
   "cell_type": "markdown",
   "metadata": {},
   "source": [
    "#### K-nearest Neighbours\n",
    "The performance of the K-NN algorithm is influenced by three main factors:\n",
    "1. The distance function or distance metric used to determine the nearest neighbors.\n",
    "2. The decision rule used to derive a classification from the K-nearest neighbors.\n",
    "3. The number of neighbors used to classify the new example.\n",
    "\n",
    "To implement the classifier, the KNN algorithm from the scikit learn module was used (sklearn.neighborsKNeighborsClassifier). The parameter we need to tuning is weights, n_neighbors, and metric. We use GridSearchCV to select the best parameters from the listed hyperparameters. GridSearchCV is a library function that is a member of sklearn’s model_selection package. It helps to loop through predefined hyperparameters and fit the estimator (model) on your training set. The grid search picks out a grid of hyperparameter values, evaluates every one of them, and returns the winner. We can also determine the number of times for cross-validation for each set of hyperparameters. \n",
    "\n",
    "We split the dataset into a set for training (75%) and testing (25%) (stratified to ensure they both have the same class ratio). Then, a cross-validated grid-search method (GridSearchCV) over a manually set parameter grid was conducted to tune the hyperparameters and evaluate the models. The cross validation split the data into $k$ (typically 5 or 10 is generally optimal, but due to the smaller size of the dataset, 5 was selected to maintain representativeness of the samples) folds, where the data was fitted using $k-1$ folds and validated with the remaining fold for each parameter set. Therefore, we do not split the dataset into testing, validation and test. The GridSearchCV using cv=5 would do the work. \n",
    "\n",
    "The hyperparameter setting returning the highest average f1 score was then selected as the model for use on the test set. The performance metric used is 'f1', which is a weighted average of the precision and recall of the model [5]. The reason for choosing f1 score over the more commonly used 'Accuracy' is because of the class imbalance (high number of majority class 'False' examples), as the f1 score does not make use of the 'True Negatives' as with the case of 'Accuracy', but rather focuses on the ability of the model to predict the minority class correctly."
   ]
  },
  {
   "cell_type": "code",
   "execution_count": 3,
   "metadata": {},
   "outputs": [],
   "source": [
    "# import necessary modules for this notebook\n",
    "from IBL_Online_Shoppers import *"
   ]
  },
  {
   "cell_type": "code",
   "execution_count": 14,
   "metadata": {},
   "outputs": [],
   "source": [
    "def src_classifier_knn(x_train, y_train):\n",
    "    param_grid = [{'weights': [\"uniform\", \"distance\"],\n",
    "                   'n_neighbors': [1, 3, 5],\n",
    "                   'metric': ['euclidean', 'manhattan', 'cosine', 'minkowski', 'hamming']}]\n",
    "    \n",
    "    classifier = KNeighborsClassifier()\n",
    "    grid_search = GridSearchCV(classifier, param_grid, cv=5, verbose=0, scoring='f1')\n",
    "    grid_search.fit(x_train, y_train)\n",
    "    \n",
    "    classifier = grid_search.best_estimator_\n",
    "    print(classifier)\n",
    "    print(grid_search.best_params_)\n",
    "\n",
    "    classifier.fit(x_train, y_train)\n",
    "    return classifier"
   ]
  },
  {
   "cell_type": "code",
   "execution_count": 15,
   "metadata": {},
   "outputs": [
    {
     "name": "stdout",
     "output_type": "stream",
     "text": [
      "KNeighborsClassifier(metric='cosine', n_neighbors=1)\n",
      "{'metric': 'cosine', 'n_neighbors': 1, 'weights': 'uniform'}\n",
      "\n",
      "\n",
      "Accuracy Report for Training\n",
      "Train score 0.9998918568184276\n",
      "F1 Score: 1.00\n",
      "Train Confusion matrix\n"
     ]
    },
    {
     "data": {
      "image/png": "[encoded data removed]",
      "text/plain": [
       "<Figure size 432x288 with 2 Axes>"
      ]
     },
     "metadata": {
      "needs_background": "light"
     },
     "output_type": "display_data"
    },
    {
     "name": "stdout",
     "output_type": "stream",
     "text": [
      "              False      True\n",
      "precision  0.999872  1.000000\n",
      "recall     1.000000  0.999301\n"
     ]
    }
   ],
   "source": [
    "data_frame_os = read_data_return_frame(\"online_shoppers_intention.csv\")\n",
    "x, y, class_names, feature_names = preprocess_df(data_frame_os)\n",
    "x_train, x_test, y_train, y_test = train_test(x, y, test_size=0.25)\n",
    "classifier = src_classifier_knn(x_train, y_train)\n",
    "\n",
    "print(\"\\n\")\n",
    "print(\"Accuracy Report for Training\")\n",
    "y_pred_train = prediction(classifier, x_train)\n",
    "accuracy_cm_report(y_train, y_pred_train, class_names=class_names)"
   ]
  },
  {
   "cell_type": "code",
   "execution_count": 16,
   "metadata": {},
   "outputs": [
    {
     "name": "stdout",
     "output_type": "stream",
     "text": [
      "Accuracy Report for Testing\n",
      "Train score 0.7619202075900098\n",
      "F1 Score: 0.24\n",
      "Train Confusion matrix\n"
     ]
    },
    {
     "data": {
      "image/png": "[encoded data removed]",
      "text/plain": [
       "<Figure size 432x288 with 2 Axes>"
      ]
     },
     "metadata": {
      "needs_background": "light"
     },
     "output_type": "display_data"
    },
    {
     "name": "stdout",
     "output_type": "stream",
     "text": [
      "              False     True\n",
      "precision  0.860555  0.23614\n",
      "recall     0.857252  0.24109\n"
     ]
    }
   ],
   "source": [
    "print(\"Accuracy Report for Testing\")\n",
    "y_pred_test = prediction(classifier, x_test)\n",
    "accuracy_cm_report(y_test, y_pred_test, class_names=class_names)"
   ]
  },
  {
   "cell_type": "markdown",
   "metadata": {},
   "source": [
    "We can se that the GridSearchCV result for the best parameters are {'metric': 'cosine', 'n_neighbors': 1, 'weights': 'uniform'} based on highest average f1 score for the training dataset. We can see the f1 score for training dataset is 1.00 which is considered very high. However, using the same parameters, the f1 score for test dataset is 0.24 which is considered low. This is might be caused by the selected n_neighbours which is 1 make the classification overfit. There are some numbers that are tried as n_neighbour but after being compared with n_neighbour=1, the best parameter for n_neighbour is always one. It might also be caused by the dataset itself that is highly unbalanced, where the 'False' class outnumbers the 'True' class by a ratio of about 5:1. There is also possibility that the model does not perform very well because the dataset is not normalized. We will look how does SVM perform on the dataset.  "
   ]
  },
  {
   "cell_type": "markdown",
   "metadata": {},
   "source": [
    "#### Support Vector Machine\n",
    "Same as KNN or other machine learning algorithms, SVM also need to tune the parameters’ values to effectively improves model performance. There are some important parameters that having higher impact on model perofromance which are:\n",
    "1. kernel, specifies the kernel type to be used in the algorithm. It must be one of ‘linear’, ‘poly’, ‘rbf’, ‘sigmoid’, ‘precomputed’ or a callable. \n",
    "2. gamma, kernel coefficient for ‘rbf’, ‘poly’ and ‘sigmoid’.\n",
    "3. C, is regularization parameter. The strength of the regularization is inversely proportional to C. Must be strictly positive. \n",
    "\n",
    "To implement the classifier, the SVM algorithm from the scikit learn module was used (sklearn.svm.SVC). As discussed earlier, the parameter we need to tuning are kernel, gamma, and C. We use GridSearchCV to select the best parameters from the listed hyperparameters. We use GridSearchCV to select the best parameters from the listed hyperparameters that has been discussed earlier.\n",
    "\n",
    "We tried to search the classifier with the same dataset and scoring f1 as discussed earlier. However, using the dataset, GridSearchCV takes so much time and do not show result. Therefore, we perform another preprocessing of the dataset.\n",
    "\n",
    "The first pre-processed dataset \"data_frame_os\" represents the dataset in which the categorical variables have been factorized whilst the numerical variables are left untouched. We performed another pre-process of the dataset \"data_frame_os\" to become \"data_frame_os_cat\" that represents the transformed dataset in which all variables have been set to categorical. Both of the datasets shown below."
   ]
  },
  {
   "cell_type": "code",
   "execution_count": 12,
   "metadata": {},
   "outputs": [
    {
     "data": {
      "text/html": [
       "<div>\n",
       "<style scoped>\n",
       "    .dataframe tbody tr th:only-of-type {\n",
       "        vertical-align: middle;\n",
       "    }\n",
       "\n",
       "    .dataframe tbody tr th {\n",
       "        vertical-align: top;\n",
       "    }\n",
       "\n",
       "    .dataframe thead th {\n",
       "        text-align: right;\n",
       "    }\n",
       "</style>\n",
       "<table border=\"1\" class=\"dataframe\">\n",
       "  <thead>\n",
       "    <tr style=\"text-align: right;\">\n",
       "      <th></th>\n",
       "      <th>ProductRelated_Duration</th>\n",
       "      <th>ProductRelatedAve</th>\n",
       "      <th>BounceRates</th>\n",
       "      <th>ExitRates</th>\n",
       "      <th>SpecialDay</th>\n",
       "      <th>Month</th>\n",
       "      <th>Region</th>\n",
       "      <th>VisitorType</th>\n",
       "      <th>Weekend</th>\n",
       "      <th>Revenue</th>\n",
       "    </tr>\n",
       "  </thead>\n",
       "  <tbody>\n",
       "    <tr>\n",
       "      <th>0</th>\n",
       "      <td>0.000000</td>\n",
       "      <td>0.000000</td>\n",
       "      <td>0.200000</td>\n",
       "      <td>0.200000</td>\n",
       "      <td>0.0</td>\n",
       "      <td>0</td>\n",
       "      <td>0</td>\n",
       "      <td>0</td>\n",
       "      <td>0</td>\n",
       "      <td>False</td>\n",
       "    </tr>\n",
       "    <tr>\n",
       "      <th>1</th>\n",
       "      <td>64.000000</td>\n",
       "      <td>32.000000</td>\n",
       "      <td>0.000000</td>\n",
       "      <td>0.100000</td>\n",
       "      <td>0.0</td>\n",
       "      <td>0</td>\n",
       "      <td>0</td>\n",
       "      <td>0</td>\n",
       "      <td>0</td>\n",
       "      <td>False</td>\n",
       "    </tr>\n",
       "    <tr>\n",
       "      <th>2</th>\n",
       "      <td>0.000000</td>\n",
       "      <td>0.000000</td>\n",
       "      <td>0.200000</td>\n",
       "      <td>0.200000</td>\n",
       "      <td>0.0</td>\n",
       "      <td>0</td>\n",
       "      <td>1</td>\n",
       "      <td>0</td>\n",
       "      <td>0</td>\n",
       "      <td>False</td>\n",
       "    </tr>\n",
       "    <tr>\n",
       "      <th>3</th>\n",
       "      <td>2.666667</td>\n",
       "      <td>1.333333</td>\n",
       "      <td>0.050000</td>\n",
       "      <td>0.140000</td>\n",
       "      <td>0.0</td>\n",
       "      <td>0</td>\n",
       "      <td>2</td>\n",
       "      <td>0</td>\n",
       "      <td>0</td>\n",
       "      <td>False</td>\n",
       "    </tr>\n",
       "    <tr>\n",
       "      <th>4</th>\n",
       "      <td>627.500000</td>\n",
       "      <td>62.750000</td>\n",
       "      <td>0.020000</td>\n",
       "      <td>0.050000</td>\n",
       "      <td>0.0</td>\n",
       "      <td>0</td>\n",
       "      <td>0</td>\n",
       "      <td>0</td>\n",
       "      <td>1</td>\n",
       "      <td>False</td>\n",
       "    </tr>\n",
       "    <tr>\n",
       "      <th>...</th>\n",
       "      <td>...</td>\n",
       "      <td>...</td>\n",
       "      <td>...</td>\n",
       "      <td>...</td>\n",
       "      <td>...</td>\n",
       "      <td>...</td>\n",
       "      <td>...</td>\n",
       "      <td>...</td>\n",
       "      <td>...</td>\n",
       "      <td>...</td>\n",
       "    </tr>\n",
       "    <tr>\n",
       "      <th>12325</th>\n",
       "      <td>1783.791667</td>\n",
       "      <td>33.656447</td>\n",
       "      <td>0.007143</td>\n",
       "      <td>0.029031</td>\n",
       "      <td>0.0</td>\n",
       "      <td>9</td>\n",
       "      <td>0</td>\n",
       "      <td>0</td>\n",
       "      <td>1</td>\n",
       "      <td>False</td>\n",
       "    </tr>\n",
       "    <tr>\n",
       "      <th>12326</th>\n",
       "      <td>465.750000</td>\n",
       "      <td>93.150000</td>\n",
       "      <td>0.000000</td>\n",
       "      <td>0.021333</td>\n",
       "      <td>0.0</td>\n",
       "      <td>7</td>\n",
       "      <td>0</td>\n",
       "      <td>0</td>\n",
       "      <td>1</td>\n",
       "      <td>False</td>\n",
       "    </tr>\n",
       "    <tr>\n",
       "      <th>12327</th>\n",
       "      <td>184.250000</td>\n",
       "      <td>30.708333</td>\n",
       "      <td>0.083333</td>\n",
       "      <td>0.086667</td>\n",
       "      <td>0.0</td>\n",
       "      <td>7</td>\n",
       "      <td>0</td>\n",
       "      <td>0</td>\n",
       "      <td>1</td>\n",
       "      <td>False</td>\n",
       "    </tr>\n",
       "    <tr>\n",
       "      <th>12328</th>\n",
       "      <td>346.000000</td>\n",
       "      <td>23.066667</td>\n",
       "      <td>0.000000</td>\n",
       "      <td>0.021053</td>\n",
       "      <td>0.0</td>\n",
       "      <td>7</td>\n",
       "      <td>3</td>\n",
       "      <td>0</td>\n",
       "      <td>0</td>\n",
       "      <td>False</td>\n",
       "    </tr>\n",
       "    <tr>\n",
       "      <th>12329</th>\n",
       "      <td>21.250000</td>\n",
       "      <td>7.083333</td>\n",
       "      <td>0.000000</td>\n",
       "      <td>0.066667</td>\n",
       "      <td>0.0</td>\n",
       "      <td>7</td>\n",
       "      <td>0</td>\n",
       "      <td>1</td>\n",
       "      <td>1</td>\n",
       "      <td>False</td>\n",
       "    </tr>\n",
       "  </tbody>\n",
       "</table>\n",
       "<p>12330 rows × 10 columns</p>\n",
       "</div>"
      ],
      "text/plain": [
       "       ProductRelated_Duration  ProductRelatedAve  BounceRates  ExitRates  \\\n",
       "0                     0.000000           0.000000     0.200000   0.200000   \n",
       "1                    64.000000          32.000000     0.000000   0.100000   \n",
       "2                     0.000000           0.000000     0.200000   0.200000   \n",
       "3                     2.666667           1.333333     0.050000   0.140000   \n",
       "4                   627.500000          62.750000     0.020000   0.050000   \n",
       "...                        ...                ...          ...        ...   \n",
       "12325              1783.791667          33.656447     0.007143   0.029031   \n",
       "12326               465.750000          93.150000     0.000000   0.021333   \n",
       "12327               184.250000          30.708333     0.083333   0.086667   \n",
       "12328               346.000000          23.066667     0.000000   0.021053   \n",
       "12329                21.250000           7.083333     0.000000   0.066667   \n",
       "\n",
       "       SpecialDay  Month  Region  VisitorType  Weekend  Revenue  \n",
       "0             0.0      0       0            0        0    False  \n",
       "1             0.0      0       0            0        0    False  \n",
       "2             0.0      0       1            0        0    False  \n",
       "3             0.0      0       2            0        0    False  \n",
       "4             0.0      0       0            0        1    False  \n",
       "...           ...    ...     ...          ...      ...      ...  \n",
       "12325         0.0      9       0            0        1    False  \n",
       "12326         0.0      7       0            0        1    False  \n",
       "12327         0.0      7       0            0        1    False  \n",
       "12328         0.0      7       3            0        0    False  \n",
       "12329         0.0      7       0            1        1    False  \n",
       "\n",
       "[12330 rows x 10 columns]"
      ]
     },
     "execution_count": 12,
     "metadata": {},
     "output_type": "execute_result"
    }
   ],
   "source": [
    "data_frame_os"
   ]
  },
  {
   "cell_type": "code",
   "execution_count": 17,
   "metadata": {},
   "outputs": [
    {
     "data": {
      "text/html": [
       "<div>\n",
       "<style scoped>\n",
       "    .dataframe tbody tr th:only-of-type {\n",
       "        vertical-align: middle;\n",
       "    }\n",
       "\n",
       "    .dataframe tbody tr th {\n",
       "        vertical-align: top;\n",
       "    }\n",
       "\n",
       "    .dataframe thead th {\n",
       "        text-align: right;\n",
       "    }\n",
       "</style>\n",
       "<table border=\"1\" class=\"dataframe\">\n",
       "  <thead>\n",
       "    <tr style=\"text-align: right;\">\n",
       "      <th></th>\n",
       "      <th>ProductRelated_Duration</th>\n",
       "      <th>ProductRelatedAve</th>\n",
       "      <th>BounceRates</th>\n",
       "      <th>ExitRates</th>\n",
       "      <th>SpecialDay</th>\n",
       "      <th>Month</th>\n",
       "      <th>Region</th>\n",
       "      <th>VisitorType</th>\n",
       "      <th>Weekend</th>\n",
       "      <th>Revenue</th>\n",
       "    </tr>\n",
       "  </thead>\n",
       "  <tbody>\n",
       "    <tr>\n",
       "      <th>0</th>\n",
       "      <td>0</td>\n",
       "      <td>0</td>\n",
       "      <td>2</td>\n",
       "      <td>4</td>\n",
       "      <td>0</td>\n",
       "      <td>0</td>\n",
       "      <td>0</td>\n",
       "      <td>0</td>\n",
       "      <td>0</td>\n",
       "      <td>False</td>\n",
       "    </tr>\n",
       "    <tr>\n",
       "      <th>1</th>\n",
       "      <td>0</td>\n",
       "      <td>2</td>\n",
       "      <td>0</td>\n",
       "      <td>4</td>\n",
       "      <td>0</td>\n",
       "      <td>0</td>\n",
       "      <td>0</td>\n",
       "      <td>0</td>\n",
       "      <td>0</td>\n",
       "      <td>False</td>\n",
       "    </tr>\n",
       "    <tr>\n",
       "      <th>2</th>\n",
       "      <td>0</td>\n",
       "      <td>0</td>\n",
       "      <td>2</td>\n",
       "      <td>4</td>\n",
       "      <td>0</td>\n",
       "      <td>0</td>\n",
       "      <td>1</td>\n",
       "      <td>0</td>\n",
       "      <td>0</td>\n",
       "      <td>False</td>\n",
       "    </tr>\n",
       "    <tr>\n",
       "      <th>3</th>\n",
       "      <td>0</td>\n",
       "      <td>0</td>\n",
       "      <td>2</td>\n",
       "      <td>4</td>\n",
       "      <td>0</td>\n",
       "      <td>0</td>\n",
       "      <td>2</td>\n",
       "      <td>0</td>\n",
       "      <td>0</td>\n",
       "      <td>False</td>\n",
       "    </tr>\n",
       "    <tr>\n",
       "      <th>4</th>\n",
       "      <td>2</td>\n",
       "      <td>4</td>\n",
       "      <td>1</td>\n",
       "      <td>3</td>\n",
       "      <td>0</td>\n",
       "      <td>0</td>\n",
       "      <td>0</td>\n",
       "      <td>0</td>\n",
       "      <td>1</td>\n",
       "      <td>False</td>\n",
       "    </tr>\n",
       "    <tr>\n",
       "      <th>...</th>\n",
       "      <td>...</td>\n",
       "      <td>...</td>\n",
       "      <td>...</td>\n",
       "      <td>...</td>\n",
       "      <td>...</td>\n",
       "      <td>...</td>\n",
       "      <td>...</td>\n",
       "      <td>...</td>\n",
       "      <td>...</td>\n",
       "      <td>...</td>\n",
       "    </tr>\n",
       "    <tr>\n",
       "      <th>12325</th>\n",
       "      <td>4</td>\n",
       "      <td>2</td>\n",
       "      <td>0</td>\n",
       "      <td>2</td>\n",
       "      <td>0</td>\n",
       "      <td>9</td>\n",
       "      <td>0</td>\n",
       "      <td>0</td>\n",
       "      <td>1</td>\n",
       "      <td>False</td>\n",
       "    </tr>\n",
       "    <tr>\n",
       "      <th>12326</th>\n",
       "      <td>2</td>\n",
       "      <td>4</td>\n",
       "      <td>0</td>\n",
       "      <td>2</td>\n",
       "      <td>0</td>\n",
       "      <td>7</td>\n",
       "      <td>0</td>\n",
       "      <td>0</td>\n",
       "      <td>1</td>\n",
       "      <td>False</td>\n",
       "    </tr>\n",
       "    <tr>\n",
       "      <th>12327</th>\n",
       "      <td>1</td>\n",
       "      <td>2</td>\n",
       "      <td>2</td>\n",
       "      <td>4</td>\n",
       "      <td>0</td>\n",
       "      <td>7</td>\n",
       "      <td>0</td>\n",
       "      <td>0</td>\n",
       "      <td>1</td>\n",
       "      <td>False</td>\n",
       "    </tr>\n",
       "    <tr>\n",
       "      <th>12328</th>\n",
       "      <td>1</td>\n",
       "      <td>1</td>\n",
       "      <td>0</td>\n",
       "      <td>2</td>\n",
       "      <td>0</td>\n",
       "      <td>7</td>\n",
       "      <td>3</td>\n",
       "      <td>0</td>\n",
       "      <td>0</td>\n",
       "      <td>False</td>\n",
       "    </tr>\n",
       "    <tr>\n",
       "      <th>12329</th>\n",
       "      <td>0</td>\n",
       "      <td>0</td>\n",
       "      <td>0</td>\n",
       "      <td>4</td>\n",
       "      <td>0</td>\n",
       "      <td>7</td>\n",
       "      <td>0</td>\n",
       "      <td>1</td>\n",
       "      <td>1</td>\n",
       "      <td>False</td>\n",
       "    </tr>\n",
       "  </tbody>\n",
       "</table>\n",
       "<p>12330 rows × 10 columns</p>\n",
       "</div>"
      ],
      "text/plain": [
       "      ProductRelated_Duration ProductRelatedAve BounceRates ExitRates  \\\n",
       "0                           0                 0           2         4   \n",
       "1                           0                 2           0         4   \n",
       "2                           0                 0           2         4   \n",
       "3                           0                 0           2         4   \n",
       "4                           2                 4           1         3   \n",
       "...                       ...               ...         ...       ...   \n",
       "12325                       4                 2           0         2   \n",
       "12326                       2                 4           0         2   \n",
       "12327                       1                 2           2         4   \n",
       "12328                       1                 1           0         2   \n",
       "12329                       0                 0           0         4   \n",
       "\n",
       "       SpecialDay  Month  Region  VisitorType  Weekend  Revenue  \n",
       "0               0      0       0            0        0    False  \n",
       "1               0      0       0            0        0    False  \n",
       "2               0      0       1            0        0    False  \n",
       "3               0      0       2            0        0    False  \n",
       "4               0      0       0            0        1    False  \n",
       "...           ...    ...     ...          ...      ...      ...  \n",
       "12325           0      9       0            0        1    False  \n",
       "12326           0      7       0            0        1    False  \n",
       "12327           0      7       0            0        1    False  \n",
       "12328           0      7       3            0        0    False  \n",
       "12329           0      7       0            1        1    False  \n",
       "\n",
       "[12330 rows x 10 columns]"
      ]
     },
     "execution_count": 17,
     "metadata": {},
     "output_type": "execute_result"
    }
   ],
   "source": [
    "data_frame_os_cat = data_frame_os.copy()\n",
    "convert_num_to_cat(data_frame_os_cat) # function bins the continuous variables and label encodes it\n",
    "data_frame_os_cat"
   ]
  },
  {
   "cell_type": "markdown",
   "metadata": {},
   "source": [
    "We performed GridSearchCV for SVM with new dataset \"data_frame_os_cat\". The result is shown below."
   ]
  },
  {
   "cell_type": "code",
   "execution_count": 19,
   "metadata": {},
   "outputs": [],
   "source": [
    "def src_classifier_svm(x_train, y_train):\n",
    "    parameters = {'kernel': ('linear', 'rbf', 'sigmoid'), 'gamma': ('scale', 'auto'), 'C': (7,8,13)}\n",
    "    svc = SVC()\n",
    "    grid_search = GridSearchCV(svc, parameters, cv=5, verbose=0, scoring='f1')\n",
    "    grid_search.fit(x_train, y_train)\n",
    "\n",
    "    classifier = grid_search.best_estimator_\n",
    "    print(classifier)\n",
    "    print(grid_search.best_params_)\n",
    "\n",
    "    classifier.fit(x_train, y_train)\n",
    "    return classifier"
   ]
  },
  {
   "cell_type": "code",
   "execution_count": 37,
   "metadata": {
    "scrolled": true
   },
   "outputs": [
    {
     "name": "stdout",
     "output_type": "stream",
     "text": [
      "SVC(C=8, kernel='sigmoid')\n",
      "{'C': 8, 'gamma': 'scale', 'kernel': 'sigmoid'}\n",
      "Accuracy Report for Training\n",
      "Train score 0.7572185573699578\n",
      "F1 Score: 0.21\n",
      "Train Confusion matrix\n"
     ]
    },
    {
     "data": {
      "image/png": "[encoded data removed]",
      "text/plain": [
       "<Figure size 432x288 with 2 Axes>"
      ]
     },
     "metadata": {
      "needs_background": "light"
     },
     "output_type": "display_data"
    },
    {
     "name": "stdout",
     "output_type": "stream",
     "text": [
      "              False      True\n",
      "precision  0.856157  0.214586\n",
      "recall     0.856704  0.213836\n"
     ]
    }
   ],
   "source": [
    "x_cat, y_cat = preprocess_df_cat(data_frame_os_cat)\n",
    "x_train, x_test, y_train, y_test = train_test(x_cat, y_cat, test_size=0.25)\n",
    "x_train, y_train = reshape(x_train, y_train)\n",
    "classifier = src_classifier_svm(x_train, y_train)\n",
    "\n",
    "print(\"Accuracy Report for Training\")\n",
    "y_pred_train = prediction(classifier, x_train)\n",
    "accuracy_cm_report(y_train, y_pred_train, class_names=class_names)"
   ]
  },
  {
   "cell_type": "code",
   "execution_count": 24,
   "metadata": {},
   "outputs": [
    {
     "name": "stdout",
     "output_type": "stream",
     "text": [
      "Accuracy Report for Testing\n",
      "Train score 0.7421342847875446\n",
      "F1 Score: 0.19\n",
      "Train Confusion matrix\n"
     ]
    },
    {
     "data": {
      "image/png": "[encoded data removed]",
      "text/plain": [
       "<Figure size 432x288 with 2 Axes>"
      ]
     },
     "metadata": {
      "needs_background": "light"
     },
     "output_type": "display_data"
    },
    {
     "name": "stdout",
     "output_type": "stream",
     "text": [
      "              False      True\n",
      "precision  0.851378  0.185771\n",
      "recall     0.841903  0.197065\n"
     ]
    }
   ],
   "source": [
    "x_test, y_test = reshape(x_test, y_test)\n",
    "\n",
    "print(\"Accuracy Report for Testing\")\n",
    "y_pred_test = prediction(classifier, x_test)\n",
    "accuracy_cm_report(y_test, y_pred_test, class_names=class_names)"
   ]
  },
  {
   "cell_type": "markdown",
   "metadata": {},
   "source": [
    "We can se that the GridSearchCV result for the best parameters are {'C': 8, 'gamma': 'scale', 'kernel': 'sigmoid'} based on highest average f1 score for the training dataset. We can see the f1 scores for training and test dataset are both less than or equal to 0.21 which is considered low. It might be caused by the dataset itself that is highly unbalanced, where the 'False' class outnumbers the 'True' class by a ratio of about 5:1. There is also possibility that the model does not perform very well because the dataset is not normalized.\n",
    "\n",
    "In this report, we tried to cover the imbalanced data issue by performing resampling technique. Resampling techniques may be helpful in helping to address the issue of class imbalance [6]. There are three methods that are tested in this report which are oversampling, downsampling and synthetic minority oversampling. \n",
    "\n",
    "Oversampling adds more copies of the minority class in the training set to make it even with the majority class, while conversely downsampling removes observations of the majority class. We cannot use the whole dataset when performing resample. We need to divide the dataset into training set and test set before performing resample. The resampling module from Scikit-Learn has been used to achieve this. Meanwhile, synthetic minority oversampling oversampling technique (SMOTE) creates synthetic samples using a nearest neighbors algorithm to generate new and synthetic data. This is done using the SMOTE function from the imblearn module."
   ]
  },
  {
   "cell_type": "markdown",
   "metadata": {},
   "source": [
    "#### Upsampling"
   ]
  },
  {
   "cell_type": "code",
   "execution_count": 23,
   "metadata": {},
   "outputs": [],
   "source": [
    "def upsample_minority(x, y):\n",
    "    # concatenate our training data back together\n",
    "    X = pd.concat([x, y], axis=1)\n",
    "\n",
    "    # separate minority and majority classes\n",
    "    not_true = X[X.Revenue == 0]\n",
    "    true = X[X.Revenue == 1]\n",
    "\n",
    "    # upsample minority\n",
    "    true_upsampled = resample(true,\n",
    "                              replace=True,  # sample with replacement\n",
    "                              n_samples=len(not_true),  # match number in majority class\n",
    "                              random_state=43)  # reproducible results\n",
    "\n",
    "    # combine majority and upsampled minority\n",
    "    upsampled = pd.concat([not_true, true_upsampled])\n",
    "\n",
    "    # check new class counts\n",
    "    upsampled.Revenue.value_counts()\n",
    "\n",
    "    y = upsampled.Revenue\n",
    "    x = upsampled.drop('Revenue', axis=1)\n",
    "\n",
    "    return x, y"
   ]
  },
  {
   "cell_type": "code",
   "execution_count": 53,
   "metadata": {},
   "outputs": [
    {
     "name": "stdout",
     "output_type": "stream",
     "text": [
      "KNeighborsClassifier(metric='hamming', n_neighbors=3, weights='distance')\n",
      "{'metric': 'hamming', 'n_neighbors': 3, 'weights': 'distance'}\n",
      "\n",
      "\n",
      "Accuracy Report for Training with KNN\n",
      "Train score 0.9318065506653019\n",
      "F1 Score: 0.93\n",
      "Train Confusion matrix\n"
     ]
    },
    {
     "data": {
      "image/png": "[encoded data removed]",
      "text/plain": [
       "<Figure size 432x288 with 2 Axes>"
      ]
     },
     "metadata": {
      "needs_background": "light"
     },
     "output_type": "display_data"
    },
    {
     "name": "stdout",
     "output_type": "stream",
     "text": [
      "              False      True\n",
      "precision  0.952656  0.912794\n",
      "recall     0.908777  0.954836\n"
     ]
    }
   ],
   "source": [
    "x_train, x_test, y_train, y_test = train_test(x_cat, y_cat, test_size=0.25)\n",
    "\n",
    "x_train, y_train = upsample_minority(x_train, y_train)\n",
    "classifier = src_classifier_knn(x_train, y_train)\n",
    "\n",
    "print(\"\\n\")\n",
    "print(\"Accuracy Report for Training with KNN\")\n",
    "y_pred_train = prediction(classifier, x_train)\n",
    "accuracy_cm_report(y_train, y_pred_train, class_names=class_names)\n"
   ]
  },
  {
   "cell_type": "code",
   "execution_count": 54,
   "metadata": {},
   "outputs": [
    {
     "name": "stdout",
     "output_type": "stream",
     "text": [
      "Accuracy Report for Testing KNN\n",
      "Train score 0.70969834576711\n",
      "F1 Score: 0.31\n",
      "Train Confusion matrix\n"
     ]
    },
    {
     "data": {
      "image/png": "[encoded data removed]",
      "text/plain": [
       "<Figure size 432x288 with 2 Axes>"
      ]
     },
     "metadata": {
      "needs_background": "light"
     },
     "output_type": "display_data"
    },
    {
     "name": "stdout",
     "output_type": "stream",
     "text": [
      "              False      True\n",
      "precision  0.877371  0.243873\n",
      "recall     0.763239  0.417191\n"
     ]
    }
   ],
   "source": [
    "print(\"Accuracy Report for Testing KNN\")\n",
    "y_pred_test = prediction(classifier, x_test)\n",
    "accuracy_cm_report(y_test, y_pred_test, class_names=class_names)\n"
   ]
  },
  {
   "cell_type": "code",
   "execution_count": 46,
   "metadata": {},
   "outputs": [
    {
     "name": "stdout",
     "output_type": "stream",
     "text": [
      "SVC(C=19)\n",
      "{'C': 19, 'kernel': 'rbf'}\n",
      "\n",
      "\n",
      "Accuracy Report for Training with SVM\n",
      "Train score 0.7250511770726714\n",
      "F1 Score: 0.75\n",
      "Train Confusion matrix\n"
     ]
    },
    {
     "data": {
      "image/png": "[encoded data removed]",
      "text/plain": [
       "<Figure size 432x288 with 2 Axes>"
      ]
     },
     "metadata": {
      "needs_background": "light"
     },
     "output_type": "display_data"
    },
    {
     "name": "stdout",
     "output_type": "stream",
     "text": [
      "              False      True\n",
      "precision  0.787418  0.684924\n",
      "recall     0.616556  0.833547\n"
     ]
    }
   ],
   "source": [
    "def src_classifier_svm_up(x_train, y_train):\n",
    "    parameters = {'kernel': ('linear', 'rbf'), 'C': (15,17,19)}\n",
    "    svc = SVC()\n",
    "    grid_search = GridSearchCV(svc, parameters, cv=5, verbose=0)\n",
    "    grid_search.fit(x_train, y_train)\n",
    "\n",
    "    classifier = grid_search.best_estimator_\n",
    "    print(classifier)\n",
    "    print(grid_search.best_params_)\n",
    "\n",
    "    classifier.fit(x_train, y_train)\n",
    "    return classifier\n",
    "\n",
    "x_train, x_test, y_train, y_test = train_test(x_cat, y_cat, test_size=0.25)\n",
    "\n",
    "x_train, y_train = upsample_minority(x_train, y_train)\n",
    "classifier = src_classifier_svm_up(x_train, y_train)\n",
    "\n",
    "print(\"\\n\")\n",
    "print(\"Accuracy Report for Training with SVM\")\n",
    "y_pred_train = prediction(classifier, x_train)\n",
    "accuracy_cm_report(y_train, y_pred_train, class_names=class_names)"
   ]
  },
  {
   "cell_type": "code",
   "execution_count": 47,
   "metadata": {},
   "outputs": [
    {
     "name": "stdout",
     "output_type": "stream",
     "text": [
      "Accuracy Report for Testing SVM\n",
      "Train score 0.6143366850470321\n",
      "F1 Score: 0.37\n",
      "Train Confusion matrix\n"
     ]
    },
    {
     "data": {
      "image/png": "[encoded data removed]",
      "text/plain": [
       "<Figure size 432x288 with 2 Axes>"
      ]
     },
     "metadata": {
      "needs_background": "light"
     },
     "output_type": "display_data"
    },
    {
     "name": "stdout",
     "output_type": "stream",
     "text": [
      "              False      True\n",
      "precision  0.927064  0.250000\n",
      "recall     0.590177  0.746331\n"
     ]
    }
   ],
   "source": [
    "print(\"Accuracy Report for Testing SVM\")\n",
    "y_pred_test = prediction(classifier, x_test)\n",
    "accuracy_cm_report(y_test, y_pred_test, class_names=class_names)"
   ]
  },
  {
   "cell_type": "markdown",
   "metadata": {},
   "source": [
    "We can se that the GridSearchCV result changes for the upsampled dataset both for KNN and SVM. We can also see the increase of f1 scores for testing with KNN and SVM. Overall, after upsampling, SVM performs better thatn KNN for test data. There are many numbers has been tried as C parameter of the SVM and the \"f1\" score increase as \"C\" increase. However, the searching time is also increase and we selected \"C\" with acceptable processing time."
   ]
  },
  {
   "cell_type": "markdown",
   "metadata": {},
   "source": [
    "#### Downsampling"
   ]
  },
  {
   "cell_type": "code",
   "execution_count": 48,
   "metadata": {},
   "outputs": [],
   "source": [
    "def downsample_majority(x, y):\n",
    "    # concatenate our training data back together\n",
    "    X = pd.concat([x, y], axis=1)\n",
    "\n",
    "    # separate minority and majority classes\n",
    "    not_true = X[X.Revenue == 0]\n",
    "    true = X[X.Revenue == 1]\n",
    "\n",
    "    # downsample minority\n",
    "    not_true_downsampled = resample(not_true,\n",
    "                                    replace=False,  # sample without replacement\n",
    "                                    n_samples=len(true),  # match minority n\n",
    "                                    random_state=42)  # reproducible results\n",
    "\n",
    "    # combine majority and upsampled minority\n",
    "    downsampled = pd.concat([not_true_downsampled, true])\n",
    "\n",
    "    # check new class counts\n",
    "    downsampled.Revenue.value_counts()\n",
    "\n",
    "    y = downsampled.Revenue\n",
    "    x = downsampled.drop('Revenue', axis=1)\n",
    "\n",
    "    return x, y"
   ]
  },
  {
   "cell_type": "code",
   "execution_count": 49,
   "metadata": {},
   "outputs": [
    {
     "name": "stdout",
     "output_type": "stream",
     "text": [
      "KNeighborsClassifier(metric='euclidean')\n",
      "{'metric': 'euclidean', 'n_neighbors': 5, 'weights': 'uniform'}\n",
      "\n",
      "\n",
      "Accuracy Report for Training with KNN\n",
      "Train score 0.7624039133473096\n",
      "F1 Score: 0.77\n",
      "Train Confusion matrix\n"
     ]
    },
    {
     "data": {
      "image/png": "[encoded data removed]",
      "text/plain": [
       "<Figure size 432x288 with 2 Axes>"
      ]
     },
     "metadata": {
      "needs_background": "light"
     },
     "output_type": "display_data"
    },
    {
     "name": "stdout",
     "output_type": "stream",
     "text": [
      "              False      True\n",
      "precision  0.775092  0.750835\n",
      "recall     0.739343  0.785465\n"
     ]
    }
   ],
   "source": [
    "x_train, x_test, y_train, y_test = train_test(x_cat, y_cat, test_size=0.25)\n",
    "\n",
    "x_train, y_train = downsample_majority(x_train, y_train)\n",
    "classifier = src_classifier_knn(x_train, y_train)\n",
    "\n",
    "print(\"\\n\")\n",
    "print(\"Accuracy Report for Training with KNN\")\n",
    "y_pred_train = prediction(classifier, x_train)\n",
    "accuracy_cm_report(y_train, y_pred_train, class_names=class_names)"
   ]
  },
  {
   "cell_type": "code",
   "execution_count": 50,
   "metadata": {},
   "outputs": [
    {
     "name": "stdout",
     "output_type": "stream",
     "text": [
      "Accuracy Report for Testing KNN\n",
      "Train score 0.618877716509893\n",
      "F1 Score: 0.34\n",
      "Train Confusion matrix\n"
     ]
    },
    {
     "data": {
      "image/png": "[encoded data removed]",
      "text/plain": [
       "<Figure size 432x288 with 2 Axes>"
      ]
     },
     "metadata": {
      "needs_background": "light"
     },
     "output_type": "display_data"
    },
    {
     "name": "stdout",
     "output_type": "stream",
     "text": [
      "              False      True\n",
      "precision  0.904924  0.234802\n",
      "recall     0.613584  0.647799\n"
     ]
    }
   ],
   "source": [
    "print(\"Accuracy Report for Testing KNN\")\n",
    "y_pred_test = prediction(classifier, x_test)\n",
    "accuracy_cm_report(y_test, y_pred_test, class_names=class_names)"
   ]
  },
  {
   "cell_type": "code",
   "execution_count": 51,
   "metadata": {},
   "outputs": [
    {
     "name": "stdout",
     "output_type": "stream",
     "text": [
      "SVC(C=19)\n",
      "{'C': 19, 'kernel': 'rbf'}\n",
      "\n",
      "\n",
      "Accuracy Report for Training with SVM\n",
      "Train score 0.7204751921733054\n",
      "F1 Score: 0.75\n",
      "Train Confusion matrix\n"
     ]
    },
    {
     "data": {
      "image/png": "[encoded data removed]",
      "text/plain": [
       "<Figure size 432x288 with 2 Axes>"
      ]
     },
     "metadata": {
      "needs_background": "light"
     },
     "output_type": "display_data"
    },
    {
     "name": "stdout",
     "output_type": "stream",
     "text": [
      "              False     True\n",
      "precision  0.781948  0.68101\n",
      "recall     0.611461  0.82949\n"
     ]
    }
   ],
   "source": [
    "def src_classifier_svm_down(x_train, y_train):\n",
    "    parameters = {'kernel': ('linear', 'rbf'), 'C': (15,17,19)}\n",
    "    svc = SVC()\n",
    "    grid_search = GridSearchCV(svc, parameters, cv=5, verbose=0)\n",
    "    grid_search.fit(x_train, y_train)\n",
    "\n",
    "    classifier = grid_search.best_estimator_\n",
    "    print(classifier)\n",
    "    print(grid_search.best_params_)\n",
    "\n",
    "    classifier.fit(x_train, y_train)\n",
    "    return classifier\n",
    "\n",
    "x_train, x_test, y_train, y_test = train_test(x_cat, y_cat, test_size=0.25)\n",
    "\n",
    "x_train, y_train = downsample_majority(x_train, y_train)\n",
    "classifier = src_classifier_svm_up(x_train, y_train)\n",
    "\n",
    "print(\"\\n\")\n",
    "print(\"Accuracy Report for Training with SVM\")\n",
    "y_pred_train = prediction(classifier, x_train)\n",
    "accuracy_cm_report(y_train, y_pred_train, class_names=class_names)"
   ]
  },
  {
   "cell_type": "code",
   "execution_count": 52,
   "metadata": {},
   "outputs": [
    {
     "name": "stdout",
     "output_type": "stream",
     "text": [
      "Accuracy Report for Testing KNN\n",
      "Train score 0.5806033084657801\n",
      "F1 Score: 0.37\n",
      "Train Confusion matrix\n"
     ]
    },
    {
     "data": {
      "image/png": "[encoded data removed]",
      "text/plain": [
       "<Figure size 432x288 with 2 Axes>"
      ]
     },
     "metadata": {
      "needs_background": "light"
     },
     "output_type": "display_data"
    },
    {
     "name": "stdout",
     "output_type": "stream",
     "text": [
      "              False      True\n",
      "precision  0.933333  0.239796\n",
      "recall     0.542594  0.788260\n"
     ]
    }
   ],
   "source": [
    "print(\"Accuracy Report for Testing KNN\")\n",
    "y_pred_test = prediction(classifier, x_test)\n",
    "accuracy_cm_report(y_test, y_pred_test, class_names=class_names)"
   ]
  },
  {
   "cell_type": "markdown",
   "metadata": {},
   "source": [
    "We can se that the GridSearchCV result changes for the downsampled dataset both for KNN and SVM. We can also see the f1 scores for testing with KNN and SVM with downsample is around the same with upsample."
   ]
  },
  {
   "cell_type": "code",
   "execution_count": null,
   "metadata": {},
   "outputs": [],
   "source": []
  }
 ],
 "metadata": {
  "kernelspec": {
   "display_name": "Python 3",
   "language": "python",
   "name": "python3"
  },
  "language_info": {
   "codemirror_mode": {
    "name": "ipython",
    "version": 3
   },
   "file_extension": ".py",
   "mimetype": "text/x-python",
   "name": "python",
   "nbconvert_exporter": "python",
   "pygments_lexer": "ipython3",
   "version": "3.8.5"
  }
 },
 "nbformat": 4,
 "nbformat_minor": 4
}
