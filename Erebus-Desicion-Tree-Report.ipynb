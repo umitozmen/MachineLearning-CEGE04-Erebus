{
 "cells": [
  {
   "cell_type": "markdown",
   "metadata": {},
   "source": [
    "# Decision Tree\n",
    "\n",
    "In this notebook we build a desicion tree based on Online Shoppers Purchasing Intention Dataset. We explore hyperparameters of the desicion tree using the ID3 decision tree learner from scikit-learn library. Learning algorithms that we looked at:\n",
    "\n",
    "- Learning Algorithms\n",
    "    - Gini \n",
    "    - Entropy\n",
    "\n",
    "We also explore pre pruning methods to see if there is any improvement in accuracy and reliablitly of our desicion tree for both of above learning algorithms \n",
    "\n",
    "- Pre-pruning Methods\n",
    "    - max_depth: maximum depth of decision tree: - [5,10,15]\n",
    "    - min_sample_split: The minimum number of samples required to split an internal node - [2,3,4]\n",
    "    - min_samples_leaf: The minimum number of samples required to be at a leaf no  - [1,2]\n",
    "\n",
    "Finally, we investigate the nature of our imbalanced data on our best model with selecting equal number of samples from each class group to balance learning on these groups."
   ]
  },
  {
   "cell_type": "markdown",
   "metadata": {},
   "source": [
    "## The Dataset\n",
    "\n",
    "- Class Names: indicating a revenue when True else False - ['False', 'True']\n",
    "- Feature Names: ['ProductRelated_Duration', 'ProductRelatedAve', 'BounceRates', 'ExitRates', 'SpecialDay', 'Month', 'Region', 'VisitorType', 'Weekend']"
   ]
  },
  {
   "cell_type": "markdown",
   "metadata": {},
   "source": [
    "## The Code"
   ]
  },
  {
   "cell_type": "markdown",
   "metadata": {},
   "source": [
    "Our code is saved in the same folder with this report under descion_tree.py and data set is also at the same location called \"online_shoppers_intention.csv\". We created a set of definitions to help build our model"
   ]
  },
  {
   "cell_type": "code",
   "execution_count": 1,
   "metadata": {},
   "outputs": [],
   "source": [
    "from Desicion_Tree import *"
   ]
  },
  {
   "cell_type": "code",
   "execution_count": 2,
   "metadata": {},
   "outputs": [],
   "source": [
    "data_frame_os = read_data_return_frame(\"online_shoppers_intention.csv\")"
   ]
  },
  {
   "cell_type": "code",
   "execution_count": 3,
   "metadata": {},
   "outputs": [],
   "source": [
    "x, y, class_names, feature_names = preprocess_df(data_frame_os)"
   ]
  },
  {
   "cell_type": "code",
   "execution_count": 4,
   "metadata": {},
   "outputs": [],
   "source": [
    "x_train, x_test, y_train, y_test, classifier = train_test_classifier(x, y, test_size = 0.25, criterion='gini')"
   ]
  },
  {
   "cell_type": "markdown",
   "metadata": {},
   "source": [
    "* Creating prediction on training set using Gini Index without setting hyperparameters. This creates 100% accuracy and precision as expected"
   ]
  },
  {
   "cell_type": "code",
   "execution_count": 5,
   "metadata": {},
   "outputs": [
    {
     "name": "stdout",
     "output_type": "stream",
     "text": [
      "Train score 0.9998918568184276\n",
      "Train Confusion matrix\n"
     ]
    },
    {
     "data": {
      "image/png": "[encoded data removed]",
      "text/plain": [
       "<Figure size 432x288 with 2 Axes>"
      ]
     },
     "metadata": {
      "needs_background": "light"
     },
     "output_type": "display_data"
    },
    {
     "name": "stdout",
     "output_type": "stream",
     "text": [
      "              False      True\n",
      "precision  0.999872  1.000000\n",
      "recall     1.000000  0.999301\n"
     ]
    }
   ],
   "source": [
    "y_pred_train = prediction(classifier, x_train)\n",
    "accuracy_cm_report(y_train, y_pred_train, class_names = class_names, dom='Train')"
   ]
  },
  {
   "cell_type": "markdown",
   "metadata": {},
   "source": [
    "* Creating prediction on validation set using Gini Index without setting hyperparameters. This creates 74% accuracy and 86% precision on False and 23% on True. This clearly shows that our model is overfitting on out trainin data. \n",
    "\n",
    "* It is important to nore that recall value is very low on True class which indicates the unbalanced nature of our data."
   ]
  },
  {
   "cell_type": "code",
   "execution_count": 6,
   "metadata": {},
   "outputs": [
    {
     "name": "stdout",
     "output_type": "stream",
     "text": [
      "Validation score 0.7489458319818358\n",
      "Validation Confusion matrix\n"
     ]
    },
    {
     "data": {
      "image/png": "[encoded data removed]",
      "text/plain": [
       "<Figure size 432x288 with 2 Axes>"
      ]
     },
     "metadata": {
      "needs_background": "light"
     },
     "output_type": "display_data"
    },
    {
     "name": "stdout",
     "output_type": "stream",
     "text": [
      "              False      True\n",
      "precision  0.861199  0.228519\n",
      "recall     0.838066  0.262055\n"
     ]
    }
   ],
   "source": [
    "y_pred_test = prediction(classifier, x_test)\n",
    "accuracy_cm_report(y_test, y_pred_test, class_names = class_names, dom='Validation')"
   ]
  },
  {
   "cell_type": "markdown",
   "metadata": {},
   "source": [
    "* Since we are aware that we are overfitting our data to our model, we can define hyperparameters to find best pruning model. For this we will use GridSearchCV adn extract best_estimator."
   ]
  },
  {
   "cell_type": "code",
   "execution_count": 7,
   "metadata": {},
   "outputs": [],
   "source": [
    "from sklearn import tree\n",
    "from sklearn.model_selection import GridSearchCV\n",
    "\n",
    "params = {'max_depth': [6,7,8,9,10],\n",
    "         'min_samples_split': [2,3,4,5],\n",
    "         'min_samples_leaf': [2,3,4,5]}"
   ]
  },
  {
   "cell_type": "code",
   "execution_count": 8,
   "metadata": {},
   "outputs": [
    {
     "data": {
      "text/plain": [
       "GridSearchCV(estimator=DecisionTreeClassifier(),\n",
       "             param_grid={'max_depth': [6, 7, 8, 9, 10],\n",
       "                         'min_samples_leaf': [2, 3, 4, 5],\n",
       "                         'min_samples_split': [2, 3, 4, 5]})"
      ]
     },
     "execution_count": 8,
     "metadata": {},
     "output_type": "execute_result"
    }
   ],
   "source": [
    "clf = tree.DecisionTreeClassifier()\n",
    "gcv = GridSearchCV(estimator=clf,param_grid=params)\n",
    "gcv.fit(x_train,y_train)"
   ]
  },
  {
   "cell_type": "code",
   "execution_count": 9,
   "metadata": {},
   "outputs": [
    {
     "name": "stdout",
     "output_type": "stream",
     "text": [
      "Best Parameters are : {'max_depth': 6, 'min_samples_leaf': 3, 'min_samples_split': 3}\n"
     ]
    }
   ],
   "source": [
    "model = gcv.best_estimator_\n",
    "model.fit(x_train,y_train)\n",
    "\n",
    "print(f'Best Parameters are : {gcv.best_params_}')\n"
   ]
  },
  {
   "cell_type": "markdown",
   "metadata": {},
   "source": [
    "* We now train our desicion tree with the best parameters we could find"
   ]
  },
  {
   "cell_type": "code",
   "execution_count": 10,
   "metadata": {},
   "outputs": [
    {
     "name": "stdout",
     "output_type": "stream",
     "text": [
      "Train score 0.8504379798853682\n",
      "Train Confusion matrix\n"
     ]
    },
    {
     "data": {
      "image/png": "[encoded data removed]",
      "text/plain": [
       "<Figure size 432x288 with 2 Axes>"
      ]
     },
     "metadata": {
      "needs_background": "light"
     },
     "output_type": "display_data"
    },
    {
     "name": "stdout",
     "output_type": "stream",
     "text": [
      "              False     True\n",
      "precision  0.867306  0.54898\n",
      "recall     0.971725  0.18798\n"
     ]
    }
   ],
   "source": [
    "y_pred_train = model.predict(x_train)\n",
    "y_pred_test = model.predict(x_test)\n",
    "\n",
    "accuracy_cm_report(y_train, y_pred_train, class_names = class_names, dom='Train')"
   ]
  },
  {
   "cell_type": "markdown",
   "metadata": {},
   "source": [
    "While we decrease the accuracy in training set intentionally to avoid overfitting. Below is the effect that hyperparameters have on validation set"
   ]
  },
  {
   "cell_type": "code",
   "execution_count": 11,
   "metadata": {},
   "outputs": [
    {
     "name": "stdout",
     "output_type": "stream",
     "text": [
      "Validation score 0.8384690236782355\n",
      "Validation Confusion matrix\n"
     ]
    },
    {
     "data": {
      "image/png": "[encoded data removed]",
      "text/plain": [
       "<Figure size 432x288 with 2 Axes>"
      ]
     },
     "metadata": {
      "needs_background": "light"
     },
     "output_type": "display_data"
    },
    {
     "name": "stdout",
     "output_type": "stream",
     "text": [
      "              False      True\n",
      "precision  0.863699  0.443243\n",
      "recall     0.960476  0.171908\n"
     ]
    }
   ],
   "source": [
    "accuracy_cm_report(y_test, y_pred_test, class_names = class_names, dom='Validation')"
   ]
  },
  {
   "cell_type": "markdown",
   "metadata": {},
   "source": [
    "* With parameters used on validation set we are now reporting 83% on accuracy which is 9% more than previous version.\n",
    "    * Where presicion stays almost the same for False class True class presicion increased by 22%\n",
    "    * We observe an uplift on recall value on False class but 5% decrease on True class"
   ]
  },
  {
   "cell_type": "markdown",
   "metadata": {},
   "source": [
    "# Avoiding Inbalanced Selection on Training Set"
   ]
  },
  {
   "cell_type": "markdown",
   "metadata": {},
   "source": [
    "* First we find out what is the proportion of classes"
   ]
  },
  {
   "cell_type": "code",
   "execution_count": 23,
   "metadata": {},
   "outputs": [
    {
     "name": "stdout",
     "output_type": "stream",
     "text": [
      "True class has 1908 elements where False class has 10422 elements and the ratio is 5.462264150943396\n"
     ]
    }
   ],
   "source": [
    "x_true = x[y==1]\n",
    "x_false = x[y==0]\n",
    "y_true = y[y==1]\n",
    "y_false = y[y==0]\n",
    "\n",
    "print(f'True class has {len(y_true)} elements where False class has {len(y_false)} elements and the ratio is \\\n",
    "{len(y_false)/len(y_true)}')"
   ]
  },
  {
   "cell_type": "markdown",
   "metadata": {},
   "source": [
    "StratifiedKFold is a variation of k-fold which returns stratified folds: each set contains approximately the same percentage of samples of each target class as the complete set (sklearn.model_selection.StratifiedKFold — scikit-learn 0.24.1 documentation, n.d.)."
   ]
  },
  {
   "cell_type": "code",
   "execution_count": 20,
   "metadata": {},
   "outputs": [
    {
     "name": "stdout",
     "output_type": "stream",
     "text": [
      "train -  [6948 1272]   |   test -  [3474  636]\n",
      "train -  [6948 1272]   |   test -  [3474  636]\n",
      "train -  [6948 1272]   |   test -  [3474  636]\n"
     ]
    }
   ],
   "source": [
    "from sklearn.model_selection import StratifiedKFold\n",
    "\n",
    "skf = StratifiedKFold(n_splits=3)\n",
    "for train, test in skf.split(x, y):\n",
    "    print('train -  {}   |   test -  {}'.format(\n",
    "        np.bincount(y[train]), np.bincount(y[test])))\n"
   ]
  },
  {
   "cell_type": "markdown",
   "metadata": {},
   "source": [
    "* It is common, in the case of class imbalances in particular, to use stratified n-fold cross-validation, which ensures that the proportion of positive to negative examples found in the original distribution is respected in all the folds (Haixiang et al., 2017)."
   ]
  },
  {
   "cell_type": "code",
   "execution_count": 25,
   "metadata": {},
   "outputs": [
    {
     "name": "stdout",
     "output_type": "stream",
     "text": [
      "Train score 0.8482968369829683\n",
      "              False      True\n",
      "precision  0.857878  0.549020\n",
      "recall     0.983448  0.110063\n",
      "Test score 0.845985401459854\n",
      "              False      True\n",
      "precision  0.845873  1.000000\n",
      "recall     1.000000  0.004717\n",
      "Train score 0.8482968369829683\n",
      "              False      True\n",
      "precision  0.848174  0.878788\n",
      "recall     0.999424  0.022799\n",
      "Test score 0.7401459854014598\n",
      "              False      True\n",
      "precision  0.842345  0.137584\n",
      "recall     0.852044  0.128931\n",
      "Train score 0.8635036496350365\n",
      "              False      True\n",
      "precision  0.876065  0.658228\n",
      "recall     0.976684  0.245283\n",
      "Test score 0.32116788321167883\n",
      "              False      True\n",
      "precision  0.871739  0.162382\n",
      "recall     0.230858  0.814465\n"
     ]
    }
   ],
   "source": [
    "for train_index, test_index in skf.split(x, y):\n",
    "    x_train, x_test= x[train_index], x[test_index]\n",
    "    y_train, y_test= y[train_index], y[test_index]\n",
    "    \n",
    "    model.fit(x_train,y_train)\n",
    "    y_pred_train = model.predict(x_train)\n",
    "    y_pred_test = model.predict(x_test)\n",
    "\n",
    "    accuracy_cm_report(y_train, y_pred_train, class_names = class_names, dom='Train', brk = False)\n",
    "    accuracy_cm_report(y_test, y_pred_test, class_names = class_names, dom='Test', brk = False)"
   ]
  },
  {
   "cell_type": "markdown",
   "metadata": {},
   "source": [
    "# References\n",
    "\n",
    "sklearn.model_selection.StratifiedKFold — scikit-learn 0.24.1 documentation. (n.d.). \n",
    "    Retrieved from https://scikit-learn.org/stable/modules/generated/sklearn.model_selection.StratifiedKFold.html\n",
    "\n",
    "Haixiang, G., Yijing, L., Shang, J., Mingyun, G., Yuanyue, H., & Bing, G. (2017). Learning from class-imbalanced data:\n",
    "    Review of methods and applications. Expert Systems with Applications, 73, 220–239.\n",
    "\n",
    "\n"
   ]
  },
  {
   "cell_type": "code",
   "execution_count": null,
   "metadata": {},
   "outputs": [],
   "source": []
  },
  {
   "cell_type": "code",
   "execution_count": null,
   "metadata": {},
   "outputs": [],
   "source": []
  },
  {
   "cell_type": "code",
   "execution_count": null,
   "metadata": {},
   "outputs": [],
   "source": []
  }
 ],
 "metadata": {
  "kernelspec": {
   "display_name": "Python 3",
   "language": "python",
   "name": "python3"
  },
  "language_info": {
   "codemirror_mode": {
    "name": "ipython",
    "version": 3
   },
   "file_extension": ".py",
   "mimetype": "text/x-python",
   "name": "python",
   "nbconvert_exporter": "python",
   "pygments_lexer": "ipython3",
   "version": "3.8.6"
  }
 },
 "nbformat": 4,
 "nbformat_minor": 4
}
