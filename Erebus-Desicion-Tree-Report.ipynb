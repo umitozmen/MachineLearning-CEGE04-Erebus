{
 "cells": [
  {
   "cell_type": "markdown",
   "metadata": {},
   "source": [
    "# Decision Tree\n",
    "\n",
    "In this notebook we build a desicion tree based on Online Shoppers Purchasing Intention Dataset. We explore hyperparameters of the desicion tree using the ID3 decision tree learner from scikit-learn library. Learning algorithms that we looked at:\n",
    "\n",
    "- Learning Algorithms\n",
    "    - Gini \n",
    "    - Entropy\n",
    "\n",
    "We also explore pre pruning methods to see if there is any improvement in accuracy and reliablitly of our desicion tree for both of above learning algorithms \n",
    "\n",
    "- Pre-pruning Methods\n",
    "    - max_depth: maximum depth of decision tree: - [5,10,15]\n",
    "    - min_sample_split: The minimum number of samples required to split an internal node - [2,3,4]\n",
    "    - min_samples_leaf: The minimum number of samples required to be at a leaf no  - [1,2]\n",
    "\n",
    "Finally, we investigate the nature of our imbalanced data on our best model with selecting equal number of samples from each class group to balance learning on these groups."
   ]
  },
  {
   "cell_type": "markdown",
   "metadata": {},
   "source": [
    "## The Dataset\n",
    "\n",
    "- Class Names: indicating a revenue when True else False - ['False', 'True']\n",
    "- Feature Names: ['ProductRelated_Duration', 'ProductRelatedAve', 'BounceRates', 'ExitRates', 'SpecialDay', 'Month', 'Region', 'VisitorType', 'Weekend']"
   ]
  },
  {
   "cell_type": "markdown",
   "metadata": {},
   "source": [
    "## The Code"
   ]
  },
  {
   "cell_type": "markdown",
   "metadata": {},
   "source": [
    "Our code is saved in the same folder with this report under descion_tree.py and data set is also at the same location called \"online_shoppers_intention.csv\". We created a set of definitions to help build our model"
   ]
  },
  {
   "cell_type": "code",
   "execution_count": 1,
   "metadata": {},
   "outputs": [],
   "source": [
    "from Desicion_Tree import *"
   ]
  },
  {
   "cell_type": "code",
   "execution_count": 2,
   "metadata": {},
   "outputs": [],
   "source": [
    "data_frame_os = read_data_return_frame(\"online_shoppers_intention.csv\")"
   ]
  },
  {
   "cell_type": "code",
   "execution_count": 3,
   "metadata": {},
   "outputs": [],
   "source": [
    "x, y, class_names, feature_names = preprocess_df(data_frame_os)"
   ]
  },
  {
   "cell_type": "code",
   "execution_count": 4,
   "metadata": {},
   "outputs": [],
   "source": [
    "x_train, x_test, y_train, y_test, classifier = train_test_classifier(x, y, test_size = 0.25, criterion='gini')"
   ]
  },
  {
   "cell_type": "markdown",
   "metadata": {},
   "source": [
    "* Creating prediction on training set using Gini Index without setting hyperparameters. This creates 100% accuracy and precision as expected"
   ]
  },
  {
   "cell_type": "code",
   "execution_count": 5,
   "metadata": {},
   "outputs": [
    {
     "name": "stdout",
     "output_type": "stream",
     "text": [
      "Train score 0.9997837136368551\n",
      "Train Confusion matrix\n"
     ]
    },
    {
     "data": {
      "image/png": "[encoded data removed]",
      "text/plain": [
       "<Figure size 432x288 with 2 Axes>"
      ]
     },
     "metadata": {
      "needs_background": "light"
     },
     "output_type": "display_data"
    },
    {
     "name": "stdout",
     "output_type": "stream",
     "text": [
      "              False      True\n",
      "precision  0.999745  1.000000\n",
      "recall     1.000000  0.998591\n",
      "f1-score   0.999872  0.999295\n"
     ]
    }
   ],
   "source": [
    "y_pred_train = prediction(classifier, x_train)\n",
    "accuracy_cm_report(y_train, y_pred_train, class_names = class_names, dom='Train')"
   ]
  },
  {
   "cell_type": "markdown",
   "metadata": {},
   "source": [
    "* Creating prediction on validation set using Gini Index without setting hyperparameters. This creates 74% accuracy and 86% precision on False and 23% on True. This clearly shows that our model is overfitting on out trainin data. \n",
    "\n",
    "* It is important to nore that recall value is very low on True class which indicates the unbalanced nature of our data."
   ]
  },
  {
   "cell_type": "code",
   "execution_count": 6,
   "metadata": {},
   "outputs": [
    {
     "name": "stdout",
     "output_type": "stream",
     "text": [
      "Validation score 0.7680830360038923\n",
      "Validation Confusion matrix\n"
     ]
    },
    {
     "data": {
      "image/png": "[encoded data removed]",
      "text/plain": [
       "<Figure size 432x288 with 2 Axes>"
      ]
     },
     "metadata": {
      "needs_background": "light"
     },
     "output_type": "display_data"
    },
    {
     "name": "stdout",
     "output_type": "stream",
     "text": [
      "              False      True\n",
      "precision  0.864006  0.274900\n",
      "recall     0.859676  0.282209\n",
      "f1-score   0.861836  0.278507\n"
     ]
    }
   ],
   "source": [
    "y_pred_test = prediction(classifier, x_test)\n",
    "accuracy_cm_report(y_test, y_pred_test, class_names = class_names, dom='Validation')"
   ]
  },
  {
   "cell_type": "markdown",
   "metadata": {},
   "source": [
    "## Grid Search for Best Parameters"
   ]
  },
  {
   "cell_type": "markdown",
   "metadata": {},
   "source": [
    "* Since we are aware that we are overfitting our data to our model, we can define hyperparameters to find best pruning model. For this we will use GridSearchCV and extract best_estimator. We also set scoring parameter to 'f1' to overcome unbalanced nature of our data. "
   ]
  },
  {
   "cell_type": "markdown",
   "metadata": {},
   "source": [
    "The F1 score can be interpreted as a weighted average of the precision and recall, where an F1 score reaches its best value at 1 and worst score at 0. The relative contribution of precision and recall to the F1 score are equal. The formula for the F1 score is :\n",
    "\n",
    "                    F1 = 2 * (precision * recall) / (precision + recall)\n",
    "                    \n",
    "(sklearn.metrics.f1_score — scikit-learn 0.24.1 documentation, n.d.)"
   ]
  },
  {
   "cell_type": "code",
   "execution_count": 116,
   "metadata": {},
   "outputs": [],
   "source": [
    "from sklearn import tree\n",
    "from sklearn.model_selection import GridSearchCV\n",
    "\n",
    "params = {'max_depth': [5,6,7,8,None],\n",
    "          'min_samples_leaf': [5,6,7,8],\n",
    "          'min_samples_split': [5,6,7,8,9]\n",
    "         }"
   ]
  },
  {
   "cell_type": "code",
   "execution_count": 117,
   "metadata": {},
   "outputs": [
    {
     "data": {
      "text/plain": [
       "GridSearchCV(estimator=DecisionTreeClassifier(),\n",
       "             param_grid={'max_depth': [5, 6, 7, 8, None],\n",
       "                         'min_samples_leaf': [5, 6, 7, 8],\n",
       "                         'min_samples_split': [5, 6, 7, 8, 9]},\n",
       "             scoring='f1')"
      ]
     },
     "execution_count": 117,
     "metadata": {},
     "output_type": "execute_result"
    }
   ],
   "source": [
    "clf = tree.DecisionTreeClassifier(criterion='gini')\n",
    "gcv = GridSearchCV(estimator=clf,param_grid=params, scoring='f1')\n",
    "gcv.fit(x_train,y_train)"
   ]
  },
  {
   "cell_type": "code",
   "execution_count": 108,
   "metadata": {},
   "outputs": [
    {
     "name": "stdout",
     "output_type": "stream",
     "text": [
      "Best Parameters are : {'max_depth': None, 'min_samples_leaf': 7, 'min_samples_split': 6}\n"
     ]
    }
   ],
   "source": [
    "print(f'Best Parameters are : {gcv.best_params_}')"
   ]
  },
  {
   "cell_type": "markdown",
   "metadata": {},
   "source": [
    "* We now train our desicion tree with the best parameters we could find"
   ]
  },
  {
   "cell_type": "code",
   "execution_count": 109,
   "metadata": {},
   "outputs": [
    {
     "name": "stdout",
     "output_type": "stream",
     "text": [
      "Train score 0.8923975343354601\n",
      "Train Confusion matrix\n"
     ]
    },
    {
     "data": {
      "image/png": "[encoded data removed]",
      "text/plain": [
       "<Figure size 432x288 with 2 Axes>"
      ]
     },
     "metadata": {
      "needs_background": "light"
     },
     "output_type": "display_data"
    },
    {
     "name": "stdout",
     "output_type": "stream",
     "text": [
      "              False      True\n",
      "precision  0.916494  0.703065\n",
      "recall     0.960399  0.517266\n",
      "f1-score   0.937933  0.596021\n"
     ]
    }
   ],
   "source": [
    "y_pred_train = gcv.predict(x_train)\n",
    "y_pred_test = gcv.predict(x_test)\n",
    "\n",
    "accuracy_cm_report(y_train, y_pred_train, class_names = class_names, dom='Train')"
   ]
  },
  {
   "cell_type": "markdown",
   "metadata": {},
   "source": [
    "While we decrease the accuracy in training set intentionally to avoid overfitting. Below is the effect that hyperparameters have on validation set"
   ]
  },
  {
   "cell_type": "code",
   "execution_count": 110,
   "metadata": {},
   "outputs": [
    {
     "name": "stdout",
     "output_type": "stream",
     "text": [
      "Validation score 0.7969510217320791\n",
      "Validation Confusion matrix\n"
     ]
    },
    {
     "data": {
      "image/png": "[encoded data removed]",
      "text/plain": [
       "<Figure size 432x288 with 2 Axes>"
      ]
     },
     "metadata": {
      "needs_background": "light"
     },
     "output_type": "display_data"
    },
    {
     "name": "stdout",
     "output_type": "stream",
     "text": [
      "              False      True\n",
      "precision  0.861499  0.310249\n",
      "recall     0.904009  0.229039\n",
      "f1-score   0.882242  0.263529\n"
     ]
    }
   ],
   "source": [
    "accuracy_cm_report(y_test, y_pred_test, class_names = class_names, dom='Validation')"
   ]
  },
  {
   "cell_type": "markdown",
   "metadata": {},
   "source": [
    "* With parameters used on validation set we are now reporting 79% on accuracy which is 3% more than previous version.\n",
    "    * Where presicion stays almost the same for False class True class presicion increased by 4%\n",
    "    * We observe a slight uplift on F1 value on False class but still slight decrease on True class"
   ]
  },
  {
   "cell_type": "markdown",
   "metadata": {},
   "source": [
    "## Best Parameters with Entropy"
   ]
  },
  {
   "cell_type": "code",
   "execution_count": 112,
   "metadata": {},
   "outputs": [
    {
     "data": {
      "text/plain": [
       "GridSearchCV(estimator=DecisionTreeClassifier(criterion='entropy'),\n",
       "             param_grid={'max_depth': [5, 6, 7, 8, None],\n",
       "                         'min_samples_leaf': [5, 6, 7, 8],\n",
       "                         'min_samples_split': [5, 6, 7, 8, 9]},\n",
       "             scoring='f1')"
      ]
     },
     "execution_count": 112,
     "metadata": {},
     "output_type": "execute_result"
    }
   ],
   "source": [
    "clf = tree.DecisionTreeClassifier(criterion='entropy')\n",
    "gcv = GridSearchCV(estimator=clf,param_grid=params, scoring='f1')\n",
    "gcv.fit(x_train,y_train)"
   ]
  },
  {
   "cell_type": "code",
   "execution_count": 114,
   "metadata": {},
   "outputs": [],
   "source": [
    "y_pred_test = gcv.predict(x_test)"
   ]
  },
  {
   "cell_type": "code",
   "execution_count": 115,
   "metadata": {},
   "outputs": [
    {
     "name": "stdout",
     "output_type": "stream",
     "text": [
      "Validation score 0.7865715212455401\n",
      "Validation Confusion matrix\n"
     ]
    },
    {
     "data": {
      "image/png": "[encoded data removed]",
      "text/plain": [
       "<Figure size 432x288 with 2 Axes>"
      ]
     },
     "metadata": {
      "needs_background": "light"
     },
     "output_type": "display_data"
    },
    {
     "name": "stdout",
     "output_type": "stream",
     "text": [
      "              False      True\n",
      "precision  0.862004  0.293399\n",
      "recall     0.888589  0.245399\n",
      "f1-score   0.875095  0.267261\n"
     ]
    }
   ],
   "source": [
    "accuracy_cm_report(y_test, y_pred_test, class_names = class_names, dom='Validation')"
   ]
  },
  {
   "cell_type": "markdown",
   "metadata": {},
   "source": [
    "* When Entropy used as learning algorithm overall accuracy reported 1% less than gini wih similar outcomes on False and True classses. There is a slight increase by 2% on recall value for True class where presicion is down by 2%"
   ]
  },
  {
   "attachments": {},
   "cell_type": "markdown",
   "metadata": {},
   "source": [
    "## Conclusion\n",
    "\n",
    "* We have seen that hyperparameters used in this example slightly increased the persicion and F1 values for classes as aganist overfitter version that does not use any scoring adjustment or pre-pruning technics. \n",
    "\n",
    "\n",
    "* There are no context-independent or usage independent reasons to favor one learning or classification method over another. If one algorithm seems to outperform in a particular situation, it is a consequence of its fit to the particular problem.(Module CEGE0004 Week-07 Lecture Slides).  We will perform other supervised machine learning technics to investigate further.\n"
   ]
  },
  {
   "cell_type": "markdown",
   "metadata": {},
   "source": [
    "# References\n",
    "\n",
    "sklearn.model_selection.StratifiedKFold — scikit-learn 0.24.1 documentation. (n.d.). \n",
    "    Retrieved from https://scikit-learn.org/stable/modules/generated/sklearn.model_selection.StratifiedKFold.html\n",
    "\n",
    "Haixiang, G., Yijing, L., Shang, J., Mingyun, G., Yuanyue, H., & Bing, G. (2017). Learning from class-imbalanced data:\n",
    "    Review of methods and applications. Expert Systems with Applications, 73, 220–239.\n",
    "\n",
    "\n"
   ]
  },
  {
   "cell_type": "markdown",
   "metadata": {},
   "source": [
    "sklearn.metrics.f1_score — scikit-learn 0.24.1 documentation. (n.d.). Retrieved from https://scikit-learn.org/stable/modules/generated/sklearn.metrics.f1_score.html\n",
    "\n"
   ]
  },
  {
   "cell_type": "markdown",
   "metadata": {},
   "source": [
    "Lipani, A. (2021) UCL (University College London)Module CEGE0004 Week-07 Lecture Slides, Page 5"
   ]
  }
 ],
 "metadata": {
  "kernelspec": {
   "display_name": "Python 3",
   "language": "python",
   "name": "python3"
  },
  "language_info": {
   "codemirror_mode": {
    "name": "ipython",
    "version": 3
   },
   "file_extension": ".py",
   "mimetype": "text/x-python",
   "name": "python",
   "nbconvert_exporter": "python",
   "pygments_lexer": "ipython3",
   "version": "3.8.6"
  }
 },
 "nbformat": 4,
 "nbformat_minor": 4
}
